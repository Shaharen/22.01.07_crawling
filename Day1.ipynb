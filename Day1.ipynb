{
 "cells": [
  {
   "cell_type": "markdown",
   "id": "da4c4878",
   "metadata": {},
   "source": [
    "### 크롤링\n",
    "- 웹 페이지를 그대로 가져와서 가져온 페이지에서 데이터를 추출해 내는 행위"
   ]
  },
  {
   "cell_type": "markdown",
   "id": "044772c7",
   "metadata": {},
   "source": [
    "## Requests 사용법"
   ]
  },
  {
   "cell_type": "code",
   "execution_count": 1,
   "id": "1edae9ba",
   "metadata": {},
   "outputs": [],
   "source": [
    "# 서버에 페이지 정보를 요청할 때 사용하는 라이브러리\n",
    "import requests as req"
   ]
  },
  {
   "cell_type": "code",
   "execution_count": 2,
   "id": "43f3e6e7",
   "metadata": {},
   "outputs": [
    {
     "data": {
      "text/plain": [
       "<Response [200]>"
      ]
     },
     "execution_count": 2,
     "metadata": {},
     "output_type": "execute_result"
    }
   ],
   "source": [
    "url = 'https://www.naver.com/'\n",
    "res = req.get(url)\n",
    "res\n",
    "# < Response [200] > : 응답 성공"
   ]
  },
  {
   "cell_type": "code",
   "execution_count": 3,
   "id": "fe9567b8",
   "metadata": {},
   "outputs": [
    {
     "data": {
      "text/plain": [
       "'\\n<!doctype html>                          <html lang=\"ko\" data-dark=\"false\"> <head> <meta charset=\"utf-8\"> <title>NAVER</title> <meta http-equiv=\"X-UA-Compatible\" content=\"IE=edge\"> <meta name=\"viewport\" content=\"width=1190\"> <meta name=\"apple-mobile-web-app-title\" content=\"NAVER\"/> <meta name=\"robots\" content=\"index,nofollow\"/> <meta name=\"description\" content=\"네이버 메인에서 다양한 정보와 유용한 컨텐츠를 만나 보세요\"/> <meta property=\"og:title\" content=\"네이버\"> <meta property=\"og:url\" content=\"https://www.naver.com/\"> <meta property=\"og:image\" content=\"https://s.pstatic.net/static/www/mobile/edit/2016/0705/mobile_212852414260.png\"> <meta property=\"og:description\" content=\"네이버 메인에서 다양한 정보와 유용한 컨텐츠를 만나 보세요\"/> <meta name=\"twitter:card\" content=\"summary\"> <meta name=\"twitter:title\" content=\"\"> <meta name=\"twitter:url\" content=\"https://www.naver.com/\"> <meta name=\"twitter:image\" content=\"https://s.pstatic.net/static/www/mobile/edit/2016/0705/mobile_212852414260.png\"> <meta name=\"twitter:description\" content=\"네이버 메인에서 다양한 정보와 유용한 컨텐츠를 만나 보세요\"/>  <link rel=\"stylesheet\" href=\"https://pm.pstatic.net/dist/css/nmain.20220106.css\"> <link rel=\"stylesheet\" href=\"https://ssl.pstatic.net/sstatic/search/pc/css/sp_autocomplete_210318.css\"> <link rel=\"shortcut icon\" type=\"image/x-icon\" href=\"/favicon.ico?1\"/>  <link rel=\"apple-touch-icon\" sizes=\"114x114\" href=\"https://s.pstatic.net/static/www/u/2014/0328/mma_204243574.png\"/> <link rel=\"apple-touch-icon\" href=\"https://s.pstatic.net/static/www/u/2014/0328/mma_20432863.png\"/> <script>window.nmain=window.nmain||{},window.nmain.supportFlicking=!1;var nsc=\"navertop.v4\",ua=navigator.userAgent,useIeJSFlag=\"1\";window.nmain.isIE=\"0\"===useIeJSFlag,document.getElementsByTagName(\"html\")[0].setAttribute(\"data-useragent\",ua),window.nmain.isIE&&(Object.create=function(n){function e(){}return e.prototype=n,new e})</script> <script>var darkmode= false;window.naver_corp_da=window.naver_corp_da||{main:{}},window.naver_corp_da.main=window.naver_corp_da.main||{},window.naver_corp_da.main.darkmode=darkmode,window.gladsdk=window.gladsdk||{cmd:[]},window.gladsdk.cmd.push((function(){window.gladsdk.setHostMeta(\"theme\",darkmode?\"dark\":\"light\")})),window.ndpsdk=window.ndpsdk||{cmd:[],polyfill:{cmd:[]}},window.ndpsdk.cmd.push((function(){window.ndpsdk.setHostMeta(\"theme\",darkmode?\"dark\":\"light\")}))</script>  <script async src=\"https://ssl.pstatic.net/tveta/libs/glad/prod/gfp-core.js\"></script> <script async src=\"https://ssl.pstatic.net/tveta/libs/ndpsdk/prod/ndp-loader.js\"></script>  <script> window.nmain.gv = {  isLogin: false,\\nuseId: null,   daInfo: {\"ANIMAL\":{\"menu\":\"ANIMAL\",\"childMenu\":\"\",\"adType\":\"singleDom\",\"multiDomAdUrl\":\"\",\"multiDomUnit\":\"\",\"infoList\":[{\"adposId\":\"1000161\",\"singleDomAdUrl\":\"https://siape.veta.naver.com/fxshow\",\"param\":{\"da_dom_id\":\"p_main_animal_1\",\"tb\":\"ANIMAL_1\",\"unit\":\"SU10567\",\"calp\":\"-\"},\"type\":{\"position\":\"abs\",\"positionIndex\":4,\"subject\":\"contents\"},\"dom\":null},{\"adposId\":\"1000162\",\"singleDomAdUrl\":\"https://siape.veta.naver.com/fxshow\",\"param\":{\"da_dom_id\":\"p_main_animal_2\",\"tb\":\"ANIMAL_1\",\"unit\":\"SU10568\",\"calp\":\"-\"},\"type\":{\"position\":\"abs\",\"positionIndex\":8,\"subject\":\"contents\"},\"dom\":null}]},\"BEAUTY\":{\"menu\":\"BEAUTY\",\"childMenu\":\"\",\"adType\":\"singleDom\",\"multiDomAdUrl\":\"\",\"multiDomUnit\":\"\",\"infoList\":[{\"adposId\":\"1000163\",\"singleDomAdUrl\":\"https://siape.veta.naver.com/fxshow\",\"param\":{\"da_dom_id\":\"p_main_beauty_1\",\"tb\":\"BEAUTY_1\",\"unit\":\"SU10595\",\"calp\":\"-\"},\"type\":{\"position\":\"abs\",\"positionIndex\":4,\"subject\":\"contents\"},\"dom\":null},{\"adposId\":\"1000164\",\"singleDomAdUrl\":\"https://siape.veta.naver.com/fxshow\",\"param\":{\"da_dom_id\":\"p_main_beauty_2\",\"tb\":\"BEAUTY_1\",\"unit\":\"SU10596\",\"calp\":\"-\"},\"type\":{\"position\":\"abs\",\"positionIndex\":8,\"subject\":\"contents\"},\"dom\":null}]},\"BUSINESS\":{\"menu\":\"BUSINESS\",\"childMenu\":\"\",\"adType\":\"singleDom\",\"multiDomAdUrl\":\"\",\"multiDomUnit\":\"\",\"infoList\":[{\"adposId\":\"1000165\",\"singleDomAdUrl\":\"https://siape.veta.naver.com/fxshow\",\"param\":{\"da_dom_id\":\"p_main_business_1\",\"tb\":\"BUSINESS_1\",\"unit\":\"SU10577\",\"calp\":\"-\"},\"type\":{\"position\":\"abs\",\"positionIndex\":4,\"subject\":\"contents\"},\"dom\":null},{\"adposId\":\"1000166\",\"singleDomAdUrl\":\"https://siape.veta.naver.com/fxshow\",\"param\":{\"da_dom_id\":\"p_main_business_2\",\"tb\":\"BUSINESS_1\",\"unit\":\"SU10578\",\"calp\":\"-\"},\"type\":{\"position\":\"abs\",\"positionIndex\":8,\"subject\":\"contents\"},\"dom\":null}]},\"CARGAME\":{\"menu\":\"CARGAME\",\"childMenu\":\"\",\"adType\":\"singleDom\",\"multiDomAdUrl\":\"\",\"multiDomUnit\":\"\",\"infoList\":[{\"adposId\":\"1000167\",\"singleDomAdUrl\":\"https://siape.veta.naver.com/fxshow\",\"param\":{\"da_dom_id\":\"p_main_cargame_1\",\"tb\":\"CARGAME_1\",\"unit\":\"SU10587\",\"calp\":\"-\"},\"type\":{\"position\":\"abs\",\"positionIndex\":4,\"subject\":\"contents\"},\"dom\":null},{\"adposId\":\"1000168\",\"singleDomAdUrl\":\"https://siape.veta.naver.com/fxshow\",\"param\":{\"da_dom_id\":\"p_main_cargame_2\",\"tb\":\"CARGAME_1\",\"unit\":\"SU10588\",\"calp\":\"-\"},\"type\":{\"position\":\"abs\",\"positionIndex\":8,\"subject\":\"contents\"},\"dom\":null}]},\"CHINA\":{\"menu\":\"CHINA\",\"childMenu\":\"\",\"adType\":\"singleDom\",\"multiDomAdUrl\":\"\",\"multiDomUnit\":\"\",\"infoList\":[{\"adposId\":\"1000169\",\"singleDomAdUrl\":\"https://siape.veta.naver.com/fxshow\",\"param\":{\"da_dom_id\":\"p_main_china_1\",\"tb\":\"CHINA_1\",\"unit\":\"SU10591\",\"calp\":\"-\"},\"type\":{\"position\":\"abs\",\"positionIndex\":4,\"subject\":\"contents\"},\"dom\":null},{\"adposId\":\"1000170\",\"singleDomAdUrl\":\"https://siape.veta.naver.com/fxshow\",\"param\":{\"da_dom_id\":\"p_main_china_2\",\"tb\":\"CHINA_1\",\"unit\":\"SU10592\",\"calp\":\"-\"},\"type\":{\"position\":\"abs\",\"positionIndex\":8,\"subject\":\"contents\"},\"dom\":null}]},\"DESIGN\":{\"menu\":\"DESIGN\",\"childMenu\":\"\",\"adType\":\"singleDom\",\"multiDomAdUrl\":\"\",\"multiDomUnit\":\"\",\"infoList\":[{\"adposId\":\"1000171\",\"singleDomAdUrl\":\"https://siape.veta.naver.com/fxshow\",\"param\":{\"da_dom_id\":\"p_main_design_1\",\"tb\":\"DESIGN_1\",\"unit\":\"SU10569\",\"calp\":\"-\"},\"type\":{\"position\":\"abs\",\"positionIndex\":4,\"subject\":\"contents\"},\"dom\":null},{\"adposId\":\"1000172\",\"singleDomAdUrl\":\"https://siape.veta.naver.com/fxshow\",\"param\":{\"da_dom_id\":\"p_main_design_2\",\"tb\":\"DESIGN_1\",\"unit\":\"SU10570\",\"calp\":\"-\"},\"type\":{\"position\":\"abs\",\"positionIndex\":8,\"subject\":\"contents\"},\"dom\":null}]},\"FARM\":{\"menu\":\"FARM\",\"childMenu\":\"\",\"adType\":\"singleDom\",\"multiDomAdUrl\":\"\",\"multiDomUnit\":\"\",\"infoList\":[{\"adposId\":\"1000173\",\"singleDomAdUrl\":\"https://siape.veta.naver.com/fxshow\",\"param\":{\"da_dom_id\":\"p_main_farm_1\",\"tb\":\"FARM_1\",\"unit\":\"SU10561\",\"calp\":\"-\"},\"type\":{\"position\":\"abs\",\"positionIndex\":4,\"subject\":\"contents\"},\"dom\":null},{\"adposId\":\"1000174\",\"singleDomAdUrl\":\"https://siape.veta.naver.com/fxshow\",\"param\":{\"da_dom_id\":\"p_main_farm_2\",\"tb\":\"FARM_1\",\"unit\":\"SU10562\",\"calp\":\"-\"},\"type\":{\"position\":\"abs\",\"positionIndex\":8,\"subject\":\"contents\"},\"dom\":null}]},\"FINANCE\":{\"menu\":\"FINANCE\",\"childMenu\":\"\",\"adType\":\"singleDom\",\"multiDomAdUrl\":\"\",\"multiDomUnit\":\"\",\"infoList\":[{\"adposId\":\"1000175\",\"singleDomAdUrl\":\"https://siape.veta.naver.com/fxshow\",\"param\":{\"da_dom_id\":\"p_main_finance_1\",\"tb\":\"FINANCE_1\",\"unit\":\"SU10563\",\"calp\":\"-\"},\"type\":{\"position\":\"abs\",\"positionIndex\":4,\"subject\":\"contents\"},\"dom\":null},{\"adposId\":\"1000176\",\"singleDomAdUrl\":\"https://siape.veta.naver.com/fxshow\",\"param\":{\"da_dom_id\":\"p_main_finance_2\",\"tb\":\"FINANCE_1\",\"unit\":\"SU10564\",\"calp\":\"-\"},\"type\":{\"position\":\"abs\",\"positionIndex\":8,\"subject\":\"contents\"},\"dom\":null}]},\"ITTECH\":{\"menu\":\"ITTECH\",\"childMenu\":\"\",\"adType\":\"singleDom\",\"multiDomAdUrl\":\"\",\"multiDomUnit\":\"\",\"infoList\":[{\"adposId\":\"1000177\",\"singleDomAdUrl\":\"https://siape.veta.naver.com/fxshow\",\"param\":{\"da_dom_id\":\"p_main_ittech_1\",\"tb\":\"ITTECH_1\",\"unit\":\"SU10593\",\"calp\":\"-\"},\"type\":{\"position\":\"abs\",\"positionIndex\":4,\"subject\":\"contents\"},\"dom\":null},{\"adposId\":\"1000178\",\"singleDomAdUrl\":\"https://siape.veta.naver.com/fxshow\",\"param\":{\"da_dom_id\":\"p_main_ittech_2\",\"tb\":\"ITTECH_1\",\"unit\":\"SU10594\",\"calp\":\"-\"},\"type\":{\"position\":\"abs\",\"positionIndex\":8,\"subject\":\"contents\"},\"dom\":null}]},\"JOB\":{\"menu\":\"JOB\",\"childMenu\":\"\",\"adType\":\"singleDom\",\"multiDomAdUrl\":\"\",\"multiDomUnit\":\"\",\"infoList\":[{\"adposId\":\"1000179\",\"singleDomAdUrl\":\"https://siape.veta.naver.com/fxshow\",\"param\":{\"da_dom_id\":\"p_main_job_1\",\"tb\":\"JOB_1\",\"unit\":\"SU10589\",\"calp\":\"-\"},\"type\":{\"position\":\"abs\",\"positionIndex\":4,\"subject\":\"contents\"},\"dom\":null},{\"adposId\":\"1000180\",\"singleDomAdUrl\":\"https://siape.veta.naver.com/fxshow\",\"param\":{\"da_dom_id\":\"p_main_job_2\",\"tb\":\"JOB_1\",\"unit\":\"SU10590\",\"calp\":\"-\"},\"type\":{\"position\":\"abs\",\"positionIndex\":8,\"subject\":\"contents\"},\"dom\":null}]},\"LAW\":{\"menu\":\"LAW\",\"childMenu\":\"\",\"adType\":\"singleDom\",\"multiDomAdUrl\":\"\",\"multiDomUnit\":\"\",\"infoList\":[{\"adposId\":\"1000181\",\"singleDomAdUrl\":\"https://siape.veta.naver.com/fxshow\",\"param\":{\"da_dom_id\":\"p_main_law_1\",\"tb\":\"LAW_1\",\"unit\":\"SU10573\",\"calp\":\"-\"},\"type\":{\"position\":\"abs\",\"positionIndex\":4,\"subject\":\"contents\"},\"dom\":null},{\"adposId\":\"1000182\",\"singleDomAdUrl\":\"https://siape.veta.naver.com/fxshow\",\"param\":{\"da_dom_id\":\"p_main_law_2\",\"tb\":\"LAW_1\",\"unit\":\"SU10574\",\"calp\":\"-\"},\"type\":{\"position\":\"abs\",\"positionIndex\":8,\"subject\":\"contents\"},\"dom\":null}]},\"LIVING\":{\"menu\":\"LIVING\",\"childMenu\":\"\",\"adType\":\"singleDom\",\"multiDomAdUrl\":\"\",\"multiDomUnit\":\"\",\"infoList\":[{\"adposId\":\"1000183\",\"singleDomAdUrl\":\"https://siape.veta.naver.com/fxshow\",\"param\":{\"da_dom_id\":\"p_main_living_1\",\"tb\":\"LIVING_1\",\"unit\":\"SU10597\",\"calp\":\"-\"},\"type\":{\"position\":\"abs\",\"positionIndex\":4,\"subject\":\"contents\"},\"dom\":null},{\"adposId\":\"1000184\",\"singleDomAdUrl\":\"https://siape.veta.naver.com/fxshow\",\"param\":{\"da_dom_id\":\"p_main_living_2\",\"tb\":\"LIVING_1\",\"unit\":\"SU10606\",\"calp\":\"-\"},\"type\":{\"position\":\"abs\",\"positionIndex\":8,\"subject\":\"contents\"},\"dom\":null}]},\"LIVINGHOME\":{\"menu\":\"LIVINGHOME\",\"childMenu\":\"\",\"adType\":\"singleDom\",\"multiDomAdUrl\":\"\",\"multiDomUnit\":\"\",\"infoList\":[{\"adposId\":\"1000185\",\"singleDomAdUrl\":\"https://siape.veta.naver.com/fxshow\",\"param\":{\"da_dom_id\":\"p_main_livinghome_1\",\"tb\":\"LIVINGHOME_1\",\"unit\":\"SU10571\",\"calp\":\"-\"},\"type\":{\"position\":\"abs\",\"positionIndex\":4,\"subject\":\"contents\"},\"dom\":null},{\"adposId\":\"1000186\",\"singleDomAdUrl\":\"https://siape.veta.naver.com/fxshow\",\"param\":{\"da_dom_id\":\"p_main_livinghome_2\",\"tb\":\"LIVINGHOME_1\",\"unit\":\"SU10572\",\"calp\":\"-\"},\"type\":{\"position\":\"abs\",\"positionIndex\":8,\"subject\":\"contents\"},\"dom\":null}]},\"MOMKIDS\":{\"menu\":\"MOMKIDS\",\"childMenu\":\"\",\"adType\":\"singleDom\",\"multiDomAdUrl\":\"\",\"multiDomUnit\":\"\",\"infoList\":[{\"adposId\":\"1000187\",\"singleDomAdUrl\":\"https://siape.veta.naver.com/fxshow\",\"param\":{\"da_dom_id\":\"p_main_momkids_1\",\"tb\":\"MOMKIDS_1\",\"unit\":\"SU10575\",\"calp\":\"-\"},\"type\":{\"position\":\"abs\",\"positionIndex\":4,\"subject\":\"contents\"},\"dom\":null},{\"adposId\":\"1000188\",\"singleDomAdUrl\":\"https://siape.veta.naver.com/fxshow\",\"param\":{\"da_dom_id\":\"p_main_momkids_2\",\"tb\":\"MOMKIDS_1\",\"unit\":\"SU10576\",\"calp\":\"-\"},\"type\":{\"position\":\"abs\",\"positionIndex\":8,\"subject\":\"contents\"},\"dom\":null}]},\"MOVIE\":{\"menu\":\"MOVIE\",\"childMenu\":\"\",\"adType\":\"singleDom\",\"multiDomAdUrl\":\"\",\"multiDomUnit\":\"\",\"infoList\":[{\"adposId\":\"1000189\",\"singleDomAdUrl\":\"https://siape.veta.naver.com/fxshow\",\"param\":{\"da_dom_id\":\"p_main_movie_1\",\"tb\":\"MOVIE_1\",\"unit\":\"SU10585\",\"calp\":\"-\"},\"type\":{\"position\":\"abs\",\"positionIndex\":4,\"subject\":\"contents\"},\"dom\":null},{\"adposId\":\"1000190\",\"singleDomAdUrl\":\"https://siape.veta.naver.com/fxshow\",\"param\":{\"da_dom_id\":\"p_main_movie_2\",\"tb\":\"MOVIE_1\",\"unit\":\"SU10586\",\"calp\":\"-\"},\"type\":{\"position\":\"abs\",\"positionIndex\":8,\"subject\":\"contents\"},\"dom\":null}]},\"SCHOOL\":{\"menu\":\"SCHOOL\",\"childMenu\":\"\",\"adType\":\"singleDom\",\"multiDomAdUrl\":\"\",\"multiDomUnit\":\"\",\"infoList\":[{\"adposId\":\"1000191\",\"singleDomAdUrl\":\"https://siape.veta.naver.com/fxshow\",\"param\":{\"da_dom_id\":\"p_main_school_1\",\"tb\":\"SCHOOL_1\",\"unit\":\"SU10579\",\"calp\":\"-\"},\"type\":{\"position\":\"abs\",\"positionIndex\":4,\"subject\":\"contents\"},\"dom\":null},{\"adposId\":\"1000192\",\"singleDomAdUrl\":\"https://siape.veta.naver.com/fxshow\",\"param\":{\"da_dom_id\":\"p_main_school_2\",\"tb\":\"SCHOOL_1\",\"unit\":\"SU10580\",\"calp\":\"-\"},\"type\":{\"position\":\"abs\",\"positionIndex\":8,\"subject\":\"contents\"},\"dom\":null}]},\"SHOW\":{\"menu\":\"SHOW\",\"childMenu\":\"\",\"adType\":\"singleDom\",\"multiDomAdUrl\":\"\",\"multiDomUnit\":\"\",\"infoList\":[{\"adposId\":\"1000193\",\"singleDomAdUrl\":\"https://siape.veta.naver.com/fxshow\",\"param\":{\"da_dom_id\":\"p_main_show_1\",\"tb\":\"SHOW_1\",\"unit\":\"SU10565\",\"calp\":\"-\"},\"type\":{\"position\":\"abs\",\"positionIndex\":4,\"subject\":\"contents\"},\"dom\":null},{\"adposId\":\"1000194\",\"singleDomAdUrl\":\"https://siape.veta.naver.com/fxshow\",\"param\":{\"da_dom_id\":\"p_main_show_2\",\"tb\":\"SHOW_1\",\"unit\":\"SU10566\",\"calp\":\"-\"},\"type\":{\"position\":\"abs\",\"positionIndex\":8,\"subject\":\"contents\"},\"dom\":null}]},\"TRAVEL\":{\"menu\":\"TRAVEL\",\"childMenu\":\"\",\"adType\":\"singleDom\",\"multiDomAdUrl\":\"\",\"multiDomUnit\":\"\",\"infoList\":[{\"adposId\":\"1000195\",\"singleDomAdUrl\":\"https://siape.veta.naver.com/fxshow\",\"param\":{\"da_dom_id\":\"p_main_travel_1\",\"tb\":\"TRAVEL_1\",\"unit\":\"SU10581\",\"calp\":\"-\"},\"type\":{\"position\":\"abs\",\"positionIndex\":4,\"subject\":\"contents\"},\"dom\":null},{\"adposId\":\"1000196\",\"singleDomAdUrl\":\"https://siape.veta.naver.com/fxshow\",\"param\":{\"da_dom_id\":\"p_main_travel_2\",\"tb\":\"TRAVEL_1\",\"unit\":\"SU10582\",\"calp\":\"-\"},\"type\":{\"position\":\"abs\",\"positionIndex\":8,\"subject\":\"contents\"},\"dom\":null}]},\"WEDDING\":{\"menu\":\"WEDDING\",\"childMenu\":\"\",\"adType\":\"singleDom\",\"multiDomAdUrl\":\"\",\"multiDomUnit\":\"\",\"infoList\":[{\"adposId\":\"1000197\",\"singleDomAdUrl\":\"https://siape.veta.naver.com/fxshow\",\"param\":{\"da_dom_id\":\"p_main_wedding_1\",\"tb\":\"WEDDING_1\",\"unit\":\"SU10583\",\"calp\":\"-\"},\"type\":{\"position\":\"abs\",\"positionIndex\":4,\"subject\":\"contents\"},\"dom\":null},{\"adposId\":\"1000198\",\"singleDomAdUrl\":\"https://siape.veta.naver.com/fxshow\",\"param\":{\"da_dom_id\":\"p_main_wedding_2\",\"tb\":\"WEDDING_1\",\"unit\":\"SU10584\",\"calp\":\"-\"},\"type\":{\"position\":\"abs\",\"positionIndex\":8,\"subject\":\"contents\"},\"dom\":null}]}},\\nsvt: 20220106164108,\\n}; </script> <script> window.nmain.newsstand = {\\nrcode: \\'12710400\\',\\nnewsCastSubsInfo: \\'\\',\\nnewsStandSubsInfo: \\'\\'\\n};\\nwindow.etc = {  };\\nwindow.svr = \"<!--cweb23-->\"; </script> <script src=\"https://ssl.pstatic.net/tveta/libs/assets/js/pc/main/min/pc.veta.core.min.js\" defer=\"defer\"></script>   <script src=\"https://pm.pstatic.net/dist/js/external.424737be.js?o=www\" type=\"text/javascript\" crossorigin=\"anonymous\" defer=\"defer\"></script> <script src=\"https://pm.pstatic.net/dist/js/preload.5875f4cb.js?o=www\" type=\"text/javascript\" crossorigin=\"anonymous\" defer=\"defer\"></script> <script src=\"https://pm.pstatic.net/dist/js/polyfill.0b1e66f9.js?o=www\" type=\"text/javascript\" crossorigin=\"anonymous\" defer=\"defer\"></script>  <script src=\"https://pm.pstatic.net/dist/js/vendors~more~nmain~notice~search~sidebar_notice.29c38b59.js?o=www\" type=\"text/javascript\" crossorigin=\"anonymous\" defer=\"defer\"></script>   <script src=\"https://pm.pstatic.net/dist/js/search.42b2ccb4.js?o=www\" type=\"text/javascript\" crossorigin=\"anonymous\" defer=\"defer\"></script>  <script src=\"https://pm.pstatic.net/dist/js/vendors~more~nmain~sidebar_notice.2d20790b.js?o=www\" type=\"text/javascript\" crossorigin=\"anonymous\" defer=\"defer\"></script> <script src=\"https://pm.pstatic.net/dist/js/nmain.3e57d655.js?o=www\" type=\"text/javascript\" crossorigin=\"anonymous\" defer=\"defer\"></script> <style>:root{color-scheme:light}#_nx_kbd .setkorhelp a{display:none}</style> </head> <body> <div id=\"u_skip\"> <a href=\"#newsstand\"><span>뉴스스탠드 바로가기</span></a> <a href=\"#themecast\"><span>주제별캐스트 바로가기</span></a> <a href=\"#timesquare\"><span>타임스퀘어 바로가기</span></a> <a href=\"#shopcast\"><span>쇼핑캐스트 바로가기</span></a> <a href=\"#account\"><span>로그인 바로가기</span></a> </div> <div id=\"wrap\">         <style>._1syGnXOL{padding-right:18px;font-size:14px;line-height:0;letter-spacing:-.25px;color:#000}._1syGnXOL span,._1syGnXOL strong{line-height:49px}._1syGnXOL:before{display:inline-block;content:\"\";vertical-align:top;background-image:url(https://static-whale.pstatic.net/main/sprite-20211123@2x.png);background-repeat:no-repeat;background-size:116px 112px;width:18px;height:18px;margin:16px 8px 0 0;background-position:-98px 0}[data-useragent*=\"MSIE 8\"] ._1syGnXOL:before{background-image:url(https://static-whale.pstatic.net/main/sprite-20211123.png)}._1syGnXOL._3dsvmZg2:before{background-position:-47px -85px}._1syGnXOL._1NBFx1WK:before{width:20px;height:20px;margin:15px 8px 0 0;background-position:-21px -89px}._1syGnXOL._2mcQEKCd:before{width:22px;height:22px;margin:14px 7px 0 0;background-position:-47px -63px}._1syGnXOL._36slsKuJ:before{width:21px;height:49px;margin:0 14px 0 0;background-position:0 -63px}._1syGnXOL._3di88A4c{padding-right:12px;font-size:17px}._1syGnXOL._3di88A4c:before{content:none}._1syGnXOL ._19K4X1CD{text-decoration:underline}._2aeXMlrb{display:inline-block;position:relative;font-size:12px;height:49px;width:78px;text-decoration:none;color:#fff;font-weight:700;letter-spacing:-.5px;vertical-align:top}._2aeXMlrb span{text-align:center;margin:9px 0;height:31px;display:block;line-height:31px;border-radius:15px}._2aeXMlrb span:before{display:inline-block;content:\"\";vertical-align:top;background-image:url(https://static-whale.pstatic.net/main/sprite-20211123@2x.png);background-repeat:no-repeat;background-size:116px 112px}[data-useragent*=\"MSIE 8\"] ._2aeXMlrb span:before{background-image:url(https://static-whale.pstatic.net/main/sprite-20211123.png)}._2aeXMlrb.BMgpjddw{font-size:11px;width:94px}._2aeXMlrb.BMgpjddw span:before{margin:9px 3px 0 0;width:17px;height:13px;background-position:-89px -63px}._3h-N8T9V{position:absolute;top:0;left:0;right:0;bottom:0;background:rgba(0,0,0,0)}._1KncATpM{display:inline-block;content:\"\";vertical-align:top;background-image:url(https://static-whale.pstatic.net/main/sprite-20211123@2x.png);background-repeat:no-repeat;background-size:116px 112px;margin-top:14px;float:left;width:98px;height:21px;background-position:0 -21px}[data-useragent*=\"MSIE 8\"] ._1KncATpM{background-image:url(https://static-whale.pstatic.net/main/sprite-20211123.png)}._1KncATpM._2v3uxv2x{background-position:0 0}._1KncATpM._1yl_Ow6o{background-position:0 -42px}._20PYt6lT{font-size:11px;height:49px;cursor:pointer;position:absolute;top:0;right:0;color:#666;opacity:.7}._20PYt6lT:after{width:15px;height:15px;margin-left:4px;background-position:-98px -33px;display:inline-block;content:\"\";vertical-align:top;background-image:url(https://static-whale.pstatic.net/main/sprite-20211123@2x.png);background-repeat:no-repeat;background-size:116px 112px}[data-useragent*=\"MSIE 8\"] ._20PYt6lT:after{background-image:url(https://static-whale.pstatic.net/main/sprite-20211123.png)}._20PYt6lT._39oMCV2N:after{background-position:-98px -18px}._20PYt6lT._3MOWOORv{color:#c3c2c2}._20PYt6lT._3MOWOORv:after{background-position:-80px -85px}._20PYt6lT._3wm5EzmJ{color:#fff}._20PYt6lT._3wm5EzmJ:after{background-position:-65px -85px}._1hiMWemA{height:49px}._1hiMWemA .tY_u8r23{position:relative;width:1130px;margin:0 auto}._1hiMWemA .tY_u8r23 a{text-decoration:none}._1hiMWemA._23U_6TM_{position:relative}._1hiMWemA._23U_6TM_:after{position:absolute;z-index:1;content:\"\";display:block;width:100%;height:1px;bottom:0;background-color:rgba(0,0,0,.050980392156862744)}</style>\\n<div\\nid=\"NM_TOP_BANNER\"\\ndata-clk-prefix=\"top\"\\nclass=\"_1hiMWemA\"\\nstyle=\"background-color: #262b3a\"\\n>\\n<div class=\"tY_u8r23\">\\n<a\\nclass=\"_3h-N8T9V\"\\nhref=\"https://whale.naver.com/banner/details/darkmode/?=main&wpid=RydDy7\"\\ndata-clk=\"dropbanner1a\"\\n></a\\n><i class=\"_1KncATpM _1yl_Ow6o\"><span class=\"blind\">NAVER whale</span></i\\n><img\\nsrc=\"https://static-whale.pstatic.net/main/img_darkmode_v6@2x.png\"\\nwidth=\"240\"\\nheight=\"49\"\\nalt=\"\"\\nstyle=\"padding-left: 80px\"\\n/><span\\nclass=\"_1syGnXOL _3di88A4c\"\\ndata-clk=\"dropbanner1a\"\\nstyle=\"padding-right: 30px; color: white; padding-left: 20px\"\\n><span>아앗! 안정이 필요해보여요. 눈 안정 위해 </span\\n><strong>다크모드</strong></span\\n><a\\nhref=\"https://installer-whale.pstatic.net/downloads/banner/RydDy7/WhaleSetup.exe\"\\nclass=\"_2aeXMlrb BMgpjddw\"\\nid=\"NM_whale_download_btn\"\\ndata-clk=\"dropdownload1a\"\\n><span style=\"background-color: #2031a4\">다운로드</span></a\\n><button\\ntype=\"button\"\\ndata-ui-cookie-exp-days=\"3\"\\ndata-ui-cookie-key=\"NM_TOP_PROMOTION\"\\ndata-ui-cookie-value=\"1\"\\ndata-ui-hide-target=\"#NM_TOP_BANNER\"\\ndata-clk=\"dropclose1a\"\\nclass=\"_20PYt6lT _3wm5EzmJ\"\\n>\\n3일 동안 보지 않기\\n</button>\\n</div>\\n</div>\\n  <div id=\"header\" role=\"banner\">\\n\\n\\n\\n\\n\\n\\n\\n\\n<div class=\"special_bg\">\\n<div class=\"group_flex\">\\n<div class=\"logo_area\">\\n<h1 class=\"logo_default\">\\n<a href=\"/\" class=\"logo_naver\" data-clk=\"top.logo\"\\n><span class=\"blind\">네이버</span></a\\n>\\n</h1>\\n</div>\\n<div class=\"service_area\">\\n<a id=\"NM_set_home_btn\" href=\"https://help.naver.com/support/welcomePage/guide.help\" class=\"link_set\" data-clk=\"top.mkhome\">네이버를 시작페이지로</a>\\n<i class=\"sa_bar\"></i>\\n<a href=\"https://jr.naver.com\" class=\"link_jrnaver\" data-clk=\"top.jrnaver\"><i class=\"ico_jrnaver\"></i><span class=\"blind\">쥬니어네이버</span></a>\\n<a href=\"https://happybean.naver.com\" class=\"link_happybin\" data-clk=\"top.happybean\"><i class=\"ico_happybin\"></i><span class=\"blind\">해피빈</span></a>\\n</div>\\n\\n<div id=\"search\" class=\"search_area\" data-clk-prefix=\"sch\">\\n<form id=\"sform\" name=\"sform\" action=\"https://search.naver.com/search.naver\" method=\"get\" role=\"search\">\\n<fieldset>\\n<legend class=\"blind\">검색</legend>\\n<select id=\"where\" name=\"where\" title=\"검색 범위 선택\" class=\"blind\">\\n<option value=\"nexearch\" selected=\"selected\">통합검색</option><option value=\"post\">블로그</option><option value=\"cafeblog\">카페</option><option value=\"cafe\">- 카페명</option><option value=\"article\">- 카페글</option><option value=\"kin\">지식iN</option><option value=\"news\">뉴스</option><option value=\"web\">사이트</option><option value=\"category\">- 카테고리</option><option value=\"site\">- 사이트</option><option value=\"movie\">영화</option><option value=\"webkr\">웹문서</option><option value=\"dic\">사전</option><option value=\"100\">- 백과사전</option><option value=\"endic\">- 영어사전</option><option value=\"eedic\">- 영영사전</option><option value=\"krdic\">- 국어사전</option><option value=\"jpdic\">- 일본어사전</option><option value=\"hanja\">- 한자사전</option><option value=\"terms\">- 용어사전</option><option value=\"book\">책</option><option value=\"music\">음악</option><option value=\"doc\">전문자료</option><option value=\"shop\">쇼핑</option><option value=\"local\">지역</option><option value=\"video\">동영상</option><option value=\"image\">이미지</option><option value=\"mypc\">내PC</option><optgroup label=\"스마트 파인더\"><option value=\"movie\">영화</option><option value=\"auto\">자동차</option><option value=\"game\">게임</option><option value=\"health\">건강</option><option value=\"people\">인물</option></optgroup><optgroup label=\"네이버 랩\"><option>긍정부정검색</option></optgroup>\\n</select>\\n<input type=\"hidden\" id=\"sm\" name=\"sm\" value=\"top_hty\" />\\n<input type=\"hidden\" id=\"fbm\" name=\"fbm\" value=\"0\" />\\n<input type=\"hidden\" id=\"acr\" name=\"acr\" value=\"\" disabled=\"disabled\" />\\n<input type=\"hidden\" id=\"acq\" name=\"acq\" value=\"\" disabled=\"disabled\" />\\n<input type=\"hidden\" id=\"qdt\" name=\"qdt\" value=\"\" disabled=\"disabled\" />\\n<input type=\"hidden\" id=\"ie\" name=\"ie\" value=\"utf8\" />\\n<input type=\"hidden\" id=\"acir\" name=\"acir\" value=\"\" disabled=\"disabled\" />\\n<input type=\"hidden\" id=\"os\" name=\"os\" value=\"\" disabled=\"disabled\" />\\n<input type=\"hidden\" id=\"bid\" name=\"bid\" value=\"\" disabled=\"disabled\" />\\n<input type=\"hidden\" id=\"pkid\" name=\"pkid\" value=\"\" disabled=\"disabled\" />\\n<input type=\"hidden\" id=\"eid\" name=\"eid\" value=\"\" disabled=\"disabled\" />\\n<input type=\"hidden\" id=\"mra\" name=\"mra\" value=\"\" disabled=\"disabled\" />\\n\\n\\n\\n<div class=\"green_window\" style=\\'\\'>\\n<!-- [AU] data-atcmp-element 에 해당하는 attribute를 추가해주세요. -->\\n<input id=\"query\" name=\"query\" type=\"text\" title=\"검색어 입력\" maxlength=\"255\" class=\"input_text\" tabindex=\"1\" accesskey=\"s\" style=\"ime-mode:active;\" autocomplete=\"off\"  placeholder=\"검색어를 입력해 주세요.\" onclick=\"document.getElementById(\\'fbm\\').value=1;\" value=\"\" data-atcmp-element>\\n</div>\\n<button id=\"search_btn\" type=\"submit\" title=\"검색\" tabindex=\"3\" class=\"btn_submit\" onclick=\"window.nclick(this,\\'sch.action\\',\\'\\',\\'\\',event);\" style=\\'\\'>\\n<span class=\"blind\">검색</span>\\n<span class=\"ico_search_submit\"></span>\\n</button>\\n</fieldset>\\n</form>\\n<!-- 한글입력기 -->\\n<a href=\"#\" id=\"ke_kbd_btn\" role=\"button\" class=\"btn_keyboard\" onclick=\"return false;\"><span class=\"blind\">한글 입력기</span><span class=\"ico_keyboard\"></span></a>\\n<div id=\"_nx_kbd\" style=\"display:none;\"></div>\\n<div class=\"autocomplete\">\\n<!-- 자동완성 열린 경우 fold 클래스 추가, 딤드인 경우 dim 추가 -->\\n<a href=\"#\" role=\"button\" id=\"nautocomplete\" tabindex=\"2\" class=\"btn_arw _btn_arw fold\" aria-pressed=\"false\" data-atcmp-element><span class=\"blind\">자동완성 레이어</span><span class=\"ico_arr\"></span></a>\\n</div>\\n<!-- 자동완성레이어 -->\\n<div id=\"autoFrame\" class=\"reatcmp\" style=\"display: none;\">\\n<!-- [AU] data-atcmp-element attribute를 추가해주세요. -->\\n<div class=\"ly_atcmp\" data-atcmp-element>\\n<div class=\"api_atcmp_wrap\">\\n<!-- 최근검색어 -->\\n<!-- [AU] _recent_layer 클래스를 추가해주세요. -->\\n<div class=\"atcmp_fixer _recent_layer\" style=\"display:none;\">\\n<!-- [AU] _recent_header 클래스를 추가해주세요. -->\\n<div class=\"atcmp_header _recent_header\">\\n<strong class=\"tit\">최근검색어</strong>\\n<div class=\"option\">\\n<!-- [AU] _delAll 클래스를 추가해주세요. -->\\n<a role=\"button\" href=\"#\" class=\"item _delAll\" aria-pressed=\"false\">전체삭제</a>\\n</div>\\n</div>\\n<div class=\"atcmp_container\">\\n<!-- [AU] _recent 클래스를 추가해주세요. -->\\n<ul class=\"kwd_lst _recent\">\\n<!-- 최근검색어 템플릿 -->\\n<!-- [AU] _item 클래스를 추가해주세요. -->\\n<!-- [AU] data-template-type=\"history\" data-keyword=\"@in_txt@\" attribute를 추가해주세요. -->\\n<li class=\"item _item\" data-rank=\"@rank@\" data-template-type=\"history\" data-keyword=\"@in_txt@\">\\n<a href=\"#\" class=\"kwd\">\\n<span class=\"fix\"><span class=\"common_ico_kwd\"><i class=\"imsc ico_search\"></i></span><span>@txt@</span></span>\\n</a>\\n<span class=\"etc\">\\n<em class=\"date\">@date@.</em>\\n<!-- [AU] _del 클래스를 추가해주세요. -->\\n<a href=\"#\" role=\"button\" class=\"bt_item _del\" aria-pressed=\"false\"><i class=\"imsc ico_del\">삭제</i></a>\\n</span>\\n</li>\\n</ul>\\n<!-- [D] 검색어 저장 꺼진 경우 atcmp_fixer에 type_off 추가 -->\\n<!-- [AU] _offMsg 클래스를 추가해주세요. -->\\n<div class=\"kwd_info kwd_off _offMsg\" style=\"display: none;\">검색어 저장 기능이 꺼져 있습니다.<br><span class=\"kwd_dsc\">설정이 초기화 된다면 <a href=\"https://help.naver.com/support/alias/search/word/word_29.naver\" class=\"kwd_help\" data-clk=\"sly.help\" target=\"_blank\">도움말</a>을 확인해주세요.</span></div>\\n<!-- [D] 검색어 내역 없는 경우 atcmp_fixer에 type_off 추가 -->\\n<!-- [AU] _recentNone 클래스를 추가해주세요. -->\\n<div class=\"kwd_info kwd_none _recentNone\" style=\"display: none;\">최근 검색어 내역이 없습니다.<br><span class=\"kwd_dsc\">설정이 초기화 된다면 <a href=\"https://help.naver.com/support/alias/search/word/word_29.naver\" class=\"kwd_help\" data-clk=\"sly.help\" target=\"_blank\">도움말</a>을 확인해주세요.</span></div>\\n</div>\\n<div class=\"atcmp_footer\">\\n<span class=\"side_opt_area\">\\n<span class=\"opt_item\"><a href=\"https://help.naver.com/support/service/main.help?serviceNo=605&amp;categoryNo=1991\" data-clk=\"sly.help\" target=\"_blank\">도움말</a></span>\\n</span>\\n<span class=\"rside_opt_area\">\\n<span class=\"opt_item\">\\n<!-- [AU] _keywordOnOff 클래스를 추가해주세요. -->\\n<a href=\"#\" class=\"close _keywordOnOff\">자동저장 끄기</a>\\n</span>\\n</span>\\n</div>\\n</div>\\n<!-- 자동완성 -->\\n<!-- [AU] _atcmp_layer 클래스를 추가해주세요. -->\\n<div class=\"atcmp_fixer _atcmp_layer\" style=\"display:none;\">\\n<!-- [AU] _words 클래스를 추가해주세요. -->\\n<div class=\"atcmp_container _words\">\\n<!-- 정답형 템플릿 : 로또당첨번호 -->\\n<!-- [AU] _answer 클래스를 추가해주세요. -->\\n<!-- [AU] data-template-type=\"answer_3\" data-code=\"@code@\" data-keyword=\"@1@\" attribute를 추가해주세요. -->\\n<div class=\"atcmp_correct type_lotto _answer\" data-template-type=\"answer_3\" data-code=\"@code@\" data-keyword=\"@1@\">\\n<a href=\"#\" class=\"link_item\">\\n<span class=\"common_ico_kwd\"><i class=\"imsc ico_search\"></i></span>\\n<div class=\"dsc_area\">\\n<span class=\"tit\">@5@회차 당첨번호</span>\\n<span class=\"dsc\">\\n<span class=\"item\">추첨 @13@.</span><span class=\"item\">지급기한 1년</span>\\n</span>\\n</div>\\n<span class=\"etc_area\">\\n<span class=\"etc lotto\">\\n<em class=\"n@6@\">@6@</em><em class=\"n@7@\">@7@</em><em class=\"n@8@\">@8@</em><em class=\"n@9@\">@9@</em><em class=\"n@10@\">@10@</em><em class=\"n@11@\">@11@</em><em class=\"imsc_bf bonus n@12@\">@12@</em>\\n</span>\\n</span>\\n</a>\\n</div>\\n<!-- 정답형 템플릿 : 환율 -->\\n<!-- [AU] _answer 클래스를 추가해주세요. -->\\n<!-- [AU] data-template-type=\"answer_9\" data-code=\"@code@\" data-keyword=\"@1@\" attribute를 추가해주세요. -->\\n<div class=\"atcmp_correct type_exchange _answer\" data-template-type=\"answer_9\" data-code=\"@code@\" data-keyword=\"@1@\">\\n<!-- [D] 상승 up, 하락 down 추가 -->\\n<a href=\"#\" class=\"link_item @11@\">\\n<!-- [D] 국가별 class 가나다순\\nZAR 남아프리카 공화국\\nNPR 네팔\\nNOK 노르웨이\\nNZD 뉴질랜드\\nTWD 대만\\nDKK 덴마크\\nRUB 러시아\\nMOP 마카오\\nMYR 말레이시아\\nMXN 멕시코\\nMNT 몽골\\nUSD 미국\\nBHD 바레인\\nBDT 방글라데시\\nVND 베트남\\nBRL 브라질\\nSAR 사우디아라비아\\nSEK 스웨덴\\nCHF 스위스\\nSGD 싱가포르\\nAED 아랍에미리트\\nGBP 영국\\nEUR 유럽연합\\nILS 이스라엘\\nEGP 이집트\\nINR 인도\\nIDR 인도네시아\\nJPY 일본\\nCNY 중국\\nCZK 체코\\nCLP 칠레\\nKZT 카자흐스탄\\nQAR 카타르\\nCAD 캐나다\\nKWD 쿠웨이트\\nTHB 태국\\nTRY 터키\\nPKR 파키스탄\\nPLN 폴란드\\nPHP 필리핀\\nHUF 헝가리\\nAUD 호주\\nHKD 홍콩\\n-->\\n<span class=\"common_ico_kwd\"><i class=\"imsc ico @12@\">@14@</i></span>\\n<div class=\"dsc_area\">\\n<span class=\"tit\">@txt@<span class=\"sub\">@currency@</span></span>\\n<span class=\"dsc\">\\n<span class=\"item\"><i class=\"imsc ico_arr\"></i>@8@(@9@%)</span>\\n</span>\\n</div>\\n<span class=\"etc_area\">\\n<span class=\"etc\"><em class=\"num\">@6@</em>원</span>\\n</span>\\n</a>\\n</div>\\n<!-- 정답형 템플릿 : 날씨(국내11, 해외12) -->\\n<!-- [AU] _answer 클래스를 추가해주세요. -->\\n<!-- [AU] data-template-type=\"answer_11\" data-code=\"@code@\" data-keyword=\"@1@\" attribute를 추가해주세요. -->\\n<div class=\"atcmp_correct type_weather _answer\" data-template-type=\"answer_11\" data-code=\"@code@\" data-keyword=\"@1@\">\\n<!-- [D] 상승 up, 하락 down 추가 -->\\n<a href=\"#\" class=\"link_item @12@\">\\n<span class=\"common_ico_kwd\"><i class=\"imsc ico_search\"></i></span>\\n<div class=\"dsc_area\">\\n<span class=\"tit\">@txt@</span>\\n<span class=\"dsc\">\\n<span class=\"item\">@7@, @message@</span>\\n</span>\\n</div>\\n<span class=\"etc_area\">\\n<span class=\"etc\">\\n<!-- [D] 날씨별 class\\nico1 맑음(낮)\\nico2 맑음(밤)\\nico3 구름조금(낮)\\nico4 구름조금(밤)\\nico5 구름많음(낮)\\nico6 구름많음(밤)\\nico7 흐림\\nico8 약한비\\nico9 비\\nico10 강한비\\nico11 약한눈\\nico12 눈\\nico13 강한눈\\nico14 진눈깨비\\nico15 소나기\\nico16 안개\\nico17 소낙눈\\nico18 번개뇌우\\nico19 우박\\nico20 황사\\nico21 비또는눈\\nico22 가끔비\\nico23 가끔눈\\nico24 가끔비또는눈\\nico25 흐린후갬\\nico26 뇌우후갬\\nico27 비후갬\\nico28 눈후갬\\nico29 흐려져비\\nico30 흐려져눈\\n-->\\n<span class=\"ico_weather\"><i class=\"imsc ico ico@iconNo@\">@7@</i></span>\\n<em class=\"degree\">@8@<sup class=\"celsius\">°</sup></em>\\n</span>\\n</span>\\n</a>\\n</div>\\n<!-- 정답형 템플릿 : 사이트 바로가기 -->\\n<!-- [AU] _answer 클래스를 추가해주세요. -->\\n<!-- [AU] data-template-type=\"answer_17\" data-code=\"@code@\" data-keyword=\"@1@\" attribute를 추가해주세요. -->\\n<div class=\"atcmp_correct type_site _answer\" data-template-type=\"answer_17\" data-code=\"@code@\" data-keyword=\"@1@\">\\n<a href=\"@5@\" class=\"link_item\" target=\"_blank\">\\n<span class=\"common_ico_kwd\"><i class=\"imsc ico_url\"></i></span>\\n<div class=\"dsc_area\">\\n<span class=\"tit\">@txt@</span>\\n<span class=\"dsc\">\\n<span class=\"item\">@5@</span>\\n</span>\\n</div>\\n<span class=\"etc_area\">\\n<span class=\"etc\">바로가기</span>\\n</span>\\n</a>\\n</div>\\n<!-- [AU] _kwd_list 클래스를 추가해주세요. -->\\n<ul class=\"kwd_lst _kwd_list\">\\n<!-- [AU] 자동완성 검색어 템플릿 -->\\n<!-- [AU] _item 클래스를 추가해주세요. -->\\n<!-- [AU] data-rank=\"@rank@\" data-template-type=\"suggestion\" data-keyword=\"@in_txt@\" attribute를 추가해주세요. -->\\n<li class=\"item _item\" data-rank=\"@rank@\" data-template-type=\"suggestion\" data-keyword=\"@in_txt@\">\\n<a href=\"#\" class=\"kwd\">\\n<span class=\"fix\"><span class=\"common_ico_kwd\"><i class=\"imsc ico_search\"></i></span>@txt@</span>\\n</a>\\n<span class=\"etc\">\\n<a href=\"#\" role=\"button\" class=\"bt_item _add\" aria-pressed=\"false\"><i class=\"imsc ico_insert\">추가</i></a>\\n</span>\\n</li>\\n<!-- [AU] 최근검색어 템플릿 -->\\n<!-- [AU] _item 클래스를 추가해주세요. -->\\n<!-- [AU] data-rank=\"@rank@\" data-template-type=\"history\" data-keyword=\"@in_txt@\" attribute를 추가해주세요. -->\\n<li class=\"item has_correct _item\" data-rank=\"@rank@\" data-template-type=\"history\" data-keyword=\"@in_txt@\">\\n<a href=\"#\" class=\"kwd\">\\n<span class=\"fix\"><span class=\"common_ico_kwd\"><i class=\"imsc ico_search\"></i></span>@txt@</span>\\n</a>\\n<span class=\"etc\">\\n<!-- 최근검색어 있으면 날짜 표시 -->\\n<em class=\"date\">@date@.</em>\\n<a href=\"#\" role=\"button\" class=\"bt_item _add\" aria-pressed=\"false\"><i class=\"imsc ico_insert\">추가</i></a>\\n</span>\\n</li>\\n</ul>\\n<!-- [AU] 문맥검색 템플릿 -->\\n<!-- [AU] _item 클래스를 추가해주세요. -->\\n<!-- [AU] data-rank=\"@rank@\" data-template-type=\"intend\" data-keyword=\"@transQuery@\" attribute를 추가해주세요. -->\\n<li class=\"item has_correct _item\" data-rank=\"@rank@\" data-intend-rank=\"@intendRank@\" data-template-type=\"intend\" data-keyword=\"@transQuery@\">\\n<a href=\"#\" class=\"kwd\">\\n<span class=\"fix\"><span class=\"common_ico_kwd\"><i class=\"imsc ico_search\"></i></span>@query@ <span class=\"context\">@intend@</span></span>\\n</a>\\n<span class=\"etc\">\\n<a href=\"#\" role=\"button\" class=\"bt_item _add\" aria-pressed=\"false\"><i class=\"imsc ico_insert\">추가</i></a>\\n</span>\\n</li>\\n<!-- [D] 선거안내문구 -->\\n<!-- [AU] _alert 클래스를 추가해주세요. -->\\n<div class=\"atcmp_alert _alert\">\\n<div class=\"dsc_election\">\\n<p class=\"dsc\">\\n<i class=\"imsc ico_election\"></i><span class=\"_alert_passage\"></span>\\n</p>\\n<span class=\"dsc_inner\">\\n<!-- [AU] _alert_passage2 클래스를 추가해주세요. -->\\n<span class=\"_alert_passage2\"></span>\\n<!-- [AU] _alert_link 클래스를 추가해주세요. -->\\n<a href=\"#\" class=\"link _alert_link\" target=\"_blank\">자세히보기</a>\\n</span>\\n</div>\\n</div>\\n<!-- [AU] _plus 클래스를 추가해주세요. -->\\n<div class=\"atcmp_plus _plus\">\\n<div class=\"dsc_plus\">\\n<a href=\"https://help.naver.com/support/alias/search/word/word_16.naver\" class=\"link_dsc\" data-clk=\"sug.cxhelp\" target=\"_blank\">관심사를 반영한 컨텍스트 자동완성<i class=\"imsc ico_help\">도움말</i></a>\\n</div>\\n<div class=\"switch\">\\n<!-- [D] 선택시 aria-pressed=\"ture/false\" -->\\n<!-- [AU] _plus_btn 클래스를 추가해주세요. -->\\n<a role=\"button\" href=\"#\" class=\"bt_switch active _plus_btn\" aria-pressed=\"false\"><i class=\"imsc ico_option\">컨텍스트 자동완성</i></a>\\n</div>\\n<!-- [AU] _plus_layer 클래스를 추가해주세요. -->\\n<div class=\"layer_plus _plus_layer\">\\n<strong class=\"tit\">컨텍스트 자동완성</strong>\\n<!-- [AU] _plus_layer_isloggedin 클래스를 추가해주세요. -->\\n<!-- [AU] style=\"display:none\" 추가해주세요. -->\\n<div class=\"_plus_layer_isloggedin\" style=\"display:none\">\\n<p class=\"dsc\">ON/OFF 설정은<br>해당기기(브라우저)에 저장됩니다.</p>\\n<div class=\"btn_area\">\\n<a href=\"https://help.naver.com/support/alias/search/word/word_16.naver\" class=\"btn btn_view\" data-clk=\"sug.cxlink\" target=\"_blank\">자세히</a>\\n</div>\\n</div>\\n<!-- [AU] _plus_layer_isnotloggedin 클래스를 추가해주세요. -->\\n<!-- [AU] style=\"display:none\" 추가해주세요. -->\\n<div class=\"_plus_layer_isnotloggedin\" style=\"display:none\">\\n<p class=\"dsc\"><em class=\"txt\">동일한 시간대/연령/남녀별</em> 사용자 그룹의<br>관심사에 맞춰 자동완성을 제공합니다.</p>\\n<div class=\"btn_area\">\\n<a href=\"https://nid.naver.com/nidlogin.login\" class=\"btn btn_login\" data-clk=\"sug.cxlogin\">로그인</a>\\n<a href=\"https://help.naver.com/support/alias/search/word/word_16.naver\" class=\"btn btn_view\" data-clk=\"sug.cxlink\" target=\"_blank\">자세히</a>\\n</div>\\n</div>\\n<!-- [AU] _plus_layer_close 클래스를 추가해주세요. -->\\n<a href=\"#\" role=\"button\" class=\"btn_close _plus_layer_close\"><i class=\"imsc ico_close\">컨텍스트 자동완성 레이어 닫기</i></a>\\n</div>\\n</div>\\n</div>\\n<div class=\"atcmp_footer\">\\n<span class=\"side_opt_area\">\\n<span class=\"opt_item\"><a href=\"https://help.naver.com/support/service/main.help?serviceNo=605&categoryNo=1987\" data-clk=\"sug.help\" target=\"_blank\">도움말</a></span>\\n<span class=\"opt_item\"><a href=\"https://help.naver.com/support/contents/contents.help?serviceNo=605&categoryNo=18215\" class=\"report\" data-clk=\"sug.report\" target=\"_blank\">신고</a></span>\\n</span>\\n<span class=\"rside_opt_area\">\\n<span class=\"opt_item\">\\n<!-- [AU] _suggestOnOff 클래스를 추가해주세요. -->\\n<a href=\"#\" class=\"close _suggestOnOff\">자동완성 끄기</a>\\n</span>\\n</span>\\n</div>\\n</div>\\n</div>\\n</div>\\n</div>\\n</div>\\n\\n</div>\\n</div>\\n\\n<!--EMPTY-->\\n<div id=\"gnb\">\\n<div id=\"NM_FAVORITE\" class=\"gnb_inner\">\\n<div class=\"group_nav\">\\n<ul class=\"list_nav type_fix\">\\n<li class=\"nav_item\">\\n<a href=\"https://mail.naver.com/\" class=\"nav\" data-clk=\"svc.mail\"><i class=\"ico_mail\"></i>메일</a>\\n</li>\\n<li class=\"nav_item\"><a href=\"https://section.cafe.naver.com/\" class=\"nav\" data-clk=\"svc.cafe\">카페</a></li>\\n<li class=\"nav_item\"><a href=\"https://section.blog.naver.com/\" class=\"nav\" data-clk=\"svc.blog\">블로그</a></li>\\n<li class=\"nav_item\"><a href=\"https://kin.naver.com/\" class=\"nav\" data-clk=\"svc.kin\">지식iN</a></li>\\n<li class=\"nav_item\"><a href=\"https://shopping.naver.com/\" class=\"nav shop\" data-clk=\"svc.shopping\"><span class=\"blind\">쇼핑</span></a></li>\\n<li class=\"nav_item\"><a href=\"https://shoppinglive.naver.com/home\" class=\"nav shoplive\"\\ndata-clk=\"svc.shoppinglive\"><span class=\"blind\">쇼핑LIVE</span></a></li>\\n<li class=\"nav_item\"><a href=\"https://order.pay.naver.com/home\" class=\"nav\" data-clk=\"svc.pay\">Pay</a></li>\\n<li class=\"nav_item\">\\n<a href=\"https://tv.naver.com/\" class=\"nav\" data-clk=\"svc.tvcast\"><i class=\"ico_tv\"></i>TV</a>\\n</li>\\n</ul>\\n<ul\\nclass=\"list_nav NM_FAVORITE_LIST\"\\n>\\n<li class=\"nav_item\"><a href=\"https://dict.naver.com/\" class=\"nav\" data-clk=\"svc.dic\">사전</a></li>\\n<li class=\"nav_item\"><a href=\"https://news.naver.com/\" class=\"nav\" data-clk=\"svc.news\">뉴스</a></li>\\n<li class=\"nav_item\"><a href=\"https://finance.naver.com/\" class=\"nav\" data-clk=\"svc.stock\">증권</a></li>\\n<li class=\"nav_item\"><a href=\"https://land.naver.com/\" class=\"nav\" data-clk=\"svc.land\">부동산</a></li>\\n<li class=\"nav_item\"><a href=\"https://map.naver.com/\" class=\"nav\" data-clk=\"svc.map\">지도</a></li>\\n<li class=\"nav_item\"><a href=\"https://vibe.naver.com/\" class=\"nav\" data-clk=\"svc.vibe\">VIBE</a></li>\\n<li class=\"nav_item\"><a href=\"https://book.naver.com/\" class=\"nav\" data-clk=\"svc.book\">책</a></li>\\n<li class=\"nav_item\"><a href=\"https://comic.naver.com/\" class=\"nav\" data-clk=\"svc.webtoon\">웹툰</a></li>\\n\\n</ul>\\n<ul class=\"list_nav type_empty\" style=\"display: none;\"></ul>\\n<a href=\"#\" role=\"button\" class=\"btn_more\" data-clk=\"svc.more\">더보기</a>\\n<div class=\"ly_btn_area\">\\n<a href=\"more.html\" class=\"btn NM_FAVORITE_ALL\" data-clk=\"map.svcmore\">서비스 전체보기</a>\\n<a href=\"#\" role=\"button\" class=\"btn btn_set\" data-clk=\"map.edit\">메뉴설정</a>\\n<a href=\"#\" role=\"button\" class=\"btn btn_reset\" data-clk=\"edt.reset\">초기화</a>\\n<a href=\"#\" role=\"button\" class=\"btn btn_save\" data-clk=\"edt.save\">저장</a>\\n</div>\\n</div>\\n<div id=\"NM_WEATHER\" class=\"group_weather\">\\n<div>\\n<a data-clk=\"squ.weat\" href=\"https://weather.naver.com/today/12710400\" class=\"weather_area ico_w01\">\\n<div class=\"current_box\">\\n<strong class=\"current\" aria-label=\"현재기온\">5.3°</strong><strong class=\"state\">맑음</strong>\\n</div>\\n<div class=\"degree_box\">\\n<span class=\"min\" aria-label=\"최저기온\">-4.0°</span><span class=\"max\" aria-label=\"최고기온\">7.0°</span>\\n</div>\\n<span class=\"location\">수북면</span>\\n</a>\\n</div>\\n<div>\\n<a data-clk=\"squ.dust\" href=\"https://weather.naver.com/today/12710400\" class=\"air_area\">\\n<ul class=\"list_air\">\\n<li class=\"air_item\">미세<strong class=\"state state_normal\">보통</strong></li>\\n<li class=\"air_item\">초미세<strong class=\"state state_good\">좋음</strong></li>\\n</ul>\\n<span class=\"location\">수북면</span>\\n</a>\\n</div>\\n\\n</div>\\n</div>\\n<div class=\"ly_service\">\\n<div class=\"group_service NM_FAVORITE_ALL_LY\"></div>\\n<div class=\"group_service NM_FAVORITE_EDIT_LY\" style=\"display: none;\"></div>\\n</div>\\n</div>\\n</div>\\n <div id=\"container\" role=\"main\"> <div style=\"position:relative;width:1130px;margin:0 auto;z-index:11\"> <div id=\"da_top\"></div> <div id=\"da_expwide\"></div> </div> <div id=\"NM_INT_LEFT\" class=\"column_left\"> <div id=\"veta_top\"> <div id=\"veta_top_inner\" style=\"height:135px\"> </div> <span class=\"veta_bd_t\"></span> <span class=\"veta_bd_b\"></span> <span class=\"veta_bd_l\"></span> <span class=\"veta_bd_r\"></span> </div> <div id=\"newsstand\" class=\"sc_newscast\"> <h2 class=\"blind\">뉴스스탠드</h2> <div id=\"NM_NEWSSTAND_HEADER\" class=\"group_issue\" data-clk-prefix=\"ncy\"> <div class=\"issue_area\"> <a class=\"link_media\" href=\"https://news.naver.com/main/list.naver?mode=LPOD&mid=sec&sid1=001&sid2=140&oid=001&isYeonhapFlash=Y\" data-clk=\"newsflash\">연합뉴스</a> <div id=\"NM_ONELINE_ROLLING\" class=\"list_issue\" data-nm-ui=\"rolling\"> <div><a href=\"https://news.naver.com/main/list.naver?mode=LPOD&mid=sec&sid1=001&sid2=140&oid=001&isYeonhapFlash=Y&aid=0012902462\" class=\"issue\" data-clk=\"quickarticle\">\"단일화적합도 安 43.5% 尹 32.7%…단일화시 安 41.6% 李 33.7%\"</a></div>\\n<div><a href=\"https://news.naver.com/main/list.naver?mode=LPOD&mid=sec&sid1=001&sid2=140&oid=001&isYeonhapFlash=Y&aid=0012901826\" class=\"issue\" data-clk=\"quickarticle\">평택공사장 화재진화중 실종 소방관 3명 숨진채발견</a></div>\\n<div><a href=\"https://news.naver.com/main/list.naver?mode=LPOD&mid=sec&sid1=001&sid2=140&oid=001&isYeonhapFlash=Y&aid=0012902277\" class=\"issue\" data-clk=\"quickarticle\">이준석, 의총 출석 요구에 \"공개 조건으로 무제한 토론 자신\"</a></div>\\n<div><a href=\"https://news.naver.com/main/list.naver?mode=LPOD&mid=sec&sid1=001&sid2=140&oid=001&isYeonhapFlash=Y&aid=0012902143\" class=\"issue\" data-clk=\"quickarticle\">상속주택, 소유주택수에서 2년간 제외…억울한 종부세 줄인다</a></div>\\n<div><a href=\"https://news.naver.com/main/list.naver?mode=LPOD&mid=sec&sid1=001&sid2=140&oid=001&isYeonhapFlash=Y&aid=0012902165\" class=\"issue\" data-clk=\"quickarticle\">경차 연료 개소세 연 30만원 환급…난임시술 의료비 세액공제↑</a></div>\\n<div><a href=\"https://news.naver.com/main/list.naver?mode=LPOD&mid=sec&sid1=001&sid2=140&oid=001&isYeonhapFlash=Y&aid=0012902455\" class=\"issue\" data-clk=\"quickarticle\">작년 아파트값 급등 경기지역 거품 빠지나…하남·의정부도 하락</a></div>\\n<div><a href=\"https://news.naver.com/main/list.naver?mode=LPOD&mid=sec&sid1=001&sid2=140&oid=001&isYeonhapFlash=Y&aid=0012902416\" class=\"issue\" data-clk=\"quickarticle\">심석희, 법적 대응 나섰다…징계 효력정지 가처분 신청</a></div>\\n<div><a href=\"https://news.naver.com/main/list.naver?mode=LPOD&mid=sec&sid1=001&sid2=140&oid=001&isYeonhapFlash=Y&aid=0012902473\" class=\"issue\" data-clk=\"quickarticle\">방역패스 논란, 예외 대상 늘리면 해결될까…정부 \"신중 검토\"</a></div>\\n<div><a href=\"https://news.naver.com/main/list.naver?mode=LPOD&mid=sec&sid1=001&sid2=140&oid=001&isYeonhapFlash=Y&aid=0012902072\" class=\"issue\" data-clk=\"quickarticle\">탈선 KTX 열차 바퀴 사고현장 3㎞ 전 다른 터널서 발견</a></div>\\n<div><a href=\"https://news.naver.com/main/list.naver?mode=LPOD&mid=sec&sid1=001&sid2=140&oid=001&isYeonhapFlash=Y&aid=0012902316\" class=\"issue\" data-clk=\"quickarticle\">박홍근 \"김건희, 뉴욕대 연수 중 폴리텍대 출강했다고 서명\"</a></div> </div> </div> <div class=\"direct_area\"> <a href=\"http://news.naver.com/\" class=\"link_news\" data-clk=\"newshome\">뉴스홈</a>\\n<a href=\"http://entertain.naver.com/home\" class=\"link_direct\" data-clk=\"entertainment\">연예</a>\\n<a href=\"http://sports.news.naver.com/\" class=\"link_direct\" data-clk=\"sports\">스포츠</a>\\n<a href=\"http://news.naver.com/main/main.nhn?mode=LSD&mid=shm&sid1=101\" class=\"link_direct\" data-clk=\"economy\">경제</a> </div> </div>        <div id=\"NM_NEWSSTAND_TITLE\" class=\"group_title\" data-clk-prefix=\"nsd\"> <a href=\"http://newsstand.naver.com/\" class=\"link_newsstand\" data-clk=\"title\" target=\"_blank\">뉴스스탠드</a> <div id=\"NM_NEWSSTAND_data_buttons\" class=\"sort_area\">  <a href=\"#\" role=\"button\" data-type=\"my\" data-clk=\"my\" class=\"btn_sort\">구독한 언론사</a> <a href=\"#\" role=\"button\" data-type=\"all\" data-clk=\"all\" class=\"btn_sort sort_on\">전체언론사</a>  </div> <div id=\"NM_NEWSSTAND_view_buttons\" class=\"set_area\">  <a href=\"#\" role=\"button\" data-type=\"list\" data-clk=\"articleview\" class=\"btn_set\"> <i class=\"ico_list\"><span class=\"blind\">리스트형</span></i></a> <a href=\"#\" role=\"button\" data-type=\"thumb\" data-clk=\"pressview\" class=\"btn_set set_on\"> <i class=\"ico_tile\"><span class=\"blind\">썸네일형</span></i></a>  <a href=\"http://newsstand.naver.com/config.html\" class=\"btn_set\" data-clk=\"set\" target=\"_blank\"> <i class=\"ico_set\"><span class=\"blind\">설정</span></i></a> </div> </div> <div id=\"NM_NEWSSTAND_VIEW_CONTAINER\" style=\"position:relative\"> <div id=\"NM_NEWSSTAND_DEFAULT_LIST\" class=\"group_news\" style=\"display:none\" data-clk-prefix=\"nsd_all\"> <a href=\"#\" role=\"button\" class=\"pm_btn_prev_l _NM_NEWSSTAND_LIST_prev_btn\" data-clk-custom=\"prev\"><i class=\"ico_btn\"><span class=\"blind\">이전</span></i></a> <a href=\"#\" role=\"button\" class=\"pm_btn_next_l _NM_NEWSSTAND_LIST_next_btn\" data-clk-custom=\"next\"><i class=\"ico_btn\"><span class=\"blind\">다음</span></i></a> <div class=\"list_view\"> <div class=\"option_area\"> <div class=\"list_option_wrap\"> <ul class=\"list_option\"> <li class=\"option_item\" data-cateid=\"ct2\"><a href=\"#\" class=\"option\" data-clk=\"daei\">종합/경제</a></li> <li class=\"option_item\" data-cateid=\"ct3\"><a href=\"#\" class=\"option\" data-clk=\"dtvcom\">방송/통신</a></li> <li class=\"option_item\" data-cateid=\"ct4\"><a href=\"#\" class=\"option\" data-clk=\"dit\">IT</a></li> <li class=\"option_item\" data-cateid=\"ct5\"><a href=\"#\" class=\"option\" data-clk=\"deng\">영자지</a></li> <li class=\"option_item\" data-cateid=\"ct6\"><a href=\"#\" class=\"option\" data-clk=\"dsporent\">스포츠/연예</a></li> <li class=\"option_item\" data-cateid=\"ct7\"><a href=\"#\" class=\"option\" data-clk=\"dmagtec\">매거진/전문지</a></li> <li class=\"option_item\" data-cateid=\"ct8\"><a href=\"#\" class=\"option\" data-clk=\"dloc\">지역</a></li> </ul> </div> </div> <div class=\"_NM_NEWSSTAND_ARTICLE_CONTAINER\" data-clk-sub=\"*a\"></div> </div> <div class=\"ly_popup NM_NEWSSTAND_POPUP NM_NEWSSTAND_invalid\" style=\"display:none\" data-clk-sub=\"*a\"> <a href=\"#\" role=\"button\" class=\"btn_close NM_NEWSSTAND_POPUP_CLOSE\"><i class=\"ico_close\"></i><span class=\"blind\">닫기</span></a> <p class=\"popup_msg\">해당 언론사 사정으로 접근이 제한됩니다.</p> <div class=\"popup_btn\"> <a href=\"#\" role=\"button\" class=\"btn_confirm NM_NEWSSTAND_POPUP_CLOSE\">확인</a> </div> </div> <div class=\"ly_popup NM_NEWSSTAND_POPUP NM_NEWSSTAND_undescribe_confirm\" style=\"display:none\" data-clk-sub=\"*a\"> <a href=\"#\" role=\"button\" class=\"btn_close NM_NEWSSTAND_POPUP_CLOSE\" data-clk=\"usclose\"><i class=\"ico_close\"></i><span class=\"blind\">닫기</span></a> <p class=\"popup_msg\"><strong class=\"NM_NEWSSTAND_POPUP_PNAME\"></strong>을(를)<br>구독해지 하시겠습니까?</p> <div class=\"popup_btn\"> <a href=\"#\" role=\"button\" class=\"btn_confirm NM_NEWSSTAND_POPUP_CONFIRM\" data-clk=\"usdone\">확인</a> <a href=\"#\" role=\"button\" class=\"btn_confirm NM_NEWSSTAND_POPUP_CLOSE\" data-clk=\"uscancel\">취소</a> </div> </div> <div class=\"ly_toast NM_NEWSSTAND_TOAST\" style=\"display:none\"> <p class=\"toast_msg\">구독한 언론사에 추가되었습니다.</p> </div> </div>   <div id=\"NM_NEWSSTAND_DEFAULT_THUMB\" class=\"group_news\" style=\"display:block\" data-clk-prefix=\"nsd_all\"> <a href=\"#\" role=\"button\" class=\"pm_btn_prev_l _NM_UI_PAGE_PREV\" data-clk-custom=\"prev\"><i class=\"ico_btn\"><span class=\"blind\">이전</span></i></a> <a href=\"#\" role=\"button\" class=\"pm_btn_next_l _NM_UI_PAGE_NEXT\" data-clk-custom=\"next\"><i class=\"ico_btn\"><span class=\"blind\">다음</span></i></a> <div class=\"_NM_UI_PAGE_CONTAINER\" style=\"height:100%;overflow:hidden\" data-clk-sub=\"*p\">   <div style=\"width: 750px; float: left;\">\\n<div class=\"tile_view\">\\n<div class=\"frame_area\">\\n<i class=\"line to_right1\"></i>\\n<i class=\"line to_right2\"></i>\\n<i class=\"line to_right3\"></i>\\n<i class=\"line to_bottom1\"></i>\\n<i class=\"line to_bottom2\"></i>\\n<i class=\"line to_bottom3\"></i>\\n<i class=\"line to_bottom4\"></i>\\n<i class=\"line to_bottom5\"></i>\\n</div>\\n<div class=\"thumb_area\">\\n<div\\nclass=\"thumb_box _NM_NEWSSTAND_THUMB _NM_NEWSSTAND_THUMB_press_valid\"\\ndata-pid=\"081\"\\n>\\n<a href=\"#\" class=\"thumb\">\\n<img\\nsrc=\"https://s.pstatic.net/static/newsstand/up/2022/0105/nsd20151679.png\"\\nheight=\"20\"\\nalt=\"서울신문\"\\nclass=\"news_logo\"\\n/>\\n<span class=\"thumb_dim\"></span\\n></a>\\n<div class=\"popup_wrap\">\\n<a\\nhref=\"#\"\\nrole=\"button\"\\nclass=\"btn_popup _NM_NEWSSTAND_THUMB_subscribe_press\"\\ndata-pid=\"081\"\\ndata-clk=\"sub\"\\n>구독</a\\n>\\n<a\\nhref=\"#\"\\nrole=\"button\"\\nclass=\"btn_popup _NM_NEWSSTAND_THUMB_unsubscribe_press\"\\ndata-pid=\"081\"\\ndata-clk=\"unsub\"\\n>해지</a\\n>\\n<a\\nhref=\"http://newsstand.naver.com/?list=&pcode=081\"\\ntarget=\"_blank\"\\nclass=\"btn_popup\"\\ndata-clk=\"logo\"\\ndata-pid=\"081\"\\n>기사보기</a\\n>\\n</div>\\n</div>\\n<div\\nclass=\"thumb_box _NM_NEWSSTAND_THUMB _NM_NEWSSTAND_THUMB_press_valid\"\\ndata-pid=\"139\"\\n>\\n<a href=\"#\" class=\"thumb\">\\n<img\\nsrc=\"https://s.pstatic.net/static/newsstand/2020/logo/light/0604/139.png\"\\nheight=\"20\"\\nalt=\"스포탈코리아\"\\nclass=\"news_logo\"\\n/>\\n<span class=\"thumb_dim\"></span\\n></a>\\n<div class=\"popup_wrap\">\\n<a\\nhref=\"#\"\\nrole=\"button\"\\nclass=\"btn_popup _NM_NEWSSTAND_THUMB_subscribe_press\"\\ndata-pid=\"139\"\\ndata-clk=\"sub\"\\n>구독</a\\n>\\n<a\\nhref=\"#\"\\nrole=\"button\"\\nclass=\"btn_popup _NM_NEWSSTAND_THUMB_unsubscribe_press\"\\ndata-pid=\"139\"\\ndata-clk=\"unsub\"\\n>해지</a\\n>\\n<a\\nhref=\"http://newsstand.naver.com/?list=&pcode=139\"\\ntarget=\"_blank\"\\nclass=\"btn_popup\"\\ndata-clk=\"logo\"\\ndata-pid=\"139\"\\n>기사보기</a\\n>\\n</div>\\n</div>\\n<div\\nclass=\"thumb_box _NM_NEWSSTAND_THUMB _NM_NEWSSTAND_THUMB_press_valid\"\\ndata-pid=\"052\"\\n>\\n<a href=\"#\" class=\"thumb\">\\n<img\\nsrc=\"https://s.pstatic.net/static/newsstand/2020/logo/light/0604/052.png\"\\nheight=\"20\"\\nalt=\"YTN\"\\nclass=\"news_logo\"\\n/>\\n<span class=\"thumb_dim\"></span\\n></a>\\n<div class=\"popup_wrap\">\\n<a\\nhref=\"#\"\\nrole=\"button\"\\nclass=\"btn_popup _NM_NEWSSTAND_THUMB_subscribe_press\"\\ndata-pid=\"052\"\\ndata-clk=\"sub\"\\n>구독</a\\n>\\n<a\\nhref=\"#\"\\nrole=\"button\"\\nclass=\"btn_popup _NM_NEWSSTAND_THUMB_unsubscribe_press\"\\ndata-pid=\"052\"\\ndata-clk=\"unsub\"\\n>해지</a\\n>\\n<a\\nhref=\"http://newsstand.naver.com/?list=&pcode=052\"\\ntarget=\"_blank\"\\nclass=\"btn_popup\"\\ndata-clk=\"logo\"\\ndata-pid=\"052\"\\n>기사보기</a\\n>\\n</div>\\n</div>\\n<div\\nclass=\"thumb_box _NM_NEWSSTAND_THUMB _NM_NEWSSTAND_THUMB_press_valid\"\\ndata-pid=\"008\"\\n>\\n<a href=\"#\" class=\"thumb\">\\n<img\\nsrc=\"https://s.pstatic.net/static/newsstand/2020/logo/light/0604/008.png\"\\nheight=\"20\"\\nalt=\"머니투데이\"\\nclass=\"news_logo\"\\n/>\\n<span class=\"thumb_dim\"></span\\n></a>\\n<div class=\"popup_wrap\">\\n<a\\nhref=\"#\"\\nrole=\"button\"\\nclass=\"btn_popup _NM_NEWSSTAND_THUMB_subscribe_press\"\\ndata-pid=\"008\"\\ndata-clk=\"sub\"\\n>구독</a\\n>\\n<a\\nhref=\"#\"\\nrole=\"button\"\\nclass=\"btn_popup _NM_NEWSSTAND_THUMB_unsubscribe_press\"\\ndata-pid=\"008\"\\ndata-clk=\"unsub\"\\n>해지</a\\n>\\n<a\\nhref=\"http://newsstand.naver.com/?list=&pcode=008\"\\ntarget=\"_blank\"\\nclass=\"btn_popup\"\\ndata-clk=\"logo\"\\ndata-pid=\"008\"\\n>기사보기</a\\n>\\n</div>\\n</div>\\n<div\\nclass=\"thumb_box _NM_NEWSSTAND_THUMB _NM_NEWSSTAND_THUMB_press_valid\"\\ndata-pid=\"215\"\\n>\\n<a href=\"#\" class=\"thumb\">\\n<img\\nsrc=\"https://s.pstatic.net/static/newsstand/2020/logo/light/0604/215.png\"\\nheight=\"20\"\\nalt=\"한국경제TV\"\\nclass=\"news_logo\"\\n/>\\n<span class=\"thumb_dim\"></span\\n></a>\\n<div class=\"popup_wrap\">\\n<a\\nhref=\"#\"\\nrole=\"button\"\\nclass=\"btn_popup _NM_NEWSSTAND_THUMB_subscribe_press\"\\ndata-pid=\"215\"\\ndata-clk=\"sub\"\\n>구독</a\\n>\\n<a\\nhref=\"#\"\\nrole=\"button\"\\nclass=\"btn_popup _NM_NEWSSTAND_THUMB_unsubscribe_press\"\\ndata-pid=\"215\"\\ndata-clk=\"unsub\"\\n>해지</a\\n>\\n<a\\nhref=\"http://newsstand.naver.com/?list=&pcode=215\"\\ntarget=\"_blank\"\\nclass=\"btn_popup\"\\ndata-clk=\"logo\"\\ndata-pid=\"215\"\\n>기사보기</a\\n>\\n</div>\\n</div>\\n<div\\nclass=\"thumb_box _NM_NEWSSTAND_THUMB _NM_NEWSSTAND_THUMB_press_valid\"\\ndata-pid=\"109\"\\n>\\n<a href=\"#\" class=\"thumb\">\\n<img\\nsrc=\"https://s.pstatic.net/static/newsstand/up/2020/0610/nsd151458769.png\"\\nheight=\"20\"\\nalt=\"OSEN\"\\nclass=\"news_logo\"\\n/>\\n<span class=\"thumb_dim\"></span\\n></a>\\n<div class=\"popup_wrap\">\\n<a\\nhref=\"#\"\\nrole=\"button\"\\nclass=\"btn_popup _NM_NEWSSTAND_THUMB_subscribe_press\"\\ndata-pid=\"109\"\\ndata-clk=\"sub\"\\n>구독</a\\n>\\n<a\\nhref=\"#\"\\nrole=\"button\"\\nclass=\"btn_popup _NM_NEWSSTAND_THUMB_unsubscribe_press\"\\ndata-pid=\"109\"\\ndata-clk=\"unsub\"\\n>해지</a\\n>\\n<a\\nhref=\"http://newsstand.naver.com/?list=&pcode=109\"\\ntarget=\"_blank\"\\nclass=\"btn_popup\"\\ndata-clk=\"logo\"\\ndata-pid=\"109\"\\n>기사보기</a\\n>\\n</div>\\n</div>\\n<div\\nclass=\"thumb_box _NM_NEWSSTAND_THUMB _NM_NEWSSTAND_THUMB_press_valid\"\\ndata-pid=\"038\"\\n>\\n<a href=\"#\" class=\"thumb\">\\n<img\\nsrc=\"https://s.pstatic.net/static/newsstand/2020/logo/light/0604/038.png\"\\nheight=\"20\"\\nalt=\"한국일보\"\\nclass=\"news_logo\"\\n/>\\n<span class=\"thumb_dim\"></span\\n></a>\\n<div class=\"popup_wrap\">\\n<a\\nhref=\"#\"\\nrole=\"button\"\\nclass=\"btn_popup _NM_NEWSSTAND_THUMB_subscribe_press\"\\ndata-pid=\"038\"\\ndata-clk=\"sub\"\\n>구독</a\\n>\\n<a\\nhref=\"#\"\\nrole=\"button\"\\nclass=\"btn_popup _NM_NEWSSTAND_THUMB_unsubscribe_press\"\\ndata-pid=\"038\"\\ndata-clk=\"unsub\"\\n>해지</a\\n>\\n<a\\nhref=\"http://newsstand.naver.com/?list=&pcode=038\"\\ntarget=\"_blank\"\\nclass=\"btn_popup\"\\ndata-clk=\"logo\"\\ndata-pid=\"038\"\\n>기사보기</a\\n>\\n</div>\\n</div>\\n<div\\nclass=\"thumb_box _NM_NEWSSTAND_THUMB _NM_NEWSSTAND_THUMB_press_valid\"\\ndata-pid=\"330\"\\n>\\n<a href=\"#\" class=\"thumb\">\\n<img\\nsrc=\"https://s.pstatic.net/static/newsstand/2020/logo/light/0604/330.png\"\\nheight=\"20\"\\nalt=\"중앙데일리\"\\nclass=\"news_logo\"\\n/>\\n<span class=\"thumb_dim\"></span\\n></a>\\n<div class=\"popup_wrap\">\\n<a\\nhref=\"#\"\\nrole=\"button\"\\nclass=\"btn_popup _NM_NEWSSTAND_THUMB_subscribe_press\"\\ndata-pid=\"330\"\\ndata-clk=\"sub\"\\n>구독</a\\n>\\n<a\\nhref=\"#\"\\nrole=\"button\"\\nclass=\"btn_popup _NM_NEWSSTAND_THUMB_unsubscribe_press\"\\ndata-pid=\"330\"\\ndata-clk=\"unsub\"\\n>해지</a\\n>\\n<a\\nhref=\"http://newsstand.naver.com/?list=&pcode=330\"\\ntarget=\"_blank\"\\nclass=\"btn_popup\"\\ndata-clk=\"logo\"\\ndata-pid=\"330\"\\n>기사보기</a\\n>\\n</div>\\n</div>\\n<div\\nclass=\"thumb_box _NM_NEWSSTAND_THUMB _NM_NEWSSTAND_THUMB_press_valid\"\\ndata-pid=\"016\"\\n>\\n<a href=\"#\" class=\"thumb\">\\n<img\\nsrc=\"https://s.pstatic.net/static/newsstand/2020/logo/light/0604/016.png\"\\nheight=\"20\"\\nalt=\"헤럴드경제\"\\nclass=\"news_logo\"\\n/>\\n<span class=\"thumb_dim\"></span\\n></a>\\n<div class=\"popup_wrap\">\\n<a\\nhref=\"#\"\\nrole=\"button\"\\nclass=\"btn_popup _NM_NEWSSTAND_THUMB_subscribe_press\"\\ndata-pid=\"016\"\\ndata-clk=\"sub\"\\n>구독</a\\n>\\n<a\\nhref=\"#\"\\nrole=\"button\"\\nclass=\"btn_popup _NM_NEWSSTAND_THUMB_unsubscribe_press\"\\ndata-pid=\"016\"\\ndata-clk=\"unsub\"\\n>해지</a\\n>\\n<a\\nhref=\"http://newsstand.naver.com/?list=&pcode=016\"\\ntarget=\"_blank\"\\nclass=\"btn_popup\"\\ndata-clk=\"logo\"\\ndata-pid=\"016\"\\n>기사보기</a\\n>\\n</div>\\n</div>\\n<div\\nclass=\"thumb_box _NM_NEWSSTAND_THUMB _NM_NEWSSTAND_THUMB_press_valid\"\\ndata-pid=\"028\"\\n>\\n<a href=\"#\" class=\"thumb\">\\n<img\\nsrc=\"https://s.pstatic.net/static/newsstand/2020/logo/light/0604/028.png\"\\nheight=\"20\"\\nalt=\"한겨레\"\\nclass=\"news_logo\"\\n/>\\n<span class=\"thumb_dim\"></span\\n></a>\\n<div class=\"popup_wrap\">\\n<a\\nhref=\"#\"\\nrole=\"button\"\\nclass=\"btn_popup _NM_NEWSSTAND_THUMB_subscribe_press\"\\ndata-pid=\"028\"\\ndata-clk=\"sub\"\\n>구독</a\\n>\\n<a\\nhref=\"#\"\\nrole=\"button\"\\nclass=\"btn_popup _NM_NEWSSTAND_THUMB_unsubscribe_press\"\\ndata-pid=\"028\"\\ndata-clk=\"unsub\"\\n>해지</a\\n>\\n<a\\nhref=\"http://newsstand.naver.com/?list=&pcode=028\"\\ntarget=\"_blank\"\\nclass=\"btn_popup\"\\ndata-clk=\"logo\"\\ndata-pid=\"028\"\\n>기사보기</a\\n>\\n</div>\\n</div>\\n<div\\nclass=\"thumb_box _NM_NEWSSTAND_THUMB _NM_NEWSSTAND_THUMB_press_valid\"\\ndata-pid=\"241\"\\n>\\n<a href=\"#\" class=\"thumb\">\\n<img\\nsrc=\"https://s.pstatic.net/static/newsstand/2020/logo/light/0604/241.png\"\\nheight=\"20\"\\nalt=\"일간스포츠\"\\nclass=\"news_logo\"\\n/>\\n<span class=\"thumb_dim\"></span\\n></a>\\n<div class=\"popup_wrap\">\\n<a\\nhref=\"#\"\\nrole=\"button\"\\nclass=\"btn_popup _NM_NEWSSTAND_THUMB_subscribe_press\"\\ndata-pid=\"241\"\\ndata-clk=\"sub\"\\n>구독</a\\n>\\n<a\\nhref=\"#\"\\nrole=\"button\"\\nclass=\"btn_popup _NM_NEWSSTAND_THUMB_unsubscribe_press\"\\ndata-pid=\"241\"\\ndata-clk=\"unsub\"\\n>해지</a\\n>\\n<a\\nhref=\"http://newsstand.naver.com/?list=&pcode=241\"\\ntarget=\"_blank\"\\nclass=\"btn_popup\"\\ndata-clk=\"logo\"\\ndata-pid=\"241\"\\n>기사보기</a\\n>\\n</div>\\n</div>\\n<div\\nclass=\"thumb_box _NM_NEWSSTAND_THUMB _NM_NEWSSTAND_THUMB_press_valid\"\\ndata-pid=\"032\"\\n>\\n<a href=\"#\" class=\"thumb\">\\n<img\\nsrc=\"https://s.pstatic.net/static/newsstand/2020/logo/light/0604/032.png\"\\nheight=\"20\"\\nalt=\"경향신문\"\\nclass=\"news_logo\"\\n/>\\n<span class=\"thumb_dim\"></span\\n></a>\\n<div class=\"popup_wrap\">\\n<a\\nhref=\"#\"\\nrole=\"button\"\\nclass=\"btn_popup _NM_NEWSSTAND_THUMB_subscribe_press\"\\ndata-pid=\"032\"\\ndata-clk=\"sub\"\\n>구독</a\\n>\\n<a\\nhref=\"#\"\\nrole=\"button\"\\nclass=\"btn_popup _NM_NEWSSTAND_THUMB_unsubscribe_press\"\\ndata-pid=\"032\"\\ndata-clk=\"unsub\"\\n>해지</a\\n>\\n<a\\nhref=\"http://newsstand.naver.com/?list=&pcode=032\"\\ntarget=\"_blank\"\\nclass=\"btn_popup\"\\ndata-clk=\"logo\"\\ndata-pid=\"032\"\\n>기사보기</a\\n>\\n</div>\\n</div>\\n<div\\nclass=\"thumb_box _NM_NEWSSTAND_THUMB _NM_NEWSSTAND_THUMB_press_valid\"\\ndata-pid=\"047\"\\n>\\n<a href=\"#\" class=\"thumb\">\\n<img\\nsrc=\"https://s.pstatic.net/static/newsstand/2020/logo/light/0604/047.png\"\\nheight=\"20\"\\nalt=\"오마이뉴스\"\\nclass=\"news_logo\"\\n/>\\n<span class=\"thumb_dim\"></span\\n></a>\\n<div class=\"popup_wrap\">\\n<a\\nhref=\"#\"\\nrole=\"button\"\\nclass=\"btn_popup _NM_NEWSSTAND_THUMB_subscribe_press\"\\ndata-pid=\"047\"\\ndata-clk=\"sub\"\\n>구독</a\\n>\\n<a\\nhref=\"#\"\\nrole=\"button\"\\nclass=\"btn_popup _NM_NEWSSTAND_THUMB_unsubscribe_press\"\\ndata-pid=\"047\"\\ndata-clk=\"unsub\"\\n>해지</a\\n>\\n<a\\nhref=\"http://newsstand.naver.com/?list=&pcode=047\"\\ntarget=\"_blank\"\\nclass=\"btn_popup\"\\ndata-clk=\"logo\"\\ndata-pid=\"047\"\\n>기사보기</a\\n>\\n</div>\\n</div>\\n<div\\nclass=\"thumb_box _NM_NEWSSTAND_THUMB _NM_NEWSSTAND_THUMB_press_valid\"\\ndata-pid=\"056\"\\n>\\n<a href=\"#\" class=\"thumb\">\\n<img\\nsrc=\"https://s.pstatic.net/static/newsstand/2020/logo/light/0604/056.png\"\\nheight=\"20\"\\nalt=\"KBS\"\\nclass=\"news_logo\"\\n/>\\n<span class=\"thumb_dim\"></span\\n></a>\\n<div class=\"popup_wrap\">\\n<a\\nhref=\"#\"\\nrole=\"button\"\\nclass=\"btn_popup _NM_NEWSSTAND_THUMB_subscribe_press\"\\ndata-pid=\"056\"\\ndata-clk=\"sub\"\\n>구독</a\\n>\\n<a\\nhref=\"#\"\\nrole=\"button\"\\nclass=\"btn_popup _NM_NEWSSTAND_THUMB_unsubscribe_press\"\\ndata-pid=\"056\"\\ndata-clk=\"unsub\"\\n>해지</a\\n>\\n<a\\nhref=\"http://newsstand.naver.com/?list=&pcode=056\"\\ntarget=\"_blank\"\\nclass=\"btn_popup\"\\ndata-clk=\"logo\"\\ndata-pid=\"056\"\\n>기사보기</a\\n>\\n</div>\\n</div>\\n<div\\nclass=\"thumb_box _NM_NEWSSTAND_THUMB _NM_NEWSSTAND_THUMB_press_valid\"\\ndata-pid=\"023\"\\n>\\n<a href=\"#\" class=\"thumb\">\\n<img\\nsrc=\"https://s.pstatic.net/static/newsstand/up/2020/0903/nsd185255316.png\"\\nheight=\"20\"\\nalt=\"조선일보\"\\nclass=\"news_logo\"\\n/>\\n<span class=\"thumb_dim\"></span\\n></a>\\n<div class=\"popup_wrap\">\\n<a\\nhref=\"#\"\\nrole=\"button\"\\nclass=\"btn_popup _NM_NEWSSTAND_THUMB_subscribe_press\"\\ndata-pid=\"023\"\\ndata-clk=\"sub\"\\n>구독</a\\n>\\n<a\\nhref=\"#\"\\nrole=\"button\"\\nclass=\"btn_popup _NM_NEWSSTAND_THUMB_unsubscribe_press\"\\ndata-pid=\"023\"\\ndata-clk=\"unsub\"\\n>해지</a\\n>\\n<a\\nhref=\"http://newsstand.naver.com/?list=&pcode=023\"\\ntarget=\"_blank\"\\nclass=\"btn_popup\"\\ndata-clk=\"logo\"\\ndata-pid=\"023\"\\n>기사보기</a\\n>\\n</div>\\n</div>\\n<div\\nclass=\"thumb_box _NM_NEWSSTAND_THUMB _NM_NEWSSTAND_THUMB_press_valid\"\\ndata-pid=\"976\"\\n>\\n<a href=\"#\" class=\"thumb\">\\n<img\\nsrc=\"https://s.pstatic.net/static/newsstand/2020/logo/light/0604/976.png\"\\nheight=\"20\"\\nalt=\"무등일보\"\\nclass=\"news_logo\"\\n/>\\n<span class=\"thumb_dim\"></span\\n></a>\\n<div class=\"popup_wrap\">\\n<a\\nhref=\"#\"\\nrole=\"button\"\\nclass=\"btn_popup _NM_NEWSSTAND_THUMB_subscribe_press\"\\ndata-pid=\"976\"\\ndata-clk=\"sub\"\\n>구독</a\\n>\\n<a\\nhref=\"#\"\\nrole=\"button\"\\nclass=\"btn_popup _NM_NEWSSTAND_THUMB_unsubscribe_press\"\\ndata-pid=\"976\"\\ndata-clk=\"unsub\"\\n>해지</a\\n>\\n<a\\nhref=\"http://newsstand.naver.com/?list=&pcode=976\"\\ntarget=\"_blank\"\\nclass=\"btn_popup\"\\ndata-clk=\"logo\"\\ndata-pid=\"976\"\\n>기사보기</a\\n>\\n</div>\\n</div>\\n<div\\nclass=\"thumb_box _NM_NEWSSTAND_THUMB _NM_NEWSSTAND_THUMB_press_valid\"\\ndata-pid=\"388\"\\n>\\n<a href=\"#\" class=\"thumb\">\\n<img\\nsrc=\"https://s.pstatic.net/static/newsstand/2020/logo/light/0604/388.png\"\\nheight=\"20\"\\nalt=\"전남일보\"\\nclass=\"news_logo\"\\n/>\\n<span class=\"thumb_dim\"></span\\n></a>\\n<div class=\"popup_wrap\">\\n<a\\nhref=\"#\"\\nrole=\"button\"\\nclass=\"btn_popup _NM_NEWSSTAND_THUMB_subscribe_press\"\\ndata-pid=\"388\"\\ndata-clk=\"sub\"\\n>구독</a\\n>\\n<a\\nhref=\"#\"\\nrole=\"button\"\\nclass=\"btn_popup _NM_NEWSSTAND_THUMB_unsubscribe_press\"\\ndata-pid=\"388\"\\ndata-clk=\"unsub\"\\n>해지</a\\n>\\n<a\\nhref=\"http://newsstand.naver.com/?list=&pcode=388\"\\ntarget=\"_blank\"\\nclass=\"btn_popup\"\\ndata-clk=\"logo\"\\ndata-pid=\"388\"\\n>기사보기</a\\n>\\n</div>\\n</div>\\n<div\\nclass=\"thumb_box _NM_NEWSSTAND_THUMB _NM_NEWSSTAND_THUMB_press_valid\"\\ndata-pid=\"345\"\\n>\\n<a href=\"#\" class=\"thumb\">\\n<img\\nsrc=\"https://s.pstatic.net/static/newsstand/2020/logo/light/0604/345.png\"\\nheight=\"20\"\\nalt=\"디자인정글\"\\nclass=\"news_logo\"\\n/>\\n<span class=\"thumb_dim\"></span\\n></a>\\n<div class=\"popup_wrap\">\\n<a\\nhref=\"#\"\\nrole=\"button\"\\nclass=\"btn_popup _NM_NEWSSTAND_THUMB_subscribe_press\"\\ndata-pid=\"345\"\\ndata-clk=\"sub\"\\n>구독</a\\n>\\n<a\\nhref=\"#\"\\nrole=\"button\"\\nclass=\"btn_popup _NM_NEWSSTAND_THUMB_unsubscribe_press\"\\ndata-pid=\"345\"\\ndata-clk=\"unsub\"\\n>해지</a\\n>\\n<a\\nhref=\"http://newsstand.naver.com/?list=&pcode=345\"\\ntarget=\"_blank\"\\nclass=\"btn_popup\"\\ndata-clk=\"logo\"\\ndata-pid=\"345\"\\n>기사보기</a\\n>\\n</div>\\n</div>\\n<div\\nclass=\"thumb_box _NM_NEWSSTAND_THUMB _NM_NEWSSTAND_THUMB_press_valid\"\\ndata-pid=\"356\"\\n>\\n<a href=\"#\" class=\"thumb\">\\n<img\\nsrc=\"https://s.pstatic.net/static/newsstand/2020/logo/light/0604/356.png\"\\nheight=\"20\"\\nalt=\"게임메카\"\\nclass=\"news_logo\"\\n/>\\n<span class=\"thumb_dim\"></span\\n></a>\\n<div class=\"popup_wrap\">\\n<a\\nhref=\"#\"\\nrole=\"button\"\\nclass=\"btn_popup _NM_NEWSSTAND_THUMB_subscribe_press\"\\ndata-pid=\"356\"\\ndata-clk=\"sub\"\\n>구독</a\\n>\\n<a\\nhref=\"#\"\\nrole=\"button\"\\nclass=\"btn_popup _NM_NEWSSTAND_THUMB_unsubscribe_press\"\\ndata-pid=\"356\"\\ndata-clk=\"unsub\"\\n>해지</a\\n>\\n<a\\nhref=\"http://newsstand.naver.com/?list=&pcode=356\"\\ntarget=\"_blank\"\\nclass=\"btn_popup\"\\ndata-clk=\"logo\"\\ndata-pid=\"356\"\\n>기사보기</a\\n>\\n</div>\\n</div>\\n<div\\nclass=\"thumb_box _NM_NEWSSTAND_THUMB _NM_NEWSSTAND_THUMB_press_valid\"\\ndata-pid=\"921\"\\n>\\n<a href=\"#\" class=\"thumb\">\\n<img\\nsrc=\"https://s.pstatic.net/static/newsstand/2020/logo/light/0604/921.png\"\\nheight=\"20\"\\nalt=\"아주경제\"\\nclass=\"news_logo\"\\n/>\\n<span class=\"thumb_dim\"></span\\n></a>\\n<div class=\"popup_wrap\">\\n<a\\nhref=\"#\"\\nrole=\"button\"\\nclass=\"btn_popup _NM_NEWSSTAND_THUMB_subscribe_press\"\\ndata-pid=\"921\"\\ndata-clk=\"sub\"\\n>구독</a\\n>\\n<a\\nhref=\"#\"\\nrole=\"button\"\\nclass=\"btn_popup _NM_NEWSSTAND_THUMB_unsubscribe_press\"\\ndata-pid=\"921\"\\ndata-clk=\"unsub\"\\n>해지</a\\n>\\n<a\\nhref=\"http://newsstand.naver.com/?list=&pcode=921\"\\ntarget=\"_blank\"\\nclass=\"btn_popup\"\\ndata-clk=\"logo\"\\ndata-pid=\"921\"\\n>기사보기</a\\n>\\n</div>\\n</div>\\n<div\\nclass=\"thumb_box _NM_NEWSSTAND_THUMB _NM_NEWSSTAND_THUMB_press_valid\"\\ndata-pid=\"965\"\\n>\\n<a href=\"#\" class=\"thumb\">\\n<img\\nsrc=\"https://s.pstatic.net/static/newsstand/2020/logo/light/0604/965.png\"\\nheight=\"20\"\\nalt=\"전기신문\"\\nclass=\"news_logo\"\\n/>\\n<span class=\"thumb_dim\"></span\\n></a>\\n<div class=\"popup_wrap\">\\n<a\\nhref=\"#\"\\nrole=\"button\"\\nclass=\"btn_popup _NM_NEWSSTAND_THUMB_subscribe_press\"\\ndata-pid=\"965\"\\ndata-clk=\"sub\"\\n>구독</a\\n>\\n<a\\nhref=\"#\"\\nrole=\"button\"\\nclass=\"btn_popup _NM_NEWSSTAND_THUMB_unsubscribe_press\"\\ndata-pid=\"965\"\\ndata-clk=\"unsub\"\\n>해지</a\\n>\\n<a\\nhref=\"http://newsstand.naver.com/?list=&pcode=965\"\\ntarget=\"_blank\"\\nclass=\"btn_popup\"\\ndata-clk=\"logo\"\\ndata-pid=\"965\"\\n>기사보기</a\\n>\\n</div>\\n</div>\\n<div\\nclass=\"thumb_box _NM_NEWSSTAND_THUMB _NM_NEWSSTAND_THUMB_press_valid\"\\ndata-pid=\"915\"\\n>\\n<a href=\"#\" class=\"thumb\">\\n<img\\nsrc=\"https://s.pstatic.net/static/newsstand/2020/logo/light/0604/915.png\"\\nheight=\"20\"\\nalt=\"르몽드 디플로마티크\"\\nclass=\"news_logo\"\\n/>\\n<span class=\"thumb_dim\"></span\\n></a>\\n<div class=\"popup_wrap\">\\n<a\\nhref=\"#\"\\nrole=\"button\"\\nclass=\"btn_popup _NM_NEWSSTAND_THUMB_subscribe_press\"\\ndata-pid=\"915\"\\ndata-clk=\"sub\"\\n>구독</a\\n>\\n<a\\nhref=\"#\"\\nrole=\"button\"\\nclass=\"btn_popup _NM_NEWSSTAND_THUMB_unsubscribe_press\"\\ndata-pid=\"915\"\\ndata-clk=\"unsub\"\\n>해지</a\\n>\\n<a\\nhref=\"http://newsstand.naver.com/?list=&pcode=915\"\\ntarget=\"_blank\"\\nclass=\"btn_popup\"\\ndata-clk=\"logo\"\\ndata-pid=\"915\"\\n>기사보기</a\\n>\\n</div>\\n</div>\\n<div\\nclass=\"thumb_box _NM_NEWSSTAND_THUMB _NM_NEWSSTAND_THUMB_press_valid\"\\ndata-pid=\"243\"\\n>\\n<a href=\"#\" class=\"thumb\">\\n<img\\nsrc=\"https://s.pstatic.net/static/newsstand/2020/logo/light/0604/243.png\"\\nheight=\"20\"\\nalt=\"이코노미스트\"\\nclass=\"news_logo\"\\n/>\\n<span class=\"thumb_dim\"></span\\n></a>\\n<div class=\"popup_wrap\">\\n<a\\nhref=\"#\"\\nrole=\"button\"\\nclass=\"btn_popup _NM_NEWSSTAND_THUMB_subscribe_press\"\\ndata-pid=\"243\"\\ndata-clk=\"sub\"\\n>구독</a\\n>\\n<a\\nhref=\"#\"\\nrole=\"button\"\\nclass=\"btn_popup _NM_NEWSSTAND_THUMB_unsubscribe_press\"\\ndata-pid=\"243\"\\ndata-clk=\"unsub\"\\n>해지</a\\n>\\n<a\\nhref=\"http://newsstand.naver.com/?list=&pcode=243\"\\ntarget=\"_blank\"\\nclass=\"btn_popup\"\\ndata-clk=\"logo\"\\ndata-pid=\"243\"\\n>기사보기</a\\n>\\n</div>\\n</div>\\n<div\\nclass=\"thumb_box _NM_NEWSSTAND_THUMB _NM_NEWSSTAND_THUMB_press_valid\"\\ndata-pid=\"972\"\\n>\\n<a href=\"#\" class=\"thumb\">\\n<img\\nsrc=\"https://s.pstatic.net/static/newsstand/2020/logo/light/0604/972.png\"\\nheight=\"20\"\\nalt=\"PD저널\"\\nclass=\"news_logo\"\\n/>\\n<span class=\"thumb_dim\"></span\\n></a>\\n<div class=\"popup_wrap\">\\n<a\\nhref=\"#\"\\nrole=\"button\"\\nclass=\"btn_popup _NM_NEWSSTAND_THUMB_subscribe_press\"\\ndata-pid=\"972\"\\ndata-clk=\"sub\"\\n>구독</a\\n>\\n<a\\nhref=\"#\"\\nrole=\"button\"\\nclass=\"btn_popup _NM_NEWSSTAND_THUMB_unsubscribe_press\"\\ndata-pid=\"972\"\\ndata-clk=\"unsub\"\\n>해지</a\\n>\\n<a\\nhref=\"http://newsstand.naver.com/?list=&pcode=972\"\\ntarget=\"_blank\"\\nclass=\"btn_popup\"\\ndata-clk=\"logo\"\\ndata-pid=\"972\"\\n>기사보기</a\\n>\\n</div>\\n</div>\\n</div>\\n</div>\\n</div>\\n  </div> <div class=\"ly_popup NM_NEWSSTAND_POPUP NM_NEWSSTAND_invalid\" style=\"display:none\"> <a href=\"#\" role=\"button\" class=\"btn_close NM_NEWSSTAND_POPUP_CLOSE\"><i class=\"ico_close\"></i><span class=\"blind\">닫기</span></a> <p class=\"popup_msg\">해당 언론사 사정으로 접근이 제한됩니다.</p> <div class=\"popup_btn\"> <a href=\"#\" role=\"button\" class=\"btn_confirm NM_NEWSSTAND_POPUP_CLOSE\">확인</a> </div> </div> <div class=\"ly_popup NM_NEWSSTAND_POPUP NM_NEWSSTAND_undescribe_confirm\" style=\"display:none\" data-clk-sub=\"*a\"> <a href=\"#\" role=\"button\" class=\"btn_close NM_NEWSSTAND_POPUP_CLOSE\" data-clk=\"usclose\"><i class=\"ico_close\"></i><span class=\"blind\">닫기</span></a> <p class=\"popup_msg\"><strong class=\"NM_NEWSSTAND_POPUP_PNAME\"></strong>을(를)<br/>구독해지 하시겠습니까?</p> <div class=\"popup_btn\"> <a href=\"#\" role=\"button\" class=\"btn_confirm NM_NEWSSTAND_POPUP_CONFIRM\" data-clk=\"usdone\">확인</a> <a href=\"#\" role=\"button\" class=\"btn_confirm NM_NEWSSTAND_POPUP_CLOSE\" data-clk=\"uscancel\">취소</a> </div> </div> <div class=\"ly_toast NM_NEWSSTAND_TOAST\" style=\"display:none\"> <p class=\"toast_msg\">구독한 언론사에 추가되었습니다.</p> </div> </div> <div id=\"NM_NEWSSTAND_MY_LIST\" class=\"group_news\" style=\"display:none\" data-clk-prefix=\"nsd_myn\"> <a href=\"#\" role=\"button\" class=\"pm_btn_prev_l _NM_NEWSSTAND_LIST_prev_btn\" data-clk-custom=\"prev\"><i class=\"ico_btn\"></i><span class=\"blind\">이전</span></a> <a href=\"#\" role=\"button\" class=\"pm_btn_next_l _NM_NEWSSTAND_LIST_next_btn\" data-clk-custom=\"next\"><i class=\"ico_btn\"></i><span class=\"blind\">다음</span><span class=\"blind\">다음</span></a> <div class=\"list_view\"> <div class=\"option_area\"> <div class=\"list_option_wrap\"> <ul class=\"list_option _NM_NEWSSTAND_MY_presslist\"> <!-- nvpaperlist:empty --> </ul> </div> </div> <div class=\"_NM_NEWSSTAND_ARTICLE_CONTAINER\" data-clk-sub=\"*a\">  </div> </div> <div class=\"ly_popup NM_NEWSSTAND_POPUP NM_NEWSSTAND_invalid\" style=\"display:none\"> <a href=\"#\" role=\"button\" class=\"btn_close NM_NEWSSTAND_POPUP_CLOSE\"><i class=\"ico_close\"></i><span class=\"blind\">닫기</span></a> <p class=\"popup_msg\">해당 언론사 사정으로 접근이 일시 제한됩니다.</p> <div class=\"popup_btn\"> <a href=\"#\" role=\"button\" class=\"btn_confirm NM_NEWSSTAND_POPUP_CLOSE\">확인</a> </div> </div> <div class=\"ly_popup NM_NEWSSTAND_POPUP NM_NEWSSTAND_undescribe_confirm\" style=\"display:none\" data-clk-sub=\"*a\"> <a href=\"#\" role=\"button\" class=\"btn_close NM_NEWSSTAND_POPUP_CLOSE\" data-clk=\"usclose\"><i class=\"ico_close\"></i><span class=\"blind\">닫기</span></a> <p class=\"popup_msg\"><strong class=\"NM_NEWSSTAND_POPUP_PNAME\"></strong>을(를)<br>구독해지 하시겠습니까?</p> <div class=\"popup_btn\"> <a href=\"#\" role=\"button\" class=\"btn_confirm NM_NEWSSTAND_POPUP_CONFIRM\" data-clk=\"usdone\">확인</a> <a href=\"#\" role=\"button\" class=\"btn_confirm NM_NEWSSTAND_POPUP_CLOSE\" data-clk=\"uscancel\">취소</a> </div> </div> </div> <div id=\"NM_NEWSSTAND_MY_THUMB\" class=\"group_news\" style=\"display:none\" data-clk-prefix=\"nsd_myn\"> <a href=\"#\" role=\"button\" class=\"pm_btn_prev_l _NM_UI_PAGE_PREV\" data-clk-custom=\"prev\"><i class=\"ico_btn\"><span class=\"blind\">이전</span></i></a> <a href=\"#\" role=\"button\" class=\"pm_btn_next_l _NM_UI_PAGE_NEXT\" data-clk-custom=\"next\"><i class=\"ico_btn\"><span class=\"blind\">다음</span></i></a> <div class=\"_NM_UI_PAGE_CONTAINER\" data-clk-sub=\"*p\"></div> <div class=\"ly_popup NM_NEWSSTAND_POPUP NM_NEWSSTAND_invalid\" style=\"display:none\"> <a href=\"#\" role=\"button\" class=\"btn_close NM_NEWSSTAND_POPUP_CLOSE\"><i class=\"ico_close\"></i><span class=\"blind\">닫기</span></a> <p class=\"popup_msg\">해당 언론사 사정으로 접근이 제한됩니다.</p> <div class=\"popup_btn\"> <a href=\"#\" role=\"button\" class=\"btn_confirm NM_NEWSSTAND_POPUP_CLOSE\">확인</a> </div> </div> <div class=\"ly_popup NM_NEWSSTAND_POPUP NM_NEWSSTAND_undescribe_confirm\" style=\"display:none\" data-clk-sub=\"*a\"> <a href=\"#\" role=\"button\" class=\"btn_close NM_NEWSSTAND_POPUP_CLOSE\" data-clk=\"usclose\"><i class=\"ico_close\"></i><span class=\"blind\">닫기</span></a> <p class=\"popup_msg\"><strong class=\"NM_NEWSSTAND_POPUP_PNAME\"></strong>을(를)<br>구독해지 하시겠습니까?</p> <div class=\"popup_btn\"> <a href=\"#\" role=\"button\" class=\"btn_confirm NM_NEWSSTAND_POPUP_CONFIRM\" data-clk=\"usdone\">확인</a> <a href=\"#\" role=\"button\" class=\"btn_confirm NM_NEWSSTAND_POPUP_CLOSE\" data-clk=\"uscancel\">취소</a> </div> </div> </div> <div id=\"NM_NEWSSTAND_MY_EMPTY\" class=\"group_news\" style=\"display:none\"> <div class=\"error_view\"> <div class=\"error_area\"> <strong class=\"error_msg\">구독한 언론사가 없습니다.</strong> <p class=\"dsc_msg\">언론사 구독 설정에서 관심있는 언론사를 구독하시면<br>언론사가 직접 편집한 뉴스들을 네이버 홈에서 바로 보실 수 있습니다.</p> <a href=\"http://newsstand.naver.com/config.html\" class=\"link_redirect\" target=\"_blank\">언론사 구독 설정하기</a> </div> </div> </div> </div> </div> <!-- EMPTY --> <div id=\"NM_THEMECAST_CONTENTS_CONTAINER\"> <div id=\"themecast\" class=\"sc_themecast id_livinghome\" data-fixed=\"LIVINGHOME\">\\n\\t<h2 class=\"blind\">주제별 캐스트</h2>\\n\\t<div class=\"theme_head\">\\n\\t\\t<div class=\"group_title\">\\n\\t<div class=\"title_area\">\\n\\t\\t<strong class=\"title\">오늘 읽을만한 글</strong><span class=\"dsc\">주제별로 분류된 다양한 글 모음</span>\\n\\t</div>\\n\\t<div class=\"info_area\">\\n\\t\\t\\n\\t\\t\\t<span class=\"info\"><strong class=\"new\">979</strong> 개의 글</span>\\n\\t\\t\\n\\t\\t<a id=\"NM_THEME_EDIT_SET\" href=\"#\" role=\"button\" class=\"btn_set\" data-clk=\"tca.like\">관심주제 설정</a>\\n\\t</div>\\n</div>\\n<div id=\"NM_THEME_CATE_GROUPS\" class=\"group_category\" data-demo-key=\"default\">\\n\\t<div class=\"main_category\">\\n\\t\\t<a href=\"#\" role=\"button\" class=\"pm_btn_prev NM_THEME_PREV\" data-clk=\"tct.prev\" style=\"display: none;\">\\n\\t\\t\\t<i class=\"ico_btn\"><span class=\"blind\">이전</span></i>\\n\\t\\t</a>\\n\\t\\t<a href=\"#\" role=\"button\" class=\"pm_btn_next NM_THEME_NEXT\" data-clk=\"tct.next\" style=\"display: none;\">\\n\\t\\t\\t<i class=\"ico_btn\"><span class=\"blind\">다음</span></i>\\n\\t\\t</a>\\n\\t\\t<div id=\"NM_THEME_CATE_FLICK\" class=\"_NM_UI_PAGE_CONTAINER\" style=\"height: 49px; overflow: hidden;\">\\n\\t\\t\\t\\n\\t\\t\\t\\t<div style=\"width: 750px;\">\\n\\t\\t\\t\\t\\t<ul class=\"list_category\" role=\"tablist\">\\n\\t\\t\\t\\t\\t\\t\\n\\t\\t\\t\\t\\t\\t\\t<li class=\"category_item\" role=\"presentation\">\\n\\t\\t\\t\\t\\t\\t\\t\\t\\n\\t\\t\\t\\t\\t\\t\\t\\t\\n\\t\\t\\t\\t\\t\\t\\t\\t<a href=\"#\" role=\"tab\" class=\"_NM_THEME_CATE tab id_enter\"\\n\\t\\t\\t\\t\\t\\t\\t\\t   aria-selected=\"false\"\\n\\t\\t\\t\\t\\t\\t\\t\\t   data-clk=\"tct.tvc\" data-panel-code=\"ENTER\">엔터</a>\\n\\t\\t\\t\\t\\t\\t\\t</li>\\n\\t\\t\\t\\t\\t\\t\\n\\t\\t\\t\\t\\t\\t\\t<li class=\"category_item\" role=\"presentation\">\\n\\t\\t\\t\\t\\t\\t\\t\\t\\n\\t\\t\\t\\t\\t\\t\\t\\t\\n\\t\\t\\t\\t\\t\\t\\t\\t<a href=\"#\" role=\"tab\" class=\"_NM_THEME_CATE tab id_sports\"\\n\\t\\t\\t\\t\\t\\t\\t\\t   aria-selected=\"false\"\\n\\t\\t\\t\\t\\t\\t\\t\\t   data-clk=\"tct.spo\" data-panel-code=\"SPORTS\">스포츠</a>\\n\\t\\t\\t\\t\\t\\t\\t</li>\\n\\t\\t\\t\\t\\t\\t\\n\\t\\t\\t\\t\\t\\t\\t<li class=\"category_item\" role=\"presentation\">\\n\\t\\t\\t\\t\\t\\t\\t\\t\\n\\t\\t\\t\\t\\t\\t\\t\\t\\n\\t\\t\\t\\t\\t\\t\\t\\t<a href=\"#\" role=\"tab\" class=\"_NM_THEME_CATE tab id_cargame\"\\n\\t\\t\\t\\t\\t\\t\\t\\t   aria-selected=\"false\"\\n\\t\\t\\t\\t\\t\\t\\t\\t   data-clk=\"tct.aut\" data-panel-code=\"CARGAME\">자동차</a>\\n\\t\\t\\t\\t\\t\\t\\t</li>\\n\\t\\t\\t\\t\\t\\t\\n\\t\\t\\t\\t\\t\\t\\t<li class=\"category_item\" role=\"presentation\">\\n\\t\\t\\t\\t\\t\\t\\t\\t\\n\\t\\t\\t\\t\\t\\t\\t\\t\\n\\t\\t\\t\\t\\t\\t\\t\\t<a href=\"#\" role=\"tab\" class=\"_NM_THEME_CATE tab id_bboom\"\\n\\t\\t\\t\\t\\t\\t\\t\\t   aria-selected=\"false\"\\n\\t\\t\\t\\t\\t\\t\\t\\t   data-clk=\"tct.web\" data-panel-code=\"BBOOM\">웹툰</a>\\n\\t\\t\\t\\t\\t\\t\\t</li>\\n\\t\\t\\t\\t\\t\\t\\n\\t\\t\\t\\t\\t\\t\\t<li class=\"category_item\" role=\"presentation\">\\n\\t\\t\\t\\t\\t\\t\\t\\t\\n\\t\\t\\t\\t\\t\\t\\t\\t\\n\\t\\t\\t\\t\\t\\t\\t\\t<a href=\"#\" role=\"tab\" class=\"_NM_THEME_CATE tab id_finance\"\\n\\t\\t\\t\\t\\t\\t\\t\\t   aria-selected=\"false\"\\n\\t\\t\\t\\t\\t\\t\\t\\t   data-clk=\"tct.fin\" data-panel-code=\"FINANCE\">경제M</a>\\n\\t\\t\\t\\t\\t\\t\\t</li>\\n\\t\\t\\t\\t\\t\\t\\n\\t\\t\\t\\t\\t\\t\\t<li class=\"category_item\" role=\"presentation\">\\n\\t\\t\\t\\t\\t\\t\\t\\t\\n\\t\\t\\t\\t\\t\\t\\t\\t\\n\\t\\t\\t\\t\\t\\t\\t\\t<a href=\"#\" role=\"tab\" class=\"_NM_THEME_CATE tab id_myfeed\"\\n\\t\\t\\t\\t\\t\\t\\t\\t   aria-selected=\"false\"\\n\\t\\t\\t\\t\\t\\t\\t\\t   data-clk=\"tct.sub\" data-panel-code=\"MYFEED\">MY구독</a>\\n\\t\\t\\t\\t\\t\\t\\t</li>\\n\\t\\t\\t\\t\\t\\t\\n\\t\\t\\t\\t\\t\\t\\t<li class=\"category_item\" role=\"presentation\">\\n\\t\\t\\t\\t\\t\\t\\t\\t\\n\\t\\t\\t\\t\\t\\t\\t\\t\\n\\t\\t\\t\\t\\t\\t\\t\\t<a href=\"#\" role=\"tab\" class=\"_NM_THEME_CATE tab id_living\"\\n\\t\\t\\t\\t\\t\\t\\t\\t   aria-selected=\"false\"\\n\\t\\t\\t\\t\\t\\t\\t\\t   data-clk=\"tct.fod\" data-panel-code=\"LIVING\">레시피</a>\\n\\t\\t\\t\\t\\t\\t\\t</li>\\n\\t\\t\\t\\t\\t\\t\\n\\t\\t\\t\\t\\t\\t\\t<li class=\"category_item\" role=\"presentation\">\\n\\t\\t\\t\\t\\t\\t\\t\\t\\n\\t\\t\\t\\t\\t\\t\\t\\t\\n\\t\\t\\t\\t\\t\\t\\t\\t<a href=\"#\" role=\"tab\" class=\"_NM_THEME_CATE tab id_gameapp\"\\n\\t\\t\\t\\t\\t\\t\\t\\t   aria-selected=\"false\"\\n\\t\\t\\t\\t\\t\\t\\t\\t   data-clk=\"tct.gam\" data-panel-code=\"GAMEAPP\">게임</a>\\n\\t\\t\\t\\t\\t\\t\\t</li>\\n\\t\\t\\t\\t\\t\\t\\n\\t\\t\\t\\t\\t</ul>\\n\\t\\t\\t\\t</div>\\n\\t\\t\\t\\n\\t\\t\\t\\t<div style=\"width: 750px;\">\\n\\t\\t\\t\\t\\t<ul class=\"list_category\" role=\"tablist\">\\n\\t\\t\\t\\t\\t\\t\\n\\t\\t\\t\\t\\t\\t\\t<li class=\"category_item\" role=\"presentation\">\\n\\t\\t\\t\\t\\t\\t\\t\\t\\n\\t\\t\\t\\t\\t\\t\\t\\t\\n\\t\\t\\t\\t\\t\\t\\t\\t<a href=\"#\" role=\"tab\" class=\"_NM_THEME_CATE tab id_science\"\\n\\t\\t\\t\\t\\t\\t\\t\\t   aria-selected=\"false\"\\n\\t\\t\\t\\t\\t\\t\\t\\t   data-clk=\"tct.sci\" data-panel-code=\"SCIENCE\">과학</a>\\n\\t\\t\\t\\t\\t\\t\\t</li>\\n\\t\\t\\t\\t\\t\\t\\n\\t\\t\\t\\t\\t\\t\\t<li class=\"category_item\" role=\"presentation\">\\n\\t\\t\\t\\t\\t\\t\\t\\t\\n\\t\\t\\t\\t\\t\\t\\t\\t\\n\\t\\t\\t\\t\\t\\t\\t\\t<a href=\"#\" role=\"tab\" class=\"_NM_THEME_CATE tab id_livinghome\"\\n\\t\\t\\t\\t\\t\\t\\t\\t   aria-selected=\"true\"\\n\\t\\t\\t\\t\\t\\t\\t\\t   data-clk=\"tct.lif\" data-panel-code=\"LIVINGHOME\">리빙</a>\\n\\t\\t\\t\\t\\t\\t\\t</li>\\n\\t\\t\\t\\t\\t\\t\\n\\t\\t\\t\\t\\t\\t\\t<li class=\"category_item\" role=\"presentation\">\\n\\t\\t\\t\\t\\t\\t\\t\\t\\n\\t\\t\\t\\t\\t\\t\\t\\t\\n\\t\\t\\t\\t\\t\\t\\t\\t<a href=\"#\" role=\"tab\" class=\"_NM_THEME_CATE tab id_health\"\\n\\t\\t\\t\\t\\t\\t\\t\\t   aria-selected=\"false\"\\n\\t\\t\\t\\t\\t\\t\\t\\t   data-clk=\"tct.hea\" data-panel-code=\"HEALTH\">건강</a>\\n\\t\\t\\t\\t\\t\\t\\t</li>\\n\\t\\t\\t\\t\\t\\t\\n\\t\\t\\t\\t\\t\\t\\t<li class=\"category_item\" role=\"presentation\">\\n\\t\\t\\t\\t\\t\\t\\t\\t\\n\\t\\t\\t\\t\\t\\t\\t\\t\\n\\t\\t\\t\\t\\t\\t\\t\\t<a href=\"#\" role=\"tab\" class=\"_NM_THEME_CATE tab id_culture\"\\n\\t\\t\\t\\t\\t\\t\\t\\t   aria-selected=\"false\"\\n\\t\\t\\t\\t\\t\\t\\t\\t   data-clk=\"tct.bok\" data-panel-code=\"CULTURE\">책방</a>\\n\\t\\t\\t\\t\\t\\t\\t</li>\\n\\t\\t\\t\\t\\t\\t\\n\\t\\t\\t\\t\\t\\t\\t<li class=\"category_item\" role=\"presentation\">\\n\\t\\t\\t\\t\\t\\t\\t\\t\\n\\t\\t\\t\\t\\t\\t\\t\\t\\n\\t\\t\\t\\t\\t\\t\\t\\t<a href=\"#\" role=\"tab\" class=\"_NM_THEME_CATE tab id_momkids\"\\n\\t\\t\\t\\t\\t\\t\\t\\t   aria-selected=\"false\"\\n\\t\\t\\t\\t\\t\\t\\t\\t   data-clk=\"tct.mom\" data-panel-code=\"MOMKIDS\">부모i</a>\\n\\t\\t\\t\\t\\t\\t\\t</li>\\n\\t\\t\\t\\t\\t\\t\\n\\t\\t\\t\\t\\t\\t\\t<li class=\"category_item\" role=\"presentation\">\\n\\t\\t\\t\\t\\t\\t\\t\\t\\n\\t\\t\\t\\t\\t\\t\\t\\t\\n\\t\\t\\t\\t\\t\\t\\t\\t<a href=\"#\" role=\"tab\" class=\"_NM_THEME_CATE tab id_beauty\"\\n\\t\\t\\t\\t\\t\\t\\t\\t   aria-selected=\"false\"\\n\\t\\t\\t\\t\\t\\t\\t\\t   data-clk=\"tct.bty\" data-panel-code=\"BEAUTY\">패션뷰티</a>\\n\\t\\t\\t\\t\\t\\t\\t</li>\\n\\t\\t\\t\\t\\t\\t\\n\\t\\t\\t\\t\\t\\t\\t<li class=\"category_item\" role=\"presentation\">\\n\\t\\t\\t\\t\\t\\t\\t\\t\\n\\t\\t\\t\\t\\t\\t\\t\\t\\n\\t\\t\\t\\t\\t\\t\\t\\t<a href=\"#\" role=\"tab\" class=\"_NM_THEME_CATE tab id_with\"\\n\\t\\t\\t\\t\\t\\t\\t\\t   aria-selected=\"false\"\\n\\t\\t\\t\\t\\t\\t\\t\\t   data-clk=\"tct.pub\" data-panel-code=\"WITH\">함께N</a>\\n\\t\\t\\t\\t\\t\\t\\t</li>\\n\\t\\t\\t\\t\\t\\t\\n\\t\\t\\t\\t\\t</ul>\\n\\t\\t\\t\\t</div>\\n\\t\\t\\t\\n\\t\\t</div>\\n\\t</div>\\n</div>\\n\\n\\t</div>\\n\\t<div id=\"NM_THEME_CONTAINER\" class=\"theme_cont\" data-panel-code=\"LIVINGHOME\" data-parent-code=\"\">\\n\\t\\t\\n<div class=\"group_theme\" data-block-id=\"\" data-block-code=\"PC-THEME-LIVINGHOME-MOBILE-RANKING-DEFAULT-0\" data-block-type=\"MATERIALS\" data-template-code=\"MOBILE-RANKING-LIST\"\\n\\n\\t data-da=\"container\"\\n\\t data-index=\"\"\\n     data-page=\"1\"\\n\\t >\\n\\n\\t<div class=\"list_theme_wrap\">\\n\\t\\t<ul class=\"list_theme\">\\n\\t\\t\\t\\n\\t\\t\\t\\t<li class=\"theme_item\" data-gdid=\"c3224acc-696a-4480-9b73-be07ecb55300-8c0149ee-90cf-49d5-bb89-6c41ac49d8d3\" data-da-position=\"true\">\\n\\t\\t\\t\\t\\t<a href=\"https://blog.naver.com/inhwaya11/222603605879\" class=\"theme_thumb\" data-clk=\"tcc_lif.list1cont1\" target=\"_blank\">\\n\\t\\t\\t\\t\\t\\t<img src=\"https://s.pstatic.net/dthumb.phinf/?src&#x3D;%22https%3A%2F%2Fs.pstatic.net%2Fshop.phinf%2F20211229_200%2F1640772220609gQngx_JPEG%2Ffew.jpg%22&amp;type&#x3D;nf340_228\" data-src=\"https://s.pstatic.net/dthumb.phinf/?src&#x3D;%22https%3A%2F%2Fs.pstatic.net%2Fshop.phinf%2F20211229_200%2F1640772220609gQngx_JPEG%2Ffew.jpg%22&amp;type&#x3D;nf340_228\" alt=\"접이식 장바구니 만들기\" width=\"170\" height=\"114\" onerror=\"this.outerHTML=\\'\\'\">\\n\\t\\t\\t\\t\\t\\t<span class=\"thumb_bd\"></span>\\n                        \\n\\t\\t\\t\\t\\t</a>\\n\\t\\t\\t\\t\\t<a href=\"https://blog.naver.com/inhwaya11/222603605879\" class=\"theme_info\" data-clk=\"tcc_lif.list1cont1\" target=\"_blank\">\\n\\t\\t\\t\\t\\t\\t<em class=\"theme_category\"> 리빙</em>\\n\\t\\t\\t\\t\\t\\t<strong class=\"title elss\">접이식 장바구니 만들기</strong>\\n                        <p class=\"desc\">안녕하세요 ;) 저는 퇴근하고 가끔 마트에 가고 싶을 때가 있어요. 특별히 살 물품이 있는 것도 아닌데... 그냥 마트 구경하러 가고 싶더라구요. 하지만 막상 가면 이것저것 잔뜩 사오죠 ^^;; 그럴 때 종량제봉투나 그냥 비닐봉투에 담아와요. 마트에서 주는 종량제봉투는 20 L 짜리여서 자취생인 저한테는 너무 커서 잘 사용을 안 해요. 그래서 에코백이나 장</p>\\n\\t\\t\\t\\t\\t\\t<div class=\"source_box\">\\n\\t\\t\\t\\t\\t\\t\\t<span class=\"date\">1주일 전</span>\\n\\t\\t\\t\\t\\t\\t\\t<span class=\"source\">\\n                                \\n                                <span class=\"source_inner\">23층이야기</span>\\n                            </span>\\n\\t\\t\\t\\t\\t\\t</div>\\n\\t\\t\\t\\t\\t</a>\\n\\t\\t\\t\\t</li>\\n\\t\\t\\t\\n\\t\\t\\t\\t<li class=\"theme_item\" data-gdid=\"5618a40f-b7c9-4580-8e16-049c09933054-600e8b2b-499d-48ff-a52b-a64d3d8dc6a8\" data-da-position=\"true\">\\n\\t\\t\\t\\t\\t<a href=\"https://blog.naver.com/rin1004/222594989977\" class=\"theme_thumb\" data-clk=\"tcc_lif.list1cont2\" target=\"_blank\">\\n\\t\\t\\t\\t\\t\\t<img src=\"https://s.pstatic.net/dthumb.phinf/?src&#x3D;%22https%3A%2F%2Fs.pstatic.net%2Fshop.phinf%2F20211229_22%2F1640772206736F6uuk_JPEG%2Fhtr.jpg%22&amp;type&#x3D;nf340_228\" data-src=\"https://s.pstatic.net/dthumb.phinf/?src&#x3D;%22https%3A%2F%2Fs.pstatic.net%2Fshop.phinf%2F20211229_22%2F1640772206736F6uuk_JPEG%2Fhtr.jpg%22&amp;type&#x3D;nf340_228\" alt=\"녹슨 가위 깨끗하게 되살리는 방법 #생활노하우\" width=\"170\" height=\"114\" onerror=\"this.outerHTML=\\'\\'\">\\n\\t\\t\\t\\t\\t\\t<span class=\"thumb_bd\"></span>\\n                        \\n\\t\\t\\t\\t\\t</a>\\n\\t\\t\\t\\t\\t<a href=\"https://blog.naver.com/rin1004/222594989977\" class=\"theme_info\" data-clk=\"tcc_lif.list1cont2\" target=\"_blank\">\\n\\t\\t\\t\\t\\t\\t<em class=\"theme_category\"> 리빙</em>\\n\\t\\t\\t\\t\\t\\t<strong class=\"title elss\">녹슨 가위 깨끗하게 되살리는 방법 #생활노하우</strong>\\n                        <p class=\"desc\">녹제거 살림팁 오늘은 녹슨 가위를 치료해 볼께요. 제가 가위 욕심이 좀 있어요. 여기저기 가위가 필요할 때 곳곳에 있어야 직성이 풀려서 가위를 많이 구입해 놓았는데요. 요 가위는 제가 뒷마당 가든에서도 쓰고 택배도 자르고 하며 집 안밖으로 쓰던 가위여서 그런지 이렇게 처참하게 녹이 슬었답니다. 어떤게 가장 좋은지 실험을 한 번 해보았어요. 예전부터 들어 보</p>\\n\\t\\t\\t\\t\\t\\t<div class=\"source_box\">\\n\\t\\t\\t\\t\\t\\t\\t<span class=\"date\">3주일 전</span>\\n\\t\\t\\t\\t\\t\\t\\t<span class=\"source\">\\n                                \\n                                <span class=\"source_inner\">루몽맘</span>\\n                            </span>\\n\\t\\t\\t\\t\\t\\t</div>\\n\\t\\t\\t\\t\\t</a>\\n\\t\\t\\t\\t</li>\\n\\t\\t\\t\\n\\t\\t\\t\\t<li class=\"theme_item\" data-gdid=\"f6822385-026f-47f2-b8f2-8e15c2c20a38-96151c67-17a3-4cbf-8294-45215805bb55\" data-da-position=\"true\">\\n\\t\\t\\t\\t\\t<a href=\"https://blog.naver.com/kjmjs9848/222605918767\" class=\"theme_thumb\" data-clk=\"tcc_lif.list1cont3\" target=\"_blank\">\\n\\t\\t\\t\\t\\t\\t<img src=\"https://s.pstatic.net/dthumb.phinf/?src&#x3D;%22https%3A%2F%2Fs.pstatic.net%2Fshop.phinf%2F20211231_216%2F1640896694459bFsEt_JPEG%2F336_0.jpg%22&amp;type&#x3D;nf340_228\" data-src=\"https://s.pstatic.net/dthumb.phinf/?src&#x3D;%22https%3A%2F%2Fs.pstatic.net%2Fshop.phinf%2F20211231_216%2F1640896694459bFsEt_JPEG%2F336_0.jpg%22&amp;type&#x3D;nf340_228\" alt=\"나를 행복하게 해주는 살림잇템 #가전제품\" width=\"170\" height=\"114\" onerror=\"this.outerHTML=\\'\\'\">\\n\\t\\t\\t\\t\\t\\t<span class=\"thumb_bd\"></span>\\n                        \\n\\t\\t\\t\\t\\t</a>\\n\\t\\t\\t\\t\\t<a href=\"https://blog.naver.com/kjmjs9848/222605918767\" class=\"theme_info\" data-clk=\"tcc_lif.list1cont3\" target=\"_blank\">\\n\\t\\t\\t\\t\\t\\t<em class=\"theme_category\"> 리빙</em>\\n\\t\\t\\t\\t\\t\\t<strong class=\"title elss\">나를 행복하게 해주는 살림잇템 #가전제품</strong>\\n                        <p class=\"desc\">안녕하세요 전설래미예요 살림잇템 - 나를 행복하게 해주는 살림살이 가전제품편 ㅋㅋㅋㅋㅋㅋㅋ 그동안은 주로 그릇 냄비등등 소소한 살림을 공유했었는데 오늘은 살림잇템 가전제품편 😍 내돈내산 처음부터 끝까지 내돈 내돈내돈내돈 완전 내돈 ✔️ 커피머신 - 돌체구스토 미니미 밥솥 말고 커피머신 자랑 ㅋㅋㅋㅋㅋㅋㅋ 구입한지는 거의 10년이 되어가는 구형모델 돌체구.</p>\\n\\t\\t\\t\\t\\t\\t<div class=\"source_box\">\\n\\t\\t\\t\\t\\t\\t\\t<span class=\"date\">1주일 전</span>\\n\\t\\t\\t\\t\\t\\t\\t<span class=\"source\">\\n                                \\n                                <span class=\"source_inner\">전설래미</span>\\n                            </span>\\n\\t\\t\\t\\t\\t\\t</div>\\n\\t\\t\\t\\t\\t</a>\\n\\t\\t\\t\\t</li>\\n\\t\\t\\t\\n\\t\\t\\t\\t<li class=\"theme_item\" data-gdid=\"509d6906-92d9-4c41-a843-ec40ed77b9cb-a481a49f-a673-4e53-9b2b-0f6fc1ec0b9f\" data-da-position=\"true\">\\n\\t\\t\\t\\t\\t<a href=\"https://blog.naver.com/tjwls0017/222556386705\" class=\"theme_thumb\" data-clk=\"tcc_lif.list1cont4\" target=\"_blank\">\\n\\t\\t\\t\\t\\t\\t<img src=\"https://s.pstatic.net/dthumb.phinf/?src&#x3D;%22https%3A%2F%2Fs.pstatic.net%2Fshop.phinf%2F20220102_237%2F1641112569146XUpvk_JPEG%2F750_15.jpg%22&amp;type&#x3D;nf340_228\" data-src=\"https://s.pstatic.net/dthumb.phinf/?src&#x3D;%22https%3A%2F%2Fs.pstatic.net%2Fshop.phinf%2F20220102_237%2F1641112569146XUpvk_JPEG%2F750_15.jpg%22&amp;type&#x3D;nf340_228\" alt=\"반려동물과 함께 하는 2층 주택\" width=\"170\" height=\"114\" onerror=\"this.outerHTML=\\'\\'\">\\n\\t\\t\\t\\t\\t\\t<span class=\"thumb_bd\"></span>\\n                        \\n\\t\\t\\t\\t\\t</a>\\n\\t\\t\\t\\t\\t<a href=\"https://blog.naver.com/tjwls0017/222556386705\" class=\"theme_info\" data-clk=\"tcc_lif.list1cont4\" target=\"_blank\">\\n\\t\\t\\t\\t\\t\\t<em class=\"theme_category\"> 리빙</em>\\n\\t\\t\\t\\t\\t\\t<strong class=\"title elss\">반려동물과 함께 하는 2층 주택</strong>\\n                        <p class=\"desc\">이 집에 이사 온 지는 4개월이 되어가고 아직 정리가 끝난 것은 아니지만 어수선한 그 과정의 기록도 의미가 있을 것 같아 지금의 모습도 남겨보려고 한다. 현재 집은 2층 집 주택이며 2층은 개인적인 방들이 있고, 1층에는 여럿이 함께하는 공간, 마지막으로 베이스먼트는 엔터테인먼트와 컴퓨터실 그리고 창고로 이루어져 있는데 오늘은 첫 번째로 여럿이 함께 생활하</p>\\n\\t\\t\\t\\t\\t\\t<div class=\"source_box\">\\n\\t\\t\\t\\t\\t\\t\\t<span class=\"date\">2개월 전</span>\\n\\t\\t\\t\\t\\t\\t\\t<span class=\"source\">\\n                                \\n                                <span class=\"source_inner\">리리안</span>\\n                            </span>\\n\\t\\t\\t\\t\\t\\t</div>\\n\\t\\t\\t\\t\\t</a>\\n\\t\\t\\t\\t</li>\\n\\t\\t\\t\\n\\t\\t</ul>\\n\\t</div>\\n</div>\\n<div class=\"group_theme\" data-block-id=\"\" data-block-code=\"PC-THEME-LIVINGHOME-MOBILE-RANKING-DEFAULT-1\" data-block-type=\"MATERIALS\" data-template-code=\"MOBILE-RANKING-LIST\"\\n\\n\\t data-da=\"container\"\\n\\t data-index=\"\"\\n     data-page=\"1\"\\n\\t >\\n\\n\\t<div class=\"list_theme_wrap\">\\n\\t\\t<ul class=\"list_theme\">\\n\\t\\t\\t\\n\\t\\t\\t\\t<li class=\"theme_item\" data-gdid=\"507ce60b-6d5b-4cc3-a179-0c163a4d5ad5-ecc95cf4-7239-46fc-9cff-27df15b70ed2\" data-da-position=\"true\">\\n\\t\\t\\t\\t\\t<a href=\"https://blog.naver.com/khs36510326/222596829107\" class=\"theme_thumb\" data-clk=\"tcc_lif.list2cont1\" target=\"_blank\">\\n\\t\\t\\t\\t\\t\\t<img src=\"https://s.pstatic.net/dthumb.phinf/?src&#x3D;%22https%3A%2F%2Fs.pstatic.net%2Fshop.phinf%2F20211229_167%2F1640767512637g7FUr_JPEG%2F336_5.jpg%22&amp;type&#x3D;nf340_228\" data-src=\"https://s.pstatic.net/dthumb.phinf/?src&#x3D;%22https%3A%2F%2Fs.pstatic.net%2Fshop.phinf%2F20211229_167%2F1640767512637g7FUr_JPEG%2F336_5.jpg%22&amp;type&#x3D;nf340_228\" alt=\"실링팬, 가벽을 더한 창틀, 유럽 스타일로 꾸민 침실  \" width=\"170\" height=\"114\" onerror=\"this.outerHTML=\\'\\'\">\\n\\t\\t\\t\\t\\t\\t<span class=\"thumb_bd\"></span>\\n                        \\n\\t\\t\\t\\t\\t</a>\\n\\t\\t\\t\\t\\t<a href=\"https://blog.naver.com/khs36510326/222596829107\" class=\"theme_info\" data-clk=\"tcc_lif.list2cont1\" target=\"_blank\">\\n\\t\\t\\t\\t\\t\\t<em class=\"theme_category\"> 리빙</em>\\n\\t\\t\\t\\t\\t\\t<strong class=\"title elss\">실링팬, 가벽을 더한 창틀, 유럽 스타일로 꾸민 침실  </strong>\\n                        <p class=\"desc\">안녕하세요. 저희는 몇 달전 이사를 했어요. 이사를 하면서 그동안 로망이었던 집에 대한 인테리어를 하나씩 실현해 보기로 했지요. 오늘은 새로 인테리어를 꾸민 저희 집 중에서 침실에 대해 포스팅 해보려고 해요. 가장 작은 방을 침실로 저희 침실은 집에서 가장 작은 방이에요. 보통은 가장 큰 방을 침실로 정하지만, 저희는 가장 큰 방을 가족실로 만들고, 가장 </p>\\n\\t\\t\\t\\t\\t\\t<div class=\"source_box\">\\n\\t\\t\\t\\t\\t\\t\\t<span class=\"date\">3주일 전</span>\\n\\t\\t\\t\\t\\t\\t\\t<span class=\"source\">\\n                                \\n                                <span class=\"source_inner\">Ssong</span>\\n                            </span>\\n\\t\\t\\t\\t\\t\\t</div>\\n\\t\\t\\t\\t\\t</a>\\n\\t\\t\\t\\t</li>\\n\\t\\t\\t\\n\\t\\t\\t\\t<li class=\"theme_item\" data-gdid=\"27943c51-d08b-4c12-af8b-52bbe0495dba-053841aa-5206-4079-82d7-b8aacfe8648d\" data-da-position=\"true\">\\n\\t\\t\\t\\t\\t<a href=\"https://blog.naver.com/sy120105/222394105218\" class=\"theme_thumb\" data-clk=\"tcc_lif.list2cont2\" target=\"_blank\">\\n\\t\\t\\t\\t\\t\\t<img src=\"https://s.pstatic.net/dthumb.phinf/?src&#x3D;%22https%3A%2F%2Fs.pstatic.net%2Fshop.phinf%2F20220102_14%2F1641112381629LfhCx_JPEG%2F750_2.jpg%22&amp;type&#x3D;nf340_228\" data-src=\"https://s.pstatic.net/dthumb.phinf/?src&#x3D;%22https%3A%2F%2Fs.pstatic.net%2Fshop.phinf%2F20220102_14%2F1641112381629LfhCx_JPEG%2F750_2.jpg%22&amp;type&#x3D;nf340_228\" alt=\"두툼한 몰딩 교체 #비포애프터\" width=\"170\" height=\"114\" onerror=\"this.outerHTML=\\'\\'\">\\n\\t\\t\\t\\t\\t\\t<span class=\"thumb_bd\"></span>\\n                        \\n\\t\\t\\t\\t\\t</a>\\n\\t\\t\\t\\t\\t<a href=\"https://blog.naver.com/sy120105/222394105218\" class=\"theme_info\" data-clk=\"tcc_lif.list2cont2\" target=\"_blank\">\\n\\t\\t\\t\\t\\t\\t<em class=\"theme_category\"> 리빙</em>\\n\\t\\t\\t\\t\\t\\t<strong class=\"title elss\">두툼한 몰딩 교체 #비포애프터</strong>\\n                        <p class=\"desc\">인테리어 업체는 부산지역 소재입니다 ^^ 오늘 비도 오고 별로 사진찍기 좋은 조건은 아니었지만.. 오늘의집에 인테리어 맡아주신 업체 리뷰를 꼭 쓰고싶어서 굳이 작업실에서 디카 가져와서 사진을 찍음 아직 안 온 가구도 있고 커튼도 다 안달았지만 그 김에 온라인 집들이를 해봅니다. 사실 저의 작업실 보시면 좁은 곳에 뭔가 빽빽하게 많이 들어있는 편인데 그게 바</p>\\n\\t\\t\\t\\t\\t\\t<div class=\"source_box\">\\n\\t\\t\\t\\t\\t\\t\\t<span class=\"date\">6개월 전</span>\\n\\t\\t\\t\\t\\t\\t\\t<span class=\"source\">\\n                                \\n                                <span class=\"source_inner\">데미</span>\\n                            </span>\\n\\t\\t\\t\\t\\t\\t</div>\\n\\t\\t\\t\\t\\t</a>\\n\\t\\t\\t\\t</li>\\n\\t\\t\\t\\n\\t\\t\\t\\t<li class=\"theme_item\" data-gdid=\"a5d01299-9832-4a59-b688-c962a96c5c7d-48e1ef51-4fa8-4346-8833-fc9c68515b24\" data-da-position=\"true\">\\n\\t\\t\\t\\t\\t<a href=\"https://post.naver.com/viewer/postView.naver?volumeNo&#x3D;33061333&amp;memberNo&#x3D;29772279\" class=\"theme_thumb\" data-clk=\"tcc_lif.list2cont3\" target=\"_blank\">\\n\\t\\t\\t\\t\\t\\t<img src=\"https://s.pstatic.net/dthumb.phinf/?src&#x3D;%22https%3A%2F%2Fs.pstatic.net%2Fshop.phinf%2F20220104_197%2F1641283831051FMMqy_JPEG%2F336_2.jpg%22&amp;type&#x3D;nf340_228\" data-src=\"https://s.pstatic.net/dthumb.phinf/?src&#x3D;%22https%3A%2F%2Fs.pstatic.net%2Fshop.phinf%2F20220104_197%2F1641283831051FMMqy_JPEG%2F336_2.jpg%22&amp;type&#x3D;nf340_228\" alt=\"수평으로 배열하고 수직으로 쌓아올린 서초동 주택\" width=\"170\" height=\"114\" onerror=\"this.outerHTML=\\'\\'\">\\n\\t\\t\\t\\t\\t\\t<span class=\"thumb_bd\"></span>\\n                        \\n\\t\\t\\t\\t\\t</a>\\n\\t\\t\\t\\t\\t<a href=\"https://post.naver.com/viewer/postView.naver?volumeNo&#x3D;33061333&amp;memberNo&#x3D;29772279\" class=\"theme_info\" data-clk=\"tcc_lif.list2cont3\" target=\"_blank\">\\n\\t\\t\\t\\t\\t\\t<em class=\"theme_category\"> 리빙</em>\\n\\t\\t\\t\\t\\t\\t<strong class=\"title elss\">수평으로 배열하고 수직으로 쌓아올린 서초동 주택</strong>\\n                        <p class=\"desc\">서초동은 옛날 이곳에 서리풀이 무성했다 하여 ‘서리풀이’ 혹은 ‘상초리(霜草里)’라고 불렀던 데서 유래되었다. 우면산 물이 이리저리 서리어 흐르다 서울교대에서 동쪽 경부고속도로에 이르렀다고 하는데 부지는 이곳 인근이다. 블록 안쪽, 언덕지형의 입지는 재개발의 파고를 넘을 수 있게 해주었고 오래된 단독</p>\\n\\t\\t\\t\\t\\t\\t<div class=\"source_box\">\\n\\t\\t\\t\\t\\t\\t\\t<span class=\"date\">2일 전</span>\\n\\t\\t\\t\\t\\t\\t\\t<span class=\"source\">\\n                                \\n                                <span class=\"source_inner\">나무신문</span>\\n                            </span>\\n\\t\\t\\t\\t\\t\\t</div>\\n\\t\\t\\t\\t\\t</a>\\n\\t\\t\\t\\t</li>\\n\\t\\t\\t\\n\\t\\t\\t\\t<li class=\"theme_item\" data-gdid=\"c639fc00-73c4-4631-aa34-043049974039-4f6f1364-0d88-4d81-923d-c143a71c65ae-ad24ebe9-a4ae-4c6f-b3cc-c9a30a5a421a\" data-da-position=\"true\">\\n\\t\\t\\t\\t\\t<a href=\"https://blog.naver.com/may12log/222609306515\" class=\"theme_thumb\" data-clk=\"tcc_lif.list2cont4\" target=\"_blank\">\\n\\t\\t\\t\\t\\t\\t<img src=\"https://s.pstatic.net/dthumb.phinf/?src&#x3D;%22https%3A%2F%2Fs.pstatic.net%2Fshop.phinf%2F20220102_25%2F1641118984950LNpLW_JPEG%2F336_2.jpg%22&amp;type&#x3D;nf340_228\" data-src=\"https://s.pstatic.net/dthumb.phinf/?src&#x3D;%22https%3A%2F%2Fs.pstatic.net%2Fshop.phinf%2F20220102_25%2F1641118984950LNpLW_JPEG%2F336_2.jpg%22&amp;type&#x3D;nf340_228\" alt=\"가구부터 작은 소품까지, 이케아로 꾸민 신혼집 \" width=\"170\" height=\"114\" onerror=\"this.outerHTML=\\'\\'\">\\n\\t\\t\\t\\t\\t\\t<span class=\"thumb_bd\"></span>\\n                        \\n\\t\\t\\t\\t\\t</a>\\n\\t\\t\\t\\t\\t<a href=\"https://blog.naver.com/may12log/222609306515\" class=\"theme_info\" data-clk=\"tcc_lif.list2cont4\" target=\"_blank\">\\n\\t\\t\\t\\t\\t\\t<em class=\"theme_category\"> 리빙</em>\\n\\t\\t\\t\\t\\t\\t<strong class=\"title elss\">가구부터 작은 소품까지, 이케아로 꾸민 신혼집 </strong>\\n                        <p class=\"desc\">첫 신혼집 이제 2년 조금 넘었는데 그 동안 혼수 대부분이 바뀌었어요 그리고 두번째 신혼집으로 이사를 앞두고 있어요 그땐 지금의 모습은 다신 볼 수 없을테니 이사가 설레기도, 아쉽기도 합니다 저희집의 9할은 이케아 제품 입니다 가구는 물론이고 충전기처럼 작은 생활용품부터 시작해서 주방용품과 소품 등등 대부분이 이케아에요 그리고 전부! 문제 없이 오랫동안 잘</p>\\n\\t\\t\\t\\t\\t\\t<div class=\"source_box\">\\n\\t\\t\\t\\t\\t\\t\\t<span class=\"date\">6일 전</span>\\n\\t\\t\\t\\t\\t\\t\\t<span class=\"source\">\\n                                \\n                                <span class=\"source_inner\">홍차</span>\\n                            </span>\\n\\t\\t\\t\\t\\t\\t</div>\\n\\t\\t\\t\\t\\t</a>\\n\\t\\t\\t\\t</li>\\n\\t\\t\\t\\n\\t\\t</ul>\\n\\t</div>\\n</div>\\n<div class=\"group_theme _NM_API_UI\" data-ui-circular=\"false\" data-block-id=\"5edf1cb2d6902f284e3b826d\" data-block-code=\"\" data-block-type=\"BLOCKS\" data-template-code=\"FLICKING-IMAGE3\"\\n\\n    >\\n    <div class=\"theme_title\">\\n        <a href=\"https://happybean.naver.com/\" class=\"title\" target=\"_blank\"\\n            data-clk=\"tcc_lif.happytitle\">오늘 가장 따뜻한 클릭</a>\\n    </div>\\n    <div class=\" media_view_wrap type_flick\">\\n        <a href=\"#\" role=\"button\" class=\"pm_btn_prev _NM_UI_PAGE_PREV\" data-clk=\"tcc_lif.happypre\"><i\\n                class=\"ico_btn\"><span class=\"blind\">이전</span></i></a>\\n        <a href=\"#\" role=\"button\" class=\"pm_btn_next _NM_UI_PAGE_NEXT\" data-clk=\"tcc_lif.happynext\"><i\\n                class=\"ico_btn\"><span class=\"blind\">다음</span></i></a>\\n        <div class=\"_NM_UI_PAGE_CONTAINER\" style=\"overflow: hidden; height: 240px;\">\\n            \\n            <div style=\"width:750px\">\\n                <div class=\"media_view\">\\n                    \\n                    <a href=\"https://happybean.naver.com/fundings/detail/F424?p&#x3D;p&amp;s&#x3D;nmlp\" target=\"_blank\" class=\"media_area\" data-gdid=\"F424\"\\n                        data-clk=\"tcc_lif.happycon1\">\\n                        <div class=\"media_thumb\">\\n                            <img src=\"https://happybean-phinf.pstatic.net/20211214_260/1639462544473bc4C9_JPEG/mm.jpg?type&#x3D;f464_260\" alt=\"2022 임인년 호랑이 기운을 담은 제품\" width=\"232\" height=\"130\">\\n                            <span class=\"thumb_bd\"></span>\\n                            <em class=\"theme_badge\"><span class=\"badge_inner\">펀딩</span></em>\\n                        </div>\\n                        <div class=\"media_info\">\\n                            <div class=\"info_box\">\\n                                <strong class=\"title\">2022 임인년 호랑이 기운을 담은 제품</strong>\\n                                <div class=\"source_wrap\">\\n                                    <span class=\"dsc\"><em class=\"theme_hl\">538%</em> 달성</span>\\n                                    <span class=\"source\"><span class=\"source_inner\">소이프</span></span>\\n                                </div>\\n                            </div>\\n                        </div>\\n                    </a>\\n                    \\n                    <a href=\"https://happybean.naver.com/fundings/detail/F413?p&#x3D;p&amp;s&#x3D;nmlp\" target=\"_blank\" class=\"media_area\" data-gdid=\"F413\"\\n                        data-clk=\"tcc_lif.happycon2\">\\n                        <div class=\"media_thumb\">\\n                            <img src=\"https://happybean-phinf.pstatic.net/20211215_68/16395378259095blIE_JPEG/252.jpg?type&#x3D;f464_260\" alt=\"유기농 허브를 활용한 건강한 바디워시\" width=\"232\" height=\"130\">\\n                            <span class=\"thumb_bd\"></span>\\n                            <em class=\"theme_badge\"><span class=\"badge_inner\">펀딩</span></em>\\n                        </div>\\n                        <div class=\"media_info\">\\n                            <div class=\"info_box\">\\n                                <strong class=\"title\">유기농 허브를 활용한 건강한 바디워시</strong>\\n                                <div class=\"source_wrap\">\\n                                    <span class=\"dsc\"><em class=\"theme_hl\">578%</em> 달성</span>\\n                                    <span class=\"source\"><span class=\"source_inner\">히든테이스트</span></span>\\n                                </div>\\n                            </div>\\n                        </div>\\n                    </a>\\n                    \\n                    <a href=\"https://happybean.naver.com/donations/H000000182303?p&#x3D;p&amp;s&#x3D;nmlp\" target=\"_blank\" class=\"media_area\" data-gdid=\"H000000182303\"\\n                        data-clk=\"tcc_lif.happycon3\">\\n                        <div class=\"media_thumb\">\\n                            <img src=\"https://happybean-phinf.pstatic.net/20211222_106/1640148209082eau3W_JPEG/KakaoTalk_20211222_134302793.jpg?type&#x3D;f464_260\" alt=\"추운 겨울, 어르신의 몸과 마음을 따뜻하게 해주세요\" width=\"232\" height=\"130\">\\n                            <span class=\"thumb_bd\"></span>\\n                            <em class=\"theme_badge\"><span class=\"badge_inner\">기부</span></em>\\n                        </div>\\n                        <div class=\"media_info\">\\n                            <div class=\"info_box\">\\n                                <strong class=\"title\">추운 겨울, 어르신의 몸과 마음을 따뜻하게 해주세요</strong>\\n                                <div class=\"source_wrap\">\\n                                    <span class=\"dsc\"><em class=\"theme_hl\">331,200원</em> 기부</span>\\n                                    <span class=\"source\"><span class=\"source_inner\">성남두레복지원</span></span>\\n                                </div>\\n                            </div>\\n                        </div>\\n                    </a>\\n                    \\n                </div>\\n            </div>\\n            \\n            <div style=\"width:750px\">\\n                <div class=\"media_view\">\\n                    \\n                    <a href=\"https://happybean.naver.com/fundings/detail/F398?p&#x3D;p&amp;s&#x3D;nmlp\" target=\"_blank\" class=\"media_area\" data-gdid=\"F398\"\\n                        data-clk=\"tcc_lif.happycon4\">\\n                        <div class=\"media_thumb\">\\n                            <img src=\"https://happybean-phinf.pstatic.net/20211203_48/1638511966863bHI2t_JPEG/252.jpg?type&#x3D;f464_260\" alt=\"쓰기 편한 천연수세미와 생들기름 설거지바\" width=\"232\" height=\"130\">\\n                            <span class=\"thumb_bd\"></span>\\n                            <em class=\"theme_badge\"><span class=\"badge_inner\">펀딩</span></em>\\n                        </div>\\n                        <div class=\"media_info\">\\n                            <div class=\"info_box\">\\n                                <strong class=\"title\">쓰기 편한 천연수세미와 생들기름 설거지바</strong>\\n                                <div class=\"source_wrap\">\\n                                    <span class=\"dsc\"><em class=\"theme_hl\">331%</em> 달성</span>\\n                                    <span class=\"source\"><span class=\"source_inner\">농업회사법인 내포</span></span>\\n                                </div>\\n                            </div>\\n                        </div>\\n                    </a>\\n                    \\n                    <a href=\"https://happybean.naver.com/fundings/detail/F399?p&#x3D;p&amp;s&#x3D;nmlp\" target=\"_blank\" class=\"media_area\" data-gdid=\"F399\"\\n                        data-clk=\"tcc_lif.happycon5\">\\n                        <div class=\"media_thumb\">\\n                            <img src=\"https://happybean-phinf.pstatic.net/20211129_226/16381932887487ynXe_JPEG/252.jpg?type&#x3D;f464_260\" alt=\"티타임을 선물하는 순면 테이블매트와 스콘세트\" width=\"232\" height=\"130\">\\n                            <span class=\"thumb_bd\"></span>\\n                            <em class=\"theme_badge\"><span class=\"badge_inner\">펀딩</span></em>\\n                        </div>\\n                        <div class=\"media_info\">\\n                            <div class=\"info_box\">\\n                                <strong class=\"title\">티타임을 선물하는 순면 테이블매트와 스콘세트</strong>\\n                                <div class=\"source_wrap\">\\n                                    <span class=\"dsc\"><em class=\"theme_hl\">200%</em> 달성</span>\\n                                    <span class=\"source\"><span class=\"source_inner\">바른핑거스</span></span>\\n                                </div>\\n                            </div>\\n                        </div>\\n                    </a>\\n                    \\n                    <a href=\"https://happybean.naver.com/donations/H000000182198?p&#x3D;p&amp;s&#x3D;nmlp\" target=\"_blank\" class=\"media_area\" data-gdid=\"H000000182198\"\\n                        data-clk=\"tcc_lif.happycon6\">\\n                        <div class=\"media_thumb\">\\n                            <img src=\"https://happybean-phinf.pstatic.net/20211213_260/1639379521603wrYbY_JPEG/KakaoTalk_20211213_160556395.jpg?type&#x3D;f464_260\" alt=\"&quot;가족을 생각하면, 저에게 방한용품은 사치입니다&quot;\" width=\"232\" height=\"130\">\\n                            <span class=\"thumb_bd\"></span>\\n                            <em class=\"theme_badge\"><span class=\"badge_inner\">기부</span></em>\\n                        </div>\\n                        <div class=\"media_info\">\\n                            <div class=\"info_box\">\\n                                <strong class=\"title\">&quot;가족을 생각하면, 저에게 방한용품은 사치입니다&quot;</strong>\\n                                <div class=\"source_wrap\">\\n                                    <span class=\"dsc\"><em class=\"theme_hl\">1,145,400원</em> 기부</span>\\n                                    <span class=\"source\"><span class=\"source_inner\">샘복지재단</span></span>\\n                                </div>\\n                            </div>\\n                        </div>\\n                    </a>\\n                    \\n                </div>\\n            </div>\\n            \\n        </div>\\n    </div>\\n</div>\\n<div class=\"group_theme\" data-block-id=\"\" data-block-code=\"PC-THEME-LIVINGHOME-MOBILE-RANKING-DEFAULT-2\" data-block-type=\"MATERIALS\" data-template-code=\"MOBILE-RANKING-LIST\"\\n\\n\\t data-da=\"container\"\\n\\t data-index=\"\"\\n     data-page=\"2\"\\n\\t style=\"display:none\">\\n\\n\\t<div class=\"list_theme_wrap\">\\n\\t\\t<ul class=\"list_theme\">\\n\\t\\t\\t\\n\\t\\t\\t\\t<li class=\"theme_item\" data-gdid=\"46a656a1-948a-4468-aba8-1a7ad6555619-8fe82eec-9a62-4902-838e-28bebf0cc842\" data-da-position=\"true\">\\n\\t\\t\\t\\t\\t<a href=\"https://blog.naver.com/pdsn8714/222528448080\" class=\"theme_thumb\" data-clk=\"tcc_lif.list3cont1\" target=\"_blank\">\\n\\t\\t\\t\\t\\t\\t<img  data-src=\"https://s.pstatic.net/dthumb.phinf/?src&#x3D;%22https%3A%2F%2Fs.pstatic.net%2Fshop.phinf%2F20220103_243%2F1641200276298TzcI4_JPEG%2F336_8.jpg%22&amp;type&#x3D;nf340_228\" alt=\"40년 된 아파트, 시공 없이 아늑하게 꾸민 신혼집 \" width=\"170\" height=\"114\" onerror=\"this.outerHTML=\\'\\'\">\\n\\t\\t\\t\\t\\t\\t<span class=\"thumb_bd\"></span>\\n                        \\n\\t\\t\\t\\t\\t</a>\\n\\t\\t\\t\\t\\t<a href=\"https://blog.naver.com/pdsn8714/222528448080\" class=\"theme_info\" data-clk=\"tcc_lif.list3cont1\" target=\"_blank\">\\n\\t\\t\\t\\t\\t\\t<em class=\"theme_category\"> 리빙</em>\\n\\t\\t\\t\\t\\t\\t<strong class=\"title elss\">40년 된 아파트, 시공 없이 아늑하게 꾸민 신혼집 </strong>\\n                        <p class=\"desc\">네이버 메인에 소개 되었네요! 벌써 네번째 메인에 소개 되었어요ㅋㅋㅋㅋ (두번째 소개되었던 발리에서의 데스티네이션 웨딩 포스트는 여기 ) 감사합니다. 사실 요즘에 좀 귀찮아서 블로그 계속 버려두었는데ㅠㅠ 네이버가 좀 열심히 블로그 쓰라고 선정해준 걸로 생각하겠습니다. 궁금해하시는 분들이 계셔서 구매처와 모델명을 추가하겠습니다! 요즘이라기엔 여름 사진도 섞여</p>\\n\\t\\t\\t\\t\\t\\t<div class=\"source_box\">\\n\\t\\t\\t\\t\\t\\t\\t<span class=\"date\">3개월 전</span>\\n\\t\\t\\t\\t\\t\\t\\t<span class=\"source\">\\n                                \\n                                <span class=\"source_inner\">심바군</span>\\n                            </span>\\n\\t\\t\\t\\t\\t\\t</div>\\n\\t\\t\\t\\t\\t</a>\\n\\t\\t\\t\\t</li>\\n\\t\\t\\t\\n\\t\\t\\t\\t<li class=\"theme_item\" data-gdid=\"a03ec5f8-63d3-452a-8fc9-2968f4055807-c658f9a2-245d-44b8-b0cb-9f98795d5c1a\" data-da-position=\"true\">\\n\\t\\t\\t\\t\\t<a href=\"https://post.naver.com/viewer/postView.naver?volumeNo&#x3D;33000290&amp;memberNo&#x3D;1606529\" class=\"theme_thumb\" data-clk=\"tcc_lif.list3cont2\" target=\"_blank\">\\n\\t\\t\\t\\t\\t\\t<img  data-src=\"https://s.pstatic.net/dthumb.phinf/?src&#x3D;%22https%3A%2F%2Fs.pstatic.net%2Fshop.phinf%2F20220103_146%2F1641200399755MeFuv_JPEG%2F336_1.jpg%22&amp;type&#x3D;nf340_228\" alt=\"아이들이 행복한 공간, 4남매가 함께하는 120평 드림하우스  \" width=\"170\" height=\"114\" onerror=\"this.outerHTML=\\'\\'\">\\n\\t\\t\\t\\t\\t\\t<span class=\"thumb_bd\"></span>\\n                        \\n\\t\\t\\t\\t\\t</a>\\n\\t\\t\\t\\t\\t<a href=\"https://post.naver.com/viewer/postView.naver?volumeNo&#x3D;33000290&amp;memberNo&#x3D;1606529\" class=\"theme_info\" data-clk=\"tcc_lif.list3cont2\" target=\"_blank\">\\n\\t\\t\\t\\t\\t\\t<em class=\"theme_category\"> 리빙</em>\\n\\t\\t\\t\\t\\t\\t<strong class=\"title elss\">아이들이 행복한 공간, 4남매가 함께하는 120평 드림하우스  </strong>\\n                        <p class=\"desc\">카멜레온디자인이 진행한 프로젝트 ‘용인 개인주택(120평형)’ 현장은 언택트 시대의 맞춤형 공간들로 완성된 모두가 꿈꾸는 드림하우스다. 부부와 4남매, 구성원 6인이 함께 생활하고 있는 이곳은 아이들에게 조금 더 자유로운 환경을 만들어 주고 싶은 클라이언트의 뜻에 따라 공간 공간마다 특별한 사랑을 담아 완성되었다. 에디터 백선욱 기자 자료 카멜레온디자인  </p>\\n\\t\\t\\t\\t\\t\\t<div class=\"source_box\">\\n\\t\\t\\t\\t\\t\\t\\t<span class=\"date\">1주일 전</span>\\n\\t\\t\\t\\t\\t\\t\\t<span class=\"source\">\\n                                \\n                                <span class=\"source_inner\">월간 더리빙</span>\\n                            </span>\\n\\t\\t\\t\\t\\t\\t</div>\\n\\t\\t\\t\\t\\t</a>\\n\\t\\t\\t\\t</li>\\n\\t\\t\\t\\n\\t\\t\\t\\t<li class=\"theme_item\" data-gdid=\"743ef703-8591-436e-8629-54b50c5a930a-a04e00a4-0eac-4f29-a38e-29ef21762c07-54d7a13b-b543-49ba-9967-94269eaae8bc\" data-da-position=\"true\">\\n\\t\\t\\t\\t\\t<a href=\"https://blog.naver.com/naranara98/222608361673\" class=\"theme_thumb\" data-clk=\"tcc_lif.list3cont3\" target=\"_blank\">\\n\\t\\t\\t\\t\\t\\t<img  data-src=\"https://s.pstatic.net/dthumb.phinf/?src&#x3D;%22https%3A%2F%2Fs.pstatic.net%2Fshop.phinf%2F20220102_124%2F16411126928590RO59_JPEG%2F750_3.jpg%22&amp;type&#x3D;nf340_228\" alt=\"감성 랜선집들이, 공간 기록 \" width=\"170\" height=\"114\" onerror=\"this.outerHTML=\\'\\'\">\\n\\t\\t\\t\\t\\t\\t<span class=\"thumb_bd\"></span>\\n                        \\n\\t\\t\\t\\t\\t</a>\\n\\t\\t\\t\\t\\t<a href=\"https://blog.naver.com/naranara98/222608361673\" class=\"theme_info\" data-clk=\"tcc_lif.list3cont3\" target=\"_blank\">\\n\\t\\t\\t\\t\\t\\t<em class=\"theme_category\"> 리빙</em>\\n\\t\\t\\t\\t\\t\\t<strong class=\"title elss\">감성 랜선집들이, 공간 기록 </strong>\\n                        <p class=\"desc\">어쩌다보니 네이버 메인에 올랐어요...................혼자 노는 블로그였는데 많은 분들이 관심가져주셔서 감사합니다!!!!!! 드릴 수 있는 정보는 다 드리겠습니다! 악플만 달지 말아주세요....잇프제 잇프피 번갈아 나오는 쫄보입니다. 너무 무서워요ㅜㅜㅜㅜㅜㅜㅜㅜㅜㅜㅜㅜㅜㅜㅜ 처음 집 지을때부터 내가 살 세대는 내가 직접 도배 장판, 싱크대, 화</p>\\n\\t\\t\\t\\t\\t\\t<div class=\"source_box\">\\n\\t\\t\\t\\t\\t\\t\\t<span class=\"date\">1주일 전</span>\\n\\t\\t\\t\\t\\t\\t\\t<span class=\"source\">\\n                                \\n                                <span class=\"source_inner\">MOA</span>\\n                            </span>\\n\\t\\t\\t\\t\\t\\t</div>\\n\\t\\t\\t\\t\\t</a>\\n\\t\\t\\t\\t</li>\\n\\t\\t\\t\\n\\t\\t\\t\\t<li class=\"theme_item\" data-gdid=\"46c11a6f-e2c6-4b5c-a23f-22cac6f01721-2dc40365-a8a8-406a-ae2a-3f6a220a478c\" data-da-position=\"true\">\\n\\t\\t\\t\\t\\t<a href=\"https://blog.naver.com/a855669/222509472523\" class=\"theme_thumb\" data-clk=\"tcc_lif.list3cont4\" target=\"_blank\">\\n\\t\\t\\t\\t\\t\\t<img  data-src=\"https://s.pstatic.net/dthumb.phinf/?src&#x3D;%22https%3A%2F%2Fs.pstatic.net%2Fshop.phinf%2F20220102_217%2F1641117121221fljow_JPEG%2F336__4.jpg%22&amp;type&#x3D;nf340_228\" alt=\"박공지붕 전원주택, 작지만 쓰임새 있게 지은 우리 집 \" width=\"170\" height=\"114\" onerror=\"this.outerHTML=\\'\\'\">\\n\\t\\t\\t\\t\\t\\t<span class=\"thumb_bd\"></span>\\n                        \\n\\t\\t\\t\\t\\t</a>\\n\\t\\t\\t\\t\\t<a href=\"https://blog.naver.com/a855669/222509472523\" class=\"theme_info\" data-clk=\"tcc_lif.list3cont4\" target=\"_blank\">\\n\\t\\t\\t\\t\\t\\t<em class=\"theme_category\"> 리빙</em>\\n\\t\\t\\t\\t\\t\\t<strong class=\"title elss\">박공지붕 전원주택, 작지만 쓰임새 있게 지은 우리 집 </strong>\\n                        <p class=\"desc\">따라라라라~ 🤗 완성된 우리집. 아직 새 거일때 잘 남겨둬야지. 박공지붕의 단층, 단순한 외관. 들어서면 정면으로 보이는 모습. 너무 단순한 구조라 집에 들어서면 모든 공간이 한 눈에 들어온다. 반대편 모습. 방, 현관, 화장실. 노오옾은 천장이 확실히 집을 훨씬 넓어 보이게 하는 듯. 내가 좋아하는 평상 공간. 여기서 잠도 자고, 차도 마시고😃 제일 </p>\\n\\t\\t\\t\\t\\t\\t<div class=\"source_box\">\\n\\t\\t\\t\\t\\t\\t\\t<span class=\"date\">3개월 전</span>\\n\\t\\t\\t\\t\\t\\t\\t<span class=\"source\">\\n                                \\n                                <span class=\"source_inner\">이룸제매이랭</span>\\n                            </span>\\n\\t\\t\\t\\t\\t\\t</div>\\n\\t\\t\\t\\t\\t</a>\\n\\t\\t\\t\\t</li>\\n\\t\\t\\t\\n\\t\\t\\t\\t<li class=\"theme_item\" data-gdid=\"a9eaefe4-a38c-48f2-80b7-fa03d807151e-6fc8d3e7-f72e-471a-ace2-53194e81b6dc-a4a0be6d-d8d9-4b76-97f2-aad33861fbf7\" data-da-position=\"true\">\\n\\t\\t\\t\\t\\t<a href=\"https://blog.naver.com/nyhuh90/222472643897\" class=\"theme_thumb\" data-clk=\"tcc_lif.list3cont5\" target=\"_blank\">\\n\\t\\t\\t\\t\\t\\t<img  data-src=\"https://s.pstatic.net/dthumb.phinf/?src&#x3D;%22https%3A%2F%2Fs.pstatic.net%2Fshop.phinf%2F20220102_294%2F1641113329193A4nIb_JPEG%2F336_3.jpg%22&amp;type&#x3D;nf340_228\" alt=\"전구색 vs 주광색, 시공샷으로 확인하는 전구 고르기 팁 \" width=\"170\" height=\"114\" onerror=\"this.outerHTML=\\'\\'\">\\n\\t\\t\\t\\t\\t\\t<span class=\"thumb_bd\"></span>\\n                        \\n\\t\\t\\t\\t\\t</a>\\n\\t\\t\\t\\t\\t<a href=\"https://blog.naver.com/nyhuh90/222472643897\" class=\"theme_info\" data-clk=\"tcc_lif.list3cont5\" target=\"_blank\">\\n\\t\\t\\t\\t\\t\\t<em class=\"theme_category\"> 리빙</em>\\n\\t\\t\\t\\t\\t\\t<strong class=\"title elss\">전구색 vs 주광색, 시공샷으로 확인하는 전구 고르기 팁 </strong>\\n                        <p class=\"desc\">&#x27;인테리어의 완성은 조명&#x27;이란 얘기 들어보셨나요? 실제로 전구색과 주백색 주광색을 모두 활용하여 인테리어를 하고 그 차이점을 직접 느끼고 나니 &#x27;조명&#x27;의 중요성을 더욱 실감할 수 있었어요. 어떤 조명을 켜느냐에 따라서 분위기와 시야가 확!!! 달라지기 때문입니다. 그래서 오늘은 인테리어 할 때 확인해야 할 조명 꿀팁을 알려드리려고 해요. 어떤 전...</p>\\n\\t\\t\\t\\t\\t\\t<div class=\"source_box\">\\n\\t\\t\\t\\t\\t\\t\\t<span class=\"date\">4개월 전</span>\\n\\t\\t\\t\\t\\t\\t\\t<span class=\"source\">\\n                                \\n                                <span class=\"source_inner\">꾸미꿈</span>\\n                            </span>\\n\\t\\t\\t\\t\\t\\t</div>\\n\\t\\t\\t\\t\\t</a>\\n\\t\\t\\t\\t</li>\\n\\t\\t\\t\\n\\t\\t</ul>\\n\\t</div>\\n</div>\\n<div class=\"group_theme\" data-block-id=\"\" data-block-code=\"PC-THEME-LIVINGHOME-MOBILE-RANKING-DEFAULT-3\" data-block-type=\"MATERIALS\" data-template-code=\"MOBILE-RANKING-LIST\"\\n\\n\\t data-da=\"container\"\\n\\t data-index=\"\"\\n     data-page=\"2\"\\n\\t style=\"display:none\">\\n\\n\\t<div class=\"list_theme_wrap\">\\n\\t\\t<ul class=\"list_theme\">\\n\\t\\t\\t\\n\\t\\t\\t\\t<li class=\"theme_item\" data-gdid=\"61cac0785139ca27b5521f31-3d2b8f16-bf00-4ec2-819a-eba07fb7bc38\" data-da-position=\"true\">\\n\\t\\t\\t\\t\\t<a href=\"https://blog.naver.com/living_food/222610005661\" class=\"theme_thumb\" data-clk=\"tcc_lif.list4cont1\" target=\"_blank\">\\n\\t\\t\\t\\t\\t\\t<img  data-src=\"https://s.pstatic.net/dthumb.phinf/?src&#x3D;%22https%3A%2F%2Fs.pstatic.net%2Fshop.phinf%2F20220101_183%2F16409824340140haAC_JPEG%2F336_6.jpg%22&amp;type&#x3D;nf340_228\" alt=\"우리 집을 소개하면 공간마다 홈스타일링 지원금을! \" width=\"170\" height=\"114\" onerror=\"this.outerHTML=\\'\\'\">\\n\\t\\t\\t\\t\\t\\t<span class=\"thumb_bd\"></span>\\n                        \\n\\t\\t\\t\\t\\t</a>\\n\\t\\t\\t\\t\\t<a href=\"https://blog.naver.com/living_food/222610005661\" class=\"theme_info\" data-clk=\"tcc_lif.list4cont1\" target=\"_blank\">\\n\\t\\t\\t\\t\\t\\t<em class=\"theme_category\"> 리빙</em>\\n\\t\\t\\t\\t\\t\\t<strong class=\"title elss\">우리 집을 소개하면 공간마다 홈스타일링 지원금을! </strong>\\n                        <p class=\"desc\">■ 이벤트 진행 기간 기간 : 2022. 01.01 - 2022.01.31 발표 : 2022. 02.11 ■ 혜택 1월의 공간 100P!CK 우리 집 여러 공간이 선정될 수 있습니다 선정된 공간마다 홈스타일링 지원금 네이버페이 3만 포인트 최우수 공간에는 네이버페이 20만 포인트 - 12월에 지원했던 포스팅은 이벤트 대상이 아닙니다. - 메인 노출 여부와 </p>\\n\\t\\t\\t\\t\\t\\t<div class=\"source_box\">\\n\\t\\t\\t\\t\\t\\t\\t<span class=\"date\">5일 전</span>\\n\\t\\t\\t\\t\\t\\t\\t<span class=\"source\">\\n                                \\n                                <span class=\"source_inner\">리빙N레시피</span>\\n                            </span>\\n\\t\\t\\t\\t\\t\\t</div>\\n\\t\\t\\t\\t\\t</a>\\n\\t\\t\\t\\t</li>\\n\\t\\t\\t\\n\\t\\t\\t\\t<li class=\"theme_item\" data-gdid=\"61cf67653c5225e34c9f0ead\" data-da-position=\"true\">\\n\\t\\t\\t\\t\\t<a href=\"https://blog.naver.com/living_food/222609938446\" class=\"theme_thumb\" data-clk=\"tcc_lif.list4cont2\" target=\"_blank\">\\n\\t\\t\\t\\t\\t\\t<img  data-src=\"https://s.pstatic.net/dthumb.phinf/?src&#x3D;%22https%3A%2F%2Fs.pstatic.net%2Fshop.phinf%2F20220101_95%2F1640967794354n3Ikl_JPEG%2F336_4.jpg%22&amp;type&#x3D;nf340_228\" alt=\"자랑하고 싶은 살림잇템, 리빙잇템이 있다면! \" width=\"170\" height=\"114\" onerror=\"this.outerHTML=\\'\\'\">\\n\\t\\t\\t\\t\\t\\t<span class=\"thumb_bd\"></span>\\n                        \\n\\t\\t\\t\\t\\t</a>\\n\\t\\t\\t\\t\\t<a href=\"https://blog.naver.com/living_food/222609938446\" class=\"theme_info\" data-clk=\"tcc_lif.list4cont2\" target=\"_blank\">\\n\\t\\t\\t\\t\\t\\t<em class=\"theme_category\"> 리빙</em>\\n\\t\\t\\t\\t\\t\\t<strong class=\"title elss\">자랑하고 싶은 살림잇템, 리빙잇템이 있다면! </strong>\\n                        <p class=\"desc\">이건 정말 잘 샀는데! 자랑하고 싶은 #내돈내산잇템 을 소개해주세요 잇템은 3개 이상 / 대가성 리뷰 불가 #자랑하고싶은살림아이템5 #내가사고내가쓴후기 #내가산후기 #살림리뷰 #살림잇템 #살림템 #주방잇템 #조리도구 #최애프라이팬 #그릇수집 #그릇장정리 #빈티지수집 #티도구 #커트러리 #키친패브릭 #인테리어소품 #집꾸미기아이템 &amp; more 참여 방법 네이버</p>\\n\\t\\t\\t\\t\\t\\t<div class=\"source_box\">\\n\\t\\t\\t\\t\\t\\t\\t<span class=\"date\">5일 전</span>\\n\\t\\t\\t\\t\\t\\t\\t<span class=\"source\">\\n                                \\n                                <span class=\"source_inner\">리빙N레시피</span>\\n                            </span>\\n\\t\\t\\t\\t\\t\\t</div>\\n\\t\\t\\t\\t\\t</a>\\n\\t\\t\\t\\t</li>\\n\\t\\t\\t\\n\\t\\t\\t\\t<li class=\"theme_item\" data-gdid=\"61cc33eda18acf0848bbe767-fadb65da-10b2-4cf3-9332-97e353c72298\" data-da-position=\"true\">\\n\\t\\t\\t\\t\\t<a href=\"https://blog.naver.com/ssompick/222608758776\" class=\"theme_thumb\" data-clk=\"tcc_lif.list4cont3\" target=\"_blank\">\\n\\t\\t\\t\\t\\t\\t<img  data-src=\"https://s.pstatic.net/dthumb.phinf/?src&#x3D;%22https%3A%2F%2Fs.pstatic.net%2Fshop.phinf%2F20220104_32%2F1641289300121ihoN5_JPEG%2F750_1.jpg%22&amp;type&#x3D;nf340_228\" alt=\" 애정하는 그릇 모음집 \" width=\"170\" height=\"114\" onerror=\"this.outerHTML=\\'\\'\">\\n\\t\\t\\t\\t\\t\\t<span class=\"thumb_bd\"></span>\\n                        \\n\\t\\t\\t\\t\\t</a>\\n\\t\\t\\t\\t\\t<a href=\"https://blog.naver.com/ssompick/222608758776\" class=\"theme_info\" data-clk=\"tcc_lif.list4cont3\" target=\"_blank\">\\n\\t\\t\\t\\t\\t\\t<em class=\"theme_category\"> 리빙</em>\\n\\t\\t\\t\\t\\t\\t<strong class=\"title elss\"> 애정하는 그릇 모음집 </strong>\\n                        <p class=\"desc\">안녕하세요:) 솜이에요. 얼마전에, 사고뭉치 남편을 피해 애정하는 그릇들을 피신 시켜 놓았던 그릇장 포스팅 기억 하시나요?ㅎㅎ 오늘은 이 그릇장 안에 들어있는 저의 최애 그릇들을 보여드리려고 해요:) 제품 정보도 함께 공유드리고 싶은데, 이곳 저곳에서 하나씩 모아온 그릇이라 몇 개는 기억이 안나도 이해해주세요ㅎㅎ 그럼, 차근차근 기록해보겠습니다아 - 찻잔,</p>\\n\\t\\t\\t\\t\\t\\t<div class=\"source_box\">\\n\\t\\t\\t\\t\\t\\t\\t<span class=\"date\">6일 전</span>\\n\\t\\t\\t\\t\\t\\t\\t<span class=\"source\">\\n                                \\n                                <span class=\"source_inner\">윤솜</span>\\n                            </span>\\n\\t\\t\\t\\t\\t\\t</div>\\n\\t\\t\\t\\t\\t</a>\\n\\t\\t\\t\\t</li>\\n\\t\\t\\t\\n\\t\\t\\t\\t<li class=\"theme_item\" data-gdid=\"61cd5949faabeebddb71168b-69000030-7d09-45e7-a75c-bde630c9013a\" data-da-position=\"true\">\\n\\t\\t\\t\\t\\t<a href=\"https://blog.naver.com/baby6630/222518220378\" class=\"theme_thumb\" data-clk=\"tcc_lif.list4cont4\" target=\"_blank\">\\n\\t\\t\\t\\t\\t\\t<img  data-src=\"https://s.pstatic.net/dthumb.phinf/?src&#x3D;%22https%3A%2F%2Fs.pstatic.net%2Fshop.phinf%2F20220104_298%2F16412890814081AYBu_JPEG%2F336_36.jpg%22&amp;type&#x3D;nf340_228\" alt=\"로션 용기, 크림통 재활용 아이디어 #살림꿀팁\" width=\"170\" height=\"114\" onerror=\"this.outerHTML=\\'\\'\">\\n\\t\\t\\t\\t\\t\\t<span class=\"thumb_bd\"></span>\\n                        \\n\\t\\t\\t\\t\\t</a>\\n\\t\\t\\t\\t\\t<a href=\"https://blog.naver.com/baby6630/222518220378\" class=\"theme_info\" data-clk=\"tcc_lif.list4cont4\" target=\"_blank\">\\n\\t\\t\\t\\t\\t\\t<em class=\"theme_category\"> 리빙</em>\\n\\t\\t\\t\\t\\t\\t<strong class=\"title elss\">로션 용기, 크림통 재활용 아이디어 #살림꿀팁</strong>\\n                        <p class=\"desc\">다 쓴 크림통. 재활용 하려고 깨끗이 닦아놓았어요. 철제인줄 알았는데 알루미늄이더라고요:) 뚜껑에 붙일 자투리 시트지도 준비! 뒷면의 이형지를 조금만 벗겨낸 상태에서 배치가 끝나면 완전히 떼어 붙여줍니다. 시트지, 라벨링, 스티커 작업 후 글루건을 사용해 뒷면에 자석도 붙여주었어요. 이 통에는 냉장고에 지저분하게 붙어있던 쿠폰들을 한데 모아 담아주니 깔끔하</p>\\n\\t\\t\\t\\t\\t\\t<div class=\"source_box\">\\n\\t\\t\\t\\t\\t\\t\\t<span class=\"date\">3개월 전</span>\\n\\t\\t\\t\\t\\t\\t\\t<span class=\"source\">\\n                                \\n                                <span class=\"source_inner\">핑크베베</span>\\n                            </span>\\n\\t\\t\\t\\t\\t\\t</div>\\n\\t\\t\\t\\t\\t</a>\\n\\t\\t\\t\\t</li>\\n\\t\\t\\t\\n\\t\\t\\t\\t<li class=\"theme_item\" data-gdid=\"61cd5a2d5c9f41bdd4aa6bf6-78aa3177-c3b0-4265-b2cf-98d5618c6393\" data-da-position=\"true\">\\n\\t\\t\\t\\t\\t<a href=\"https://blog.naver.com/fayefaye79/222605681754\" class=\"theme_thumb\" data-clk=\"tcc_lif.list4cont5\" target=\"_blank\">\\n\\t\\t\\t\\t\\t\\t<img  data-src=\"https://s.pstatic.net/dthumb.phinf/?src&#x3D;%22https%3A%2F%2Fs.pstatic.net%2Fshop.phinf%2F20211230_81%2F1640847907120VeH5k_JPEG%2Fe3u.jpg%22&amp;type&#x3D;nf340_228\" alt=\"실내 &amp; 베란다 화분 물 주기 #겨울홈가드닝\" width=\"170\" height=\"114\" onerror=\"this.outerHTML=\\'\\'\">\\n\\t\\t\\t\\t\\t\\t<span class=\"thumb_bd\"></span>\\n                        \\n\\t\\t\\t\\t\\t</a>\\n\\t\\t\\t\\t\\t<a href=\"https://blog.naver.com/fayefaye79/222605681754\" class=\"theme_info\" data-clk=\"tcc_lif.list4cont5\" target=\"_blank\">\\n\\t\\t\\t\\t\\t\\t<em class=\"theme_category\"> 리빙</em>\\n\\t\\t\\t\\t\\t\\t<strong class=\"title elss\">실내 & 베란다 화분 물 주기 #겨울홈가드닝</strong>\\n                        <p class=\"desc\">한동안 흙문제와 여름철 더위 때문에 시들해졌던 홈가드닝은 요즘 초심으로 돌아가(실제로도 여전히 초보이지만^^;) 화분물주기부터 다시 신경쓰고 있어요. 슬럼프가 올 땐 기본기부터 다지라더니 홈가드닝도 그런가봐요 ㅎㅎㅎ 저는 화분물주기에 박한 편인 식물집사라 그런지 물주는 방법을 조금 바꾸었더니 식물이 더 잘 자라는 것 같아 다시 재미를 찾고 있답니다. 특히 </p>\\n\\t\\t\\t\\t\\t\\t<div class=\"source_box\">\\n\\t\\t\\t\\t\\t\\t\\t<span class=\"date\">1주일 전</span>\\n\\t\\t\\t\\t\\t\\t\\t<span class=\"source\">\\n                                \\n                                <span class=\"source_inner\">스프링클</span>\\n                            </span>\\n\\t\\t\\t\\t\\t\\t</div>\\n\\t\\t\\t\\t\\t</a>\\n\\t\\t\\t\\t</li>\\n\\t\\t\\t\\n\\t\\t</ul>\\n\\t</div>\\n</div>\\n<div class=\"group_theme\" data-block-id=\"\" data-block-code=\"PC-THEME-LIVINGHOME-MOBILE-RANKING-DEFAULT-4\" data-block-type=\"MATERIALS\" data-template-code=\"MOBILE-RANKING-LIST\"\\n\\n\\t data-da=\"container\"\\n\\t data-index=\"\"\\n     data-page=\"3\"\\n\\t style=\"display:none\">\\n\\n\\t<div class=\"list_theme_wrap\">\\n\\t\\t<ul class=\"list_theme\">\\n\\t\\t\\t\\n\\t\\t\\t\\t<li class=\"theme_item\" data-gdid=\"64c9be25-8c3a-4273-8e06-ac7f0657f087-6e419eb5-faaa-4f37-9488-75b708fce4a0\" data-da-position=\"true\">\\n\\t\\t\\t\\t\\t<a href=\"https://blog.naver.com/dhej0212/222546832853\" class=\"theme_thumb\" data-clk=\"tcc_lif.list5cont1\" target=\"_blank\">\\n\\t\\t\\t\\t\\t\\t<img  data-src=\"https://s.pstatic.net/dthumb.phinf/?src&#x3D;%22https%3A%2F%2Fs.pstatic.net%2Fshop.phinf%2F20211114_58%2F1636821214305oAoP0_JPEG%2F750_7.jpg%22&amp;type&#x3D;nf340_228\" alt=\"카페 같은 우리 집 \" width=\"170\" height=\"114\" onerror=\"this.outerHTML=\\'\\'\">\\n\\t\\t\\t\\t\\t\\t<span class=\"thumb_bd\"></span>\\n                        \\n\\t\\t\\t\\t\\t</a>\\n\\t\\t\\t\\t\\t<a href=\"https://blog.naver.com/dhej0212/222546832853\" class=\"theme_info\" data-clk=\"tcc_lif.list5cont1\" target=\"_blank\">\\n\\t\\t\\t\\t\\t\\t<em class=\"theme_category\"> 리빙</em>\\n\\t\\t\\t\\t\\t\\t<strong class=\"title elss\">카페 같은 우리 집 </strong>\\n                        <p class=\"desc\">안녕하세요 여러분 :-) 응디입니다 ㅎ 많은 분들이 저희 집 이뻐해주셔서 블로그로도 랜선 집들이를 하게되었어요 ㅎ 저희집은 화이트 우드인테리어로 집 자체가 화이트로 리모델링 되어있던터라 가구나 소품을 우드톤으로 해서 따뜻한 느낌을 받을수있게 꾸몄어요. 확장이되어있지 않은 집 이기때문에 앞뒤 베란다가 크게있는게 이 집의 단점이자 장점인데 , 맥시멀리스트인 저</p>\\n\\t\\t\\t\\t\\t\\t<div class=\"source_box\">\\n\\t\\t\\t\\t\\t\\t\\t<span class=\"date\">2개월 전</span>\\n\\t\\t\\t\\t\\t\\t\\t<span class=\"source\">\\n                                \\n                                <span class=\"source_inner\">응디</span>\\n                            </span>\\n\\t\\t\\t\\t\\t\\t</div>\\n\\t\\t\\t\\t\\t</a>\\n\\t\\t\\t\\t</li>\\n\\t\\t\\t\\n\\t\\t\\t\\t<li class=\"theme_item\" data-gdid=\"4b73841b-7a53-486a-bcde-aa3fbc91497d-c2ebf6d1-e3ea-4115-8213-f8220188f31b\" data-da-position=\"true\">\\n\\t\\t\\t\\t\\t<a href=\"https://blog.naver.com/sjnee85/222601865783\" class=\"theme_thumb\" data-clk=\"tcc_lif.list5cont2\" target=\"_blank\">\\n\\t\\t\\t\\t\\t\\t<img  data-src=\"https://s.pstatic.net/dthumb.phinf/?src&#x3D;%22https%3A%2F%2Fs.pstatic.net%2Fshop.phinf%2F20220101_2%2F1641045794964PiBfT_JPEG%2F336_6.jpg%22&amp;type&#x3D;nf340_228\" alt=\"실외기실 방화문 예쁘게 가리기 #슬라이딩북도어  \" width=\"170\" height=\"114\" onerror=\"this.outerHTML=\\'\\'\">\\n\\t\\t\\t\\t\\t\\t<span class=\"thumb_bd\"></span>\\n                        \\n\\t\\t\\t\\t\\t</a>\\n\\t\\t\\t\\t\\t<a href=\"https://blog.naver.com/sjnee85/222601865783\" class=\"theme_info\" data-clk=\"tcc_lif.list5cont2\" target=\"_blank\">\\n\\t\\t\\t\\t\\t\\t<em class=\"theme_category\"> 리빙</em>\\n\\t\\t\\t\\t\\t\\t<strong class=\"title elss\">실외기실 방화문 예쁘게 가리기 #슬라이딩북도어  </strong>\\n                        <p class=\"desc\">안녕하세요 옌나맘 쑤야입니다. 저희집은 30평대 아파트인데요~ 아이들이 어리다보니 현관쪽 방보다는 안쪽방을 아이들 방으로 해야겠다 생각이 들더라구요~ 안쪽 방을 사용하면 되는데 뭐가 문제냐~ 뭐 큰 문제는 아니지만 실외기실이 붙어 있는 방이라~ 방화문이 좀 이쁘지 않더라구요~ 물론 아이들 자석놀이하는곳으로 사용해도 되지만 저는 이쁘지 않았어요 ㅠ 그래서 가</p>\\n\\t\\t\\t\\t\\t\\t<div class=\"source_box\">\\n\\t\\t\\t\\t\\t\\t\\t<span class=\"date\">2주일 전</span>\\n\\t\\t\\t\\t\\t\\t\\t<span class=\"source\">\\n                                \\n                                <span class=\"source_inner\">옌나맘 쑤야</span>\\n                            </span>\\n\\t\\t\\t\\t\\t\\t</div>\\n\\t\\t\\t\\t\\t</a>\\n\\t\\t\\t\\t</li>\\n\\t\\t\\t\\n\\t\\t\\t\\t<li class=\"theme_item\" data-gdid=\"ae2ffebb-c4b7-48e0-be79-37faf7d87948-101ac00a-d721-4236-9868-57e60c3fb7a7\" data-da-position=\"true\">\\n\\t\\t\\t\\t\\t<a href=\"https://post.naver.com/viewer/postView.naver?volumeNo&#x3D;32964791&amp;memberNo&#x3D;35665182\" class=\"theme_thumb\" data-clk=\"tcc_lif.list5cont3\" target=\"_blank\">\\n\\t\\t\\t\\t\\t\\t<img  data-src=\"https://s.pstatic.net/dthumb.phinf/?src&#x3D;%22https%3A%2F%2Fs.pstatic.net%2Fshop.phinf%2F20220101_161%2F1641046150656y6AhS_JPEG%2F336_3.jpg%22&amp;type&#x3D;nf340_228\" alt=\"기발함이 돋보이는 맞춤형 인테리어, 목수언니의 집\" width=\"170\" height=\"114\" onerror=\"this.outerHTML=\\'\\'\">\\n\\t\\t\\t\\t\\t\\t<span class=\"thumb_bd\"></span>\\n                        \\n\\t\\t\\t\\t\\t</a>\\n\\t\\t\\t\\t\\t<a href=\"https://post.naver.com/viewer/postView.naver?volumeNo&#x3D;32964791&amp;memberNo&#x3D;35665182\" class=\"theme_info\" data-clk=\"tcc_lif.list5cont3\" target=\"_blank\">\\n\\t\\t\\t\\t\\t\\t<em class=\"theme_category\"> 리빙</em>\\n\\t\\t\\t\\t\\t\\t<strong class=\"title elss\">기발함이 돋보이는 맞춤형 인테리어, 목수언니의 집</strong>\\n                        <p class=\"desc\">아트디렉터이자 모션그래픽 디자이너로 활동하는 목수언니는 남편과 두 마리의 고양이, 물고기들과 함께 살고 있다. 동식물에 남다른 애정을 가진 그녀는 고양이들이 사색할 수 있는 창문 밖 풍경과 다섯 종류의 고사리가 잘 자랄 수 있는 온실에 특히 공을 들였다. 12평 테라스에 비해 작고 아담한 생활 공간은 복잡한 요소를 최대한 배제한 맞춤형 인테리어로 꾸며졌다.</p>\\n\\t\\t\\t\\t\\t\\t<div class=\"source_box\">\\n\\t\\t\\t\\t\\t\\t\\t<span class=\"date\">2주일 전</span>\\n\\t\\t\\t\\t\\t\\t\\t<span class=\"source\">\\n                                \\n                                <span class=\"source_inner\">아이엑스디자인</span>\\n                            </span>\\n\\t\\t\\t\\t\\t\\t</div>\\n\\t\\t\\t\\t\\t</a>\\n\\t\\t\\t\\t</li>\\n\\t\\t\\t\\n\\t\\t\\t\\t<li class=\"theme_item\" data-gdid=\"61cac079474d4527c79252a6-f9c71f00-0cb5-4d06-90b8-cd4aa2ec93dd\" data-da-position=\"true\">\\n\\t\\t\\t\\t\\t<a href=\"https://blog.naver.com/living_food/222609932371\" class=\"theme_thumb\" data-clk=\"tcc_lif.list5cont4\" target=\"_blank\">\\n\\t\\t\\t\\t\\t\\t<img  data-src=\"https://s.pstatic.net/dthumb.phinf/?src&#x3D;%22https%3A%2F%2Fs.pstatic.net%2Fshop.phinf%2F20220101_100%2F1640967085054fq09g_PNG%2F336_3.PNG%22&amp;type&#x3D;nf340_228\" alt=\"살림 고수님, 꿀팁 노하우를 알려주세요\" width=\"170\" height=\"114\" onerror=\"this.outerHTML=\\'\\'\">\\n\\t\\t\\t\\t\\t\\t<span class=\"thumb_bd\"></span>\\n                        \\n\\t\\t\\t\\t\\t</a>\\n\\t\\t\\t\\t\\t<a href=\"https://blog.naver.com/living_food/222609932371\" class=\"theme_info\" data-clk=\"tcc_lif.list5cont4\" target=\"_blank\">\\n\\t\\t\\t\\t\\t\\t<em class=\"theme_category\"> 리빙</em>\\n\\t\\t\\t\\t\\t\\t<strong class=\"title elss\">살림 고수님, 꿀팁 노하우를 알려주세요</strong>\\n                        <p class=\"desc\">2022년, 네이버 리빙과 함께하는 메인 도전 리빙&amp;레시피와 이웃 추가하고 블로그 혹은 포스팅 url을 비공개 댓글로 남겨주세요. 말머리에 [살림] [취미] 를 붙여 주시고, 포스팅의 간략한 내용 설명도 부탁드릴게요. 살림 추천 키워드 #살림노하우 #살림꿀팁 #뽁뽁이붙이는법 #새해살림법 #창틀청소법 #세탁법 #베이킹소다활용법 #주방정리 #수납노하우 #팬트리</p>\\n\\t\\t\\t\\t\\t\\t<div class=\"source_box\">\\n\\t\\t\\t\\t\\t\\t\\t<span class=\"date\">5일 전</span>\\n\\t\\t\\t\\t\\t\\t\\t<span class=\"source\">\\n                                \\n                                <span class=\"source_inner\">리빙N레시피</span>\\n                            </span>\\n\\t\\t\\t\\t\\t\\t</div>\\n\\t\\t\\t\\t\\t</a>\\n\\t\\t\\t\\t</li>\\n\\t\\t\\t\\n\\t\\t\\t\\t<li class=\"theme_item\" data-gdid=\"8d7cd300-c94a-46e6-b358-27974f2cbb20-b8ee1a20-753a-48ca-9bca-f4430aad4a35\" data-da-position=\"true\">\\n\\t\\t\\t\\t\\t<a href=\"https://blog.naver.com/maroyuki/222602306938\" class=\"theme_thumb\" data-clk=\"tcc_lif.list5cont5\" target=\"_blank\">\\n\\t\\t\\t\\t\\t\\t<img  data-src=\"https://s.pstatic.net/dthumb.phinf/?src&#x3D;%22https%3A%2F%2Fs.pstatic.net%2Fshop.phinf%2F20211231_170%2F1640896785798cu8Ev_JPEG%2F750_9.jpg%22&amp;type&#x3D;nf340_228\" alt=\"인덕션 가능 프라이팬 모음\" width=\"170\" height=\"114\" onerror=\"this.outerHTML=\\'\\'\">\\n\\t\\t\\t\\t\\t\\t<span class=\"thumb_bd\"></span>\\n                        \\n\\t\\t\\t\\t\\t</a>\\n\\t\\t\\t\\t\\t<a href=\"https://blog.naver.com/maroyuki/222602306938\" class=\"theme_info\" data-clk=\"tcc_lif.list5cont5\" target=\"_blank\">\\n\\t\\t\\t\\t\\t\\t<em class=\"theme_category\"> 리빙</em>\\n\\t\\t\\t\\t\\t\\t<strong class=\"title elss\">인덕션 가능 프라이팬 모음</strong>\\n                        <p class=\"desc\">지난 번 내돈내산 무쇠냄비 포스팅을 다들 재미있어하셔서 괜히 뿌듯. 내돈내고 나뿐 아니라 다른 사람에게 기쁨을 줄 수 있다니! 역시 주방용품은 참 좋은 존재다..😘 나에게 있어서도 그동안 사모은 주방용품들을 한 번 정리하는 차원에서 적어보는 조리도구 포스팅, 이번엔 그간 모아온 후라이팬 모음 이야기. 오늘도 매우 기니 한가할 때 읽어주시길... 우리집에는</p>\\n\\t\\t\\t\\t\\t\\t<div class=\"source_box\">\\n\\t\\t\\t\\t\\t\\t\\t<span class=\"date\">2주일 전</span>\\n\\t\\t\\t\\t\\t\\t\\t<span class=\"source\">\\n                                \\n                                <span class=\"source_inner\">달고양이</span>\\n                            </span>\\n\\t\\t\\t\\t\\t\\t</div>\\n\\t\\t\\t\\t\\t</a>\\n\\t\\t\\t\\t</li>\\n\\t\\t\\t\\n\\t\\t</ul>\\n\\t</div>\\n</div>\\n<div class=\"group_theme\" data-block-id=\"\" data-block-code=\"PC-THEME-LIVINGHOME-MOBILE-RANKING-DEFAULT-5\" data-block-type=\"MATERIALS\" data-template-code=\"MOBILE-RANKING-LIST\"\\n\\n\\t data-da=\"container\"\\n\\t data-index=\"\"\\n     data-page=\"3\"\\n\\t style=\"display:none\">\\n\\n\\t<div class=\"list_theme_wrap\">\\n\\t\\t<ul class=\"list_theme\">\\n\\t\\t\\t\\n\\t\\t\\t\\t<li class=\"theme_item\" data-gdid=\"8674d7fb-2220-4c1d-85b9-3a529cd5602b-1b6a7420-f438-42d2-be63-5129f889686f\" data-da-position=\"true\">\\n\\t\\t\\t\\t\\t<a href=\"https://blog.naver.com/ddday-/222606140553\" class=\"theme_thumb\" data-clk=\"tcc_lif.list6cont1\" target=\"_blank\">\\n\\t\\t\\t\\t\\t\\t<img  data-src=\"https://s.pstatic.net/dthumb.phinf/?src&#x3D;%22https%3A%2F%2Fs.pstatic.net%2Fshop.phinf%2F20211229_83%2F1640771452502xh25S_JPEG%2Fg.jpg%22&amp;type&#x3D;nf340_228\" alt=\"펀치니들로 티슈 케이스 만들기 #인테리어소품\" width=\"170\" height=\"114\" onerror=\"this.outerHTML=\\'\\'\">\\n\\t\\t\\t\\t\\t\\t<span class=\"thumb_bd\"></span>\\n                        \\n\\t\\t\\t\\t\\t</a>\\n\\t\\t\\t\\t\\t<a href=\"https://blog.naver.com/ddday-/222606140553\" class=\"theme_info\" data-clk=\"tcc_lif.list6cont1\" target=\"_blank\">\\n\\t\\t\\t\\t\\t\\t<em class=\"theme_category\"> 리빙</em>\\n\\t\\t\\t\\t\\t\\t<strong class=\"title elss\">펀치니들로 티슈 케이스 만들기 #인테리어소품</strong>\\n                        <p class=\"desc\">저번엔 펀치니들로 코스터만들고 남은 재료들이 많아서 티슈케이스를 만들었다. 추우니까 각티슈한테도 옷을 입혀줘야지~~~ (펀치니들 코스터 만들기는 여기서 볼 수 있다↓) 티슈케이스 만들기 재료: 펀치니들 천, 실, 펀치니들, 수틀, 라텍스 본드, 가위 난 원래 좀 꼼꼼하게 준비하고 시작하는 스타일은 아니기 때문에,,,, 일단 펀치니들 천에 각티슈를 대고 선을</p>\\n\\t\\t\\t\\t\\t\\t<div class=\"source_box\">\\n\\t\\t\\t\\t\\t\\t\\t<span class=\"date\">1주일 전</span>\\n\\t\\t\\t\\t\\t\\t\\t<span class=\"source\">\\n                                \\n                                <span class=\"source_inner\">이두</span>\\n                            </span>\\n\\t\\t\\t\\t\\t\\t</div>\\n\\t\\t\\t\\t\\t</a>\\n\\t\\t\\t\\t</li>\\n\\t\\t\\t\\n\\t\\t\\t\\t<li class=\"theme_item\" data-gdid=\"8164dee3-93e7-47e6-a082-b76f366388a4-2eb8d748-1c23-4e58-8bc1-b804df7971c5\" data-da-position=\"true\">\\n\\t\\t\\t\\t\\t<a href=\"https://blog.naver.com/longmami/222600393697\" class=\"theme_thumb\" data-clk=\"tcc_lif.list6cont2\" target=\"_blank\">\\n\\t\\t\\t\\t\\t\\t<img  data-src=\"https://s.pstatic.net/dthumb.phinf/?src&#x3D;%22https%3A%2F%2Fs.pstatic.net%2Fshop.phinf%2F20220103_299%2F1641201240990Py2Lb_JPEG%2F336_2.jpg%22&amp;type&#x3D;nf340_228\" alt=\"옷 정리 노하우, 후드티 깔끔하게 접는 법\" width=\"170\" height=\"114\" onerror=\"this.outerHTML=\\'\\'\">\\n\\t\\t\\t\\t\\t\\t<span class=\"thumb_bd\"></span>\\n                        \\n\\t\\t\\t\\t\\t</a>\\n\\t\\t\\t\\t\\t<a href=\"https://blog.naver.com/longmami/222600393697\" class=\"theme_info\" data-clk=\"tcc_lif.list6cont2\" target=\"_blank\">\\n\\t\\t\\t\\t\\t\\t<em class=\"theme_category\"> 리빙</em>\\n\\t\\t\\t\\t\\t\\t<strong class=\"title elss\">옷 정리 노하우, 후드티 깔끔하게 접는 법</strong>\\n                        <p class=\"desc\">옷정리 노하우, 옷 개는법 후드티 접는법 살림엔 취미없고, 재능도 없지만, 인생에 없던(?) 리빙 인플루언서니께... 뭔가 이것저것 도전해보기로 한다. 왜냐... 키챌을 해야 하니까. ㅎㅎ;;; 뭔가 계속 달려줘야하는 시스템이라... 어쨌든 연말까지 열심히 해보기루! 내키면 내년까지! 오늘은 옷정리 노하우를 방출해보기루... 다들 이미 알고 있을지도 모르지</p>\\n\\t\\t\\t\\t\\t\\t<div class=\"source_box\">\\n\\t\\t\\t\\t\\t\\t\\t<span class=\"date\">2주일 전</span>\\n\\t\\t\\t\\t\\t\\t\\t<span class=\"source\">\\n                                \\n                                <span class=\"source_inner\">이틀</span>\\n                            </span>\\n\\t\\t\\t\\t\\t\\t</div>\\n\\t\\t\\t\\t\\t</a>\\n\\t\\t\\t\\t</li>\\n\\t\\t\\t\\n\\t\\t\\t\\t<li class=\"theme_item\" data-gdid=\"57fe910b-206f-4efa-8064-e180f5c546d4-9e048573-cfe2-4969-a133-e50452eae9ea\" data-da-position=\"true\">\\n\\t\\t\\t\\t\\t<a href=\"https://blog.naver.com/qazx7777/222589489768\" class=\"theme_thumb\" data-clk=\"tcc_lif.list6cont3\" target=\"_blank\">\\n\\t\\t\\t\\t\\t\\t<img  data-src=\"https://s.pstatic.net/dthumb.phinf/?src&#x3D;%22https%3A%2F%2Fs.pstatic.net%2Fshop.phinf%2F20220101_159%2F1640978720356lwuJ7_JPEG%2F750_1.jpg%22&amp;type&#x3D;nf340_228\" alt=\"&#x27;앤티크 홈바&#x27;가 신의 한 수\" width=\"170\" height=\"114\" onerror=\"this.outerHTML=\\'\\'\">\\n\\t\\t\\t\\t\\t\\t<span class=\"thumb_bd\"></span>\\n                        \\n\\t\\t\\t\\t\\t</a>\\n\\t\\t\\t\\t\\t<a href=\"https://blog.naver.com/qazx7777/222589489768\" class=\"theme_info\" data-clk=\"tcc_lif.list6cont3\" target=\"_blank\">\\n\\t\\t\\t\\t\\t\\t<em class=\"theme_category\"> 리빙</em>\\n\\t\\t\\t\\t\\t\\t<strong class=\"title elss\">\\'앤티크 홈바\\'가 신의 한 수</strong>\\n                        <p class=\"desc\">세상에 마상에.. 셀프 인테리어 하면서 내부 보여드린다는 게.. 이제야 올려 보아요~~ 진즉 올려야 했는데.. 컴터 고장 나서..2.3년 피땀어린 사진 없어질세라 새 컴퓨터에 백업 시켜 놨는데..사진량 이 워낙 방대해서 두어 시간 사진 찾아 헤맸네요.. 예전 딸방에 이어 주방 쪽 보여드릴께요~~ 전체적으로 화이트 톤으로 결정했구요 싱크대는 넘~낡아서 폐기처</p>\\n\\t\\t\\t\\t\\t\\t<div class=\"source_box\">\\n\\t\\t\\t\\t\\t\\t\\t<span class=\"date\">4주일 전</span>\\n\\t\\t\\t\\t\\t\\t\\t<span class=\"source\">\\n                                \\n                                <span class=\"source_inner\">들꽃사랑</span>\\n                            </span>\\n\\t\\t\\t\\t\\t\\t</div>\\n\\t\\t\\t\\t\\t</a>\\n\\t\\t\\t\\t</li>\\n\\t\\t\\t\\n\\t\\t\\t\\t<li class=\"theme_item\" data-gdid=\"11275d05-c8bb-4fc1-bbaa-7d53ce556734-af65a2d5-4414-4c00-b7eb-a629355ca0aa\" data-da-position=\"true\">\\n\\t\\t\\t\\t\\t<a href=\"https://blog.naver.com/mintmintchocochoco/222595513209\" class=\"theme_thumb\" data-clk=\"tcc_lif.list6cont4\" target=\"_blank\">\\n\\t\\t\\t\\t\\t\\t<img  data-src=\"https://s.pstatic.net/dthumb.phinf/?src&#x3D;%22https%3A%2F%2Fs.pstatic.net%2Fshop.phinf%2F20211231_10%2F1640948042680wuK1D_JPEG%2F336_14.jpg%22&amp;type&#x3D;nf340_228\" alt=\"작지만 실용적인 공간, 베란다 작업실 만들기\" width=\"170\" height=\"114\" onerror=\"this.outerHTML=\\'\\'\">\\n\\t\\t\\t\\t\\t\\t<span class=\"thumb_bd\"></span>\\n                        \\n\\t\\t\\t\\t\\t</a>\\n\\t\\t\\t\\t\\t<a href=\"https://blog.naver.com/mintmintchocochoco/222595513209\" class=\"theme_info\" data-clk=\"tcc_lif.list6cont4\" target=\"_blank\">\\n\\t\\t\\t\\t\\t\\t<em class=\"theme_category\"> 리빙</em>\\n\\t\\t\\t\\t\\t\\t<strong class=\"title elss\">작지만 실용적인 공간, 베란다 작업실 만들기</strong>\\n                        <p class=\"desc\">https://blog.naver.com/mintmintchocochoco/222516629482 식물들로 가득 찬 공간이었던 우리 집 베란다가 미니 작업실로 바뀌었다. 날이 추워지면서 식물들을 집 안으로 옮겼고 베란다가 텅 비었다. 새롭게 활용해 볼 방법을 찾다가 물감 작업할 수 있는 공간으로 꾸며봤다. 베란다가 넓지 않아서 딱 맞는 책상을 찾는데 오래 </p>\\n\\t\\t\\t\\t\\t\\t<div class=\"source_box\">\\n\\t\\t\\t\\t\\t\\t\\t<span class=\"date\">3주일 전</span>\\n\\t\\t\\t\\t\\t\\t\\t<span class=\"source\">\\n                                \\n                                <span class=\"source_inner\">민트초코별</span>\\n                            </span>\\n\\t\\t\\t\\t\\t\\t</div>\\n\\t\\t\\t\\t\\t</a>\\n\\t\\t\\t\\t</li>\\n\\t\\t\\t\\n\\t\\t\\t\\t<li class=\"theme_item\" data-gdid=\"befb32a9-2e1e-4576-a8b9-6f744eef8bbd-e718bdd1-6d03-459a-9c4a-6775eb21079a\" data-da-position=\"true\">\\n\\t\\t\\t\\t\\t<a href=\"https://post.naver.com/viewer/postView.naver?memberNo&#x3D;24659848&amp;volumeNo&#x3D;32717428\" class=\"theme_thumb\" data-clk=\"tcc_lif.list6cont5\" target=\"_blank\">\\n\\t\\t\\t\\t\\t\\t<img  data-src=\"https://s.pstatic.net/dthumb.phinf/?src&#x3D;%22https%3A%2F%2Fs.pstatic.net%2Fshop.phinf%2F20211231_172%2F1640945854106iUc3B_JPEG%2F336_0.jpg%22&amp;type&#x3D;nf340_228\" alt=\"방 한 개, 주방 겸 거실, 다락방이 있는 8평 돌집 \" width=\"170\" height=\"114\" onerror=\"this.outerHTML=\\'\\'\">\\n\\t\\t\\t\\t\\t\\t<span class=\"thumb_bd\"></span>\\n                        \\n\\t\\t\\t\\t\\t</a>\\n\\t\\t\\t\\t\\t<a href=\"https://post.naver.com/viewer/postView.naver?memberNo&#x3D;24659848&amp;volumeNo&#x3D;32717428\" class=\"theme_info\" data-clk=\"tcc_lif.list6cont5\" target=\"_blank\">\\n\\t\\t\\t\\t\\t\\t<em class=\"theme_category\"> 리빙</em>\\n\\t\\t\\t\\t\\t\\t<strong class=\"title elss\">방 한 개, 주방 겸 거실, 다락방이 있는 8평 돌집 </strong>\\n                        <p class=\"desc\">아끼고 보듬은 사물이 반질반질 윤이 나고 본연의 빛을 발할 때 우리는 ‘품위’가 느껴진다고 한다. 땅끝마을 해남에서 만난 아담한 돌집이 바로 그러하다. 글 사진 백홍기 취재협조 이세일(목수), 윤용신(플로리스트) 부부해남에 있는 작은 목신마을에서 아담한 돌집을 만났다. 방 한 개와 주방 겸 거실, 다락을 갖</p>\\n\\t\\t\\t\\t\\t\\t<div class=\"source_box\">\\n\\t\\t\\t\\t\\t\\t\\t<span class=\"date\">6일 전</span>\\n\\t\\t\\t\\t\\t\\t\\t<span class=\"source\">\\n                                \\n                                <span class=\"source_inner\">전원주택라이프</span>\\n                            </span>\\n\\t\\t\\t\\t\\t\\t</div>\\n\\t\\t\\t\\t\\t</a>\\n\\t\\t\\t\\t</li>\\n\\t\\t\\t\\n\\t\\t</ul>\\n\\t</div>\\n</div>\\n\\n\\n\\n\\n\\t<div class=\"btn_more_wrap\">\\n\\t\\t<button type=\"button\" class=\"btn_more\" data-clk-custom=\"tcc_lif.more\" data-next-page=\"2\"><i class=\"ico_more\"></i>새로운 글 더보기</button>\\n\\t</div>\\n\\n\\n<div class=\"NM_THEME_META\" style=\"display: none\" data-panel-code=\"LIVINGHOME\" data-parent-code=\"\"></div>\\n\\n\\t</div>\\n</div>\\n </div> </div> <div id=\"NM_INT_RIGHT\" class=\"column_right\"> <div class=\"column_fix_wrap\"> <div id=\"da_brand\"></div> \\n\\n\\n\\n\\n<div id=\"account\" class=\"sc_login\">\\n<h2 class=\"blind\">Sign in</h2>\\n<p class=\"login_msg\">Connect with people</p>\\n<a href=\"https://nid.naver.com/nidlogin.login?mode=form&url=https%3A%2F%2Fwww.naver.com\" class=\"link_login\" data-clk=\"log_off.login\"><i class=\"ico_naver\"><span class=\"blind\">NAVER</span></i>Sign in</a>\\n<div class=\"sub_area\">\\n<div class=\"look_box\">\\n<a href=\"https://nid.naver.com/user/help.nhn?todo=idinquiry\" class=\"link_look\" data-clk=\"log_off.searchid\">Forgot Username</a>\\n<a href=\"https://nid.naver.com/nidreminder.form\" class=\"link_look\" data-clk=\"log_off.searchpass\">Password</a>\\n</div>\\n<a href=\"https://nid.naver.com/nidregister.form?url=https%3A%2F%2Fwww.naver.com\" class=\"link_join\" data-clk=\"log_off.registration\">Sign up</a>\\n</div>\\n</div>\\n\\n\\n\\n <div id=\"timesquare\" class=\"sc_timesquare\"> <h2 class=\"blind\">타임스퀘어</h2> <div class=\"card_wrap\">\\n<div class=\"card_nav\">\\n<a href=\"#\" role=\"button\" class=\"btn_nav btn_prev\" data-clk=\"squ.pre\"><span class=\"blind\">이전</span></a>\\n<a href=\"#\" role=\"button\" class=\"btn_nav btn_next\" data-clk=\"squ.next\"><span class=\"blind\">다음</span></a>\\n</div>\\n<div id=\"NM_TS_ROLLING_WRAP\" style=\"height: 100%;\">\\n<div>\\n<a href=\"https://search.naver.com/search.naver?sm=top_hty&amp;fbm=0&amp;ie=utf8&amp;query=%EC%BD%94%EB%A1%9C%EB%82%9819\" class=\"card_news\" data-clk=\"squ.line3\"><i class=\"news_badge\">이슈</i><span class=\"news\">코로나바이러스감염증-19 현황</span></a>\\n</div>\\n<div>\\n<a href=\"https://finance.naver.com/sise/sise_index.nhn?code=KOSPI\" class=\"card_stock \" data-clk=\"squ.kospi\">\\n<strong class=\"stock_title\">증시</strong>\\n<div class=\"stock_box\">\\n<em class=\"name\">코스피</em>\\n<strong class=\"current\">2,920.53</strong>\\n<span class=\"rate rate_down\">33.44 -1.13%</span>\\n</div>\\n</a>\\n</div>\\n<div>\\n<a href=\"https://finance.naver.com/sise/sise_index.nhn?code=KOSDAQ\" class=\"card_stock \" data-clk=\"squ.kosdaq\">\\n<strong class=\"stock_title\">증시</strong>\\n<div class=\"stock_box\">\\n<em class=\"name\">코스닥</em>\\n<strong class=\"current\">980.30</strong>\\n<span class=\"rate rate_down\">29.32 -2.90%</span>\\n</div>\\n</a>\\n</div>\\n<div>\\n<a href=\"https://finance.naver.com/marketindex/exchangeDetail.nhn?marketindexCd=FX_USDKRW\" class=\"card_stock type_exchange\" data-clk=\"squ.usd\">\\n<strong class=\"stock_title\">환율</strong>\\n<div class=\"stock_box\">\\n<em class=\"name\">USD</em>\\n<strong class=\"current\">1,202.50</strong>\\n<span class=\"rate rate_up\">4.50 +0.38%</span>\\n</div>\\n</a>\\n</div>\\n</div>\\n</div> <!-- EMPTY --> </div> <div id=\"veta_branding\"> <div id=\"veta_branding_inner\" style=\"width:350px;height:200px\"> </div> <span class=\"veta_bd_t\"></span> <span class=\"veta_bd_b\"></span> <span class=\"veta_bd_l\"></span> <span class=\"veta_bd_r\"></span> </div> <div id=\"shopcast\" class=\"sc_shopcast\"> <iframe id=\"shopcast_iframe\" data-iframe-src=\"/shoppingbox/shoppingboxnew/main.nhn?domain=N\" title=\"쇼핑캐스트\" width=\"350\" height=\"1539\" marginheight=\"0\" marginwidth=\"0\" scrolling=\"no\" frameborder=\"0\"></iframe> </div> </div> </div> <a id=\"NM_scroll_top_btn\" href=\"#wrap\" class=\"content_top\"><span class=\"blind\">TOP</span></a> <button id=\"NM_darkmode_btn\" type=\"button\" role=\"button\" class=\"btn_theme\" aria-pressed=\"false\"  > <span class=\"blind\">라이트 모드로 보기</span> </button> </div> <div id=\"footer\" role=\"contentinfo\"> <div class=\"footer_inner\"> <div id=\"NM-FOOTER-AD\" class=\"banner_area\"> <div class=\"da_box_wrap\"> <div id=\"da_public_left\"> </div> <div id=\"da_public_right\"> </div> <div id=\"veta_time2\"> </div> </div> </div> <div class=\"notice_area\" data-clk-prefix=\"ntc\"> <div class=\"notice_box\"> <h3 class=\"title\"><a href=\"https://www.naver.com/NOTICE\">공지사항</a> </h3> <!-- EMPTY --> </div> <a href=\"more.html\" class=\"link_all\" data-clk=\"svcmap\">서비스 전체보기</a> </div> <div class=\"aside_area\"> <div class=\"partner_box_wrap\"> <div class=\"partner_box\" data-clk-prefix=\"crt\"> <h3 class=\"title\">Creators</h3> <a href=\"https://www.navercorp.com/service/creators\" class=\"link_partner\" data-clk=\"creator\">크리에이터</a> <a href=\"https://www.navercorp.com/service/business\" class=\"link_partner\" data-clk=\"smbusiness\">스몰비즈니스</a> </div> <div class=\"partner_box\" data-clk-prefix=\"crt\"> <h3 class=\"title\">Partners</h3> <a href=\"https://campaign.naver.com/smefullcare/online/\" class=\"link_partner\" data-clk=\"sme\">SME 풀케어 시스템</a> <a href=\"https://business.naver.com/service.html\" class=\"link_partner\" data-clk=\"service\">비즈니스 · 광고</a> <a href=\"https://sell.storefarm.naver.com/#/home/about\" class=\"link_partner\" data-clk=\"store\">스토어 개설</a> <a href=\"https://smartplace.naver.com\" class=\"link_partner\" data-clk=\"place\">지역업체 등록</a> <a href=\"https://expert.naver.com/expert/introduction?tab=guide#join\" class=\"link_partner\" data-clk=\"expert\">엑스퍼트 등록</a> </div> <div class=\"partner_box\" data-clk-prefix=\"crt\"> <h3 class=\"title\">Developers</h3> <a href=\"https://developers.naver.com\" class=\"link_partner\" data-clk=\"center\">네이버 개발자 센터</a> <a href=\"https://developers.naver.com/docs/common/openapiguide/#/apilist.md\" class=\"link_partner\" data-clk=\"openapi\">오픈 API</a> <a href=\"https://naver.github.io\" class=\"link_partner\" data-clk=\"opensource\">오픈소스</a> <a href=\"https://d2.naver.com\" class=\"link_partner\" data-clk=\"d2\">네이버 D2</a> <a href=\"http://d2startup.com\" class=\"link_partner\" data-clk=\"naverD2SF\">네이버 D2SF</a> <a href=\"https://www.naverlabs.com\" class=\"link_partner\" data-clk=\"labs\">네이버 랩스</a> </div> </div> <div class=\"service_box_wrap\"> <div class=\"service_box\" data-clk-prefix=\"wbd\"> <a href=\"http://whale.naver.com/\" class=\"service_logo\" data-clk=\"bt\"> <img src=\"data:image/png;base64,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\" alt=\"웨일\" width=\"48\" height=\"48\"> </a> <div class=\"service_info\"> <strong class=\"title\">웨일 브라우저</strong> <a href=\"http://whale.naver.com/\" class=\"dsc\" data-clk=\"bt\">다운받기</a> </div> </div> <div class=\"service_box\" data-clk-prefix=\"prj\"> <a href=\"https://search.naver.com/search.naver?where=nexearch&sm=top_hty&fbm=1&ie=utf8&query=%ED%94%84%EB%A1%9C%EC%A0%9D%ED%8A%B8%EA%BD%83\" class=\"service_logo\" data-clk=\"link\"> <img src=\"data:image/png;base64,iVBORw0KGgoAAAANSUhEUgAAAF4AAABkCAMAAAA47XeXAAAAgVBMVEUAAADN5PdGm99Gm99Gm99Gm99Gm95Gm99Gm99Gm99Gm99Gm99Gm99Gm99Gm99Gm99Gm99Gm99Gm99Gm99Gm99Gm99Gm99Gmt9Gm99Gm99Gm99Gm95Gm99Gm99Gm95Gm99Hm99Gm99Gm9/////3+/5cp+LO5PfR5/fO5fdcp+P7/f/zv5GhAAAAInRSTlMA/v7vH9u5qJNgGwb6l8a9uqF9WFUyLxYMCtbVmLCwe4OCj8gzEgAAA0NJREFUaN7NmmFz4iAQhkkwMTHGWrWtWvWuq8mF+/8/8Ey2nb0OhSwQZnw+MHQ7pbjAy2s2gsuiLPJMLpcyy4tyISZltnmHbxw3MzEVr/MUNNL5q5iCt2ccXCN9fhPB7CQYkTsRRlWDlboSAexzGCHfC28OKxhldfDOzBMwePLNTw0sauHFFphshQcLCUwkaQRfXYBPSkrEUBdv3jezcXXhw1ciUhc+fCUidQlH7qzqEk5d2dQlnHxvU5dwVgdXdSGclaiGyamt6hLO1qIu4ZASzcFE092SBprk1jagulvXAAw/qb5N7m176xQYmOPoLymYaK/X65/PNhlagE6LGUhfRM8FjNzuf/73//bHmInzoJEpjMyeWpp9RzGz/PT6+QvMNO2Q+67PPeYZY5h7jDVg5OM+/BGikd13JfDAj/Ad1WLMyEyUwKPT00ypN1GKAljQJtFiFgqRe86eYhbWIvPPPR5d+9pKiIgUwKNJdHXBvW9jyRye1EWLWYfnJcd141Byspizz7gbUyWDuqiW0v15D9g3ZgF86JwyKUgUHJaATUmS5rsEdkkTZLjZS8Alw+skFr8Nl6H6uosShaKOp3Zo+/jgFTDe+wcSfv0yFGfQaLX7tDO0reXOPRuMCG4Q11Y3IiYblWgzS7R+h31qdRtlGB7zikeUckz+AB3a8FuMqD7Cd2nhUHLOEIkLubQIkEuLxIdwEwUy3HyXxsbgPMJcGuGox+TSIugxuTQ+KHIaAS5N92eIIuMT5tJoPfHy5q9yKoXLelLuKRri0mjMQdhwTPw6Sv8pzKXhFyhNilEwkSCXRrnAnaPnJdyl0UrqXircpeHVglnv+62K4NJo3lFcGmWd79KO7OQoXAE8XNO6tIQGxj7fpfHTwk8RubQLWEGvgTNGKzj01fixunCMCCYcvSSlaFwUyKVx86J3bczpUR3zimq1LqdosAUbJF54ar+uk5Gju436mPTk8ZAXFdO93HRYTesUVgf3B+y0XdxLfdVputmfKp/iBtNjyl3c0kzUwtJIWewIPvAL9LOyWLsV9WAps3VRzh6hJBm3oOqsRKfHLGYzS/GP+iLBuBKdqkd+iWPkFZTHf4Em4us/uhI5qss/6zK5u8+AXpwAAAAASUVORK5CYII=\" alt=\"꽃\" width=\"47\" height=\"50\"> </a> <div class=\"service_info\"> <strong class=\"title\">프로젝트 꽃</strong> <a href=\"https://search.naver.com/search.naver?where=nexearch&sm=top_hty&fbm=1&ie=utf8&query=%ED%94%84%EB%A1%9C%EC%A0%9D%ED%8A%B8%EA%BD%83\" class=\"dsc\" data-clk=\"link\">바로가기</a> </div> </div> </div> </div> <div class=\"corp_area\" data-clk-prefix=\"plc\"> <h3 class=\"blind\">네이버 정책 및 약관</h3> <ul class=\"list_corp\"> <li class=\"corp_item\"><a href=\"https://www.navercorp.com\" data-clk=\"intronhn\">회사소개</a></li> <li class=\"corp_item\"><a href=\"https://recruit.navercorp.com/naver/recruitMain\" data-clk=\"recruit\">인재채용</a></li> <li class=\"corp_item\"><a href=\"https://www.navercorp.com/naver/proposalGuide\" data-clk=\"contact\">제휴제안</a></li> <li class=\"corp_item\"><a href=\"/policy/service.html\" data-clk=\"service\">이용약관</a></li> <li class=\"corp_item\"><a href=\"/policy/privacy.html\" data-clk=\"privacy\"><strong>개인정보처리방침</strong></a></li> <li class=\"corp_item\"><a href=\"/policy/youthpolicy.html\" data-clk=\"youth\">청소년보호정책</a></li> <li class=\"corp_item\"><a href=\"/policy/spamcheck.html\" data-clk=\"policy\">네이버 정책</a></li> <li class=\"corp_item\"><a href=\"https://help.naver.com/\" data-clk=\"helpcenter\">고객센터</a></li> </ul> <address class=\"addr\"><a href=\"https://www.navercorp.com\" target=\"_blank\" data-clk=\"nhn\">ⓒ NAVER Corp.</a></address> </div> </div> </div> </div> <div id=\"adscript\" style=\"display:none\"></div> </body> </html>\\n'"
      ]
     },
     "execution_count": 3,
     "metadata": {},
     "output_type": "execute_result"
    }
   ],
   "source": [
    "# html 코드 정보 보기 .text\n",
    "res.text"
   ]
  },
  {
   "cell_type": "markdown",
   "id": "1cd8a27e",
   "metadata": {},
   "source": [
    "### BeautifulSoup 사용하기\n",
    "- 가져온 html 코드에서 내가 원하는 내용만 추출할때 사용"
   ]
  },
  {
   "cell_type": "code",
   "execution_count": 4,
   "id": "d8760ed0",
   "metadata": {},
   "outputs": [],
   "source": [
    "from bs4 import BeautifulSoup as bs"
   ]
  },
  {
   "cell_type": "code",
   "execution_count": 5,
   "id": "fc9ed285",
   "metadata": {},
   "outputs": [],
   "source": [
    "# 파싱 : 데이터의 형태 변환 ( 파싱할 데이터, 파싱방법 )\n",
    "soup = bs(res.text, 'lxml')"
   ]
  },
  {
   "cell_type": "code",
   "execution_count": 6,
   "id": "0bac1d63",
   "metadata": {},
   "outputs": [
    {
     "data": {
      "text/plain": [
       "<a class=\"nav\" data-clk=\"svc.mail\" href=\"https://mail.naver.com/\"><i class=\"ico_mail\"></i>메일</a>"
      ]
     },
     "execution_count": 6,
     "metadata": {},
     "output_type": "execute_result"
    }
   ],
   "source": [
    "# a 태그 이면서 클래스 명이 nav 인 첫번째 것 찾기\n",
    "soup.select_one('a.nav')"
   ]
  },
  {
   "cell_type": "code",
   "execution_count": 7,
   "id": "91a0f66f",
   "metadata": {},
   "outputs": [
    {
     "data": {
      "text/plain": [
       "[<a class=\"nav\" data-clk=\"svc.mail\" href=\"https://mail.naver.com/\"><i class=\"ico_mail\"></i>메일</a>,\n",
       " <a class=\"nav\" data-clk=\"svc.cafe\" href=\"https://section.cafe.naver.com/\">카페</a>,\n",
       " <a class=\"nav\" data-clk=\"svc.blog\" href=\"https://section.blog.naver.com/\">블로그</a>,\n",
       " <a class=\"nav\" data-clk=\"svc.kin\" href=\"https://kin.naver.com/\">지식iN</a>,\n",
       " <a class=\"nav shop\" data-clk=\"svc.shopping\" href=\"https://shopping.naver.com/\"><span class=\"blind\">쇼핑</span></a>,\n",
       " <a class=\"nav shoplive\" data-clk=\"svc.shoppinglive\" href=\"https://shoppinglive.naver.com/home\"><span class=\"blind\">쇼핑LIVE</span></a>,\n",
       " <a class=\"nav\" data-clk=\"svc.pay\" href=\"https://order.pay.naver.com/home\">Pay</a>,\n",
       " <a class=\"nav\" data-clk=\"svc.tvcast\" href=\"https://tv.naver.com/\"><i class=\"ico_tv\"></i>TV</a>,\n",
       " <a class=\"nav\" data-clk=\"svc.dic\" href=\"https://dict.naver.com/\">사전</a>,\n",
       " <a class=\"nav\" data-clk=\"svc.news\" href=\"https://news.naver.com/\">뉴스</a>,\n",
       " <a class=\"nav\" data-clk=\"svc.stock\" href=\"https://finance.naver.com/\">증권</a>,\n",
       " <a class=\"nav\" data-clk=\"svc.land\" href=\"https://land.naver.com/\">부동산</a>,\n",
       " <a class=\"nav\" data-clk=\"svc.map\" href=\"https://map.naver.com/\">지도</a>,\n",
       " <a class=\"nav\" data-clk=\"svc.vibe\" href=\"https://vibe.naver.com/\">VIBE</a>,\n",
       " <a class=\"nav\" data-clk=\"svc.book\" href=\"https://book.naver.com/\">책</a>,\n",
       " <a class=\"nav\" data-clk=\"svc.webtoon\" href=\"https://comic.naver.com/\">웹툰</a>]"
      ]
     },
     "execution_count": 7,
     "metadata": {},
     "output_type": "execute_result"
    }
   ],
   "source": [
    "# a 태그 이면서 클래스 명이 nav 인 것 전부 찾기\n",
    "# 리스트로 표현됨\n",
    "soup.select('a.nav')"
   ]
  },
  {
   "cell_type": "code",
   "execution_count": 8,
   "id": "21a65973",
   "metadata": {},
   "outputs": [
    {
     "name": "stdout",
     "output_type": "stream",
     "text": [
      "<a class=\"nav\" data-clk=\"svc.blog\" href=\"https://section.blog.naver.com/\">블로그</a>\n"
     ]
    },
    {
     "data": {
      "text/plain": [
       "'블로그'"
      ]
     },
     "execution_count": 8,
     "metadata": {},
     "output_type": "execute_result"
    }
   ],
   "source": [
    "# 인덱싱\n",
    "print(soup.select('a.nav')[2])\n",
    "soup.select('a.nav')[2].text"
   ]
  },
  {
   "cell_type": "code",
   "execution_count": 9,
   "id": "fff6bd98",
   "metadata": {},
   "outputs": [
    {
     "data": {
      "text/plain": [
       "<Response [200]>"
      ]
     },
     "execution_count": 9,
     "metadata": {},
     "output_type": "execute_result"
    }
   ],
   "source": [
    "url2 = 'https://search.naver.com/search.naver?where=nexearch&sm=top_hty&fbm=1&ie=utf8&query=%EA%B4%91%EC%A3%BC%EB%82%A0%EC%94%A8'\n",
    "res = req.get(url2)\n",
    "res"
   ]
  },
  {
   "cell_type": "code",
   "execution_count": 10,
   "id": "c8b778b6",
   "metadata": {},
   "outputs": [],
   "source": [
    "soup2 = bs(res.text, 'lxml')"
   ]
  },
  {
   "cell_type": "code",
   "execution_count": 11,
   "id": "ada934ce",
   "metadata": {},
   "outputs": [
    {
     "data": {
      "text/plain": [
       "[<strong><span class=\"blind\">현재 온도</span>5<span class=\"celsius\">°</span></strong>,\n",
       " <strong><span class=\"blind\">예측 온도</span>-4<span class=\"celsius\">°</span></strong>,\n",
       " <strong><span class=\"blind\">예측 온도</span>8<span class=\"celsius\">°</span></strong>,\n",
       " <strong><span class=\"blind\">예측 온도</span>-3<span class=\"celsius\">°</span></strong>,\n",
       " <strong><span class=\"blind\">예측 온도</span>8<span class=\"celsius\">°</span></strong>]"
      ]
     },
     "execution_count": 11,
     "metadata": {},
     "output_type": "execute_result"
    }
   ],
   "source": [
    " # > 로 자식만 가져오면 스트롱만 나온다!\n",
    "soup2.select('div.temperature_text>strong')"
   ]
  },
  {
   "cell_type": "code",
   "execution_count": 12,
   "id": "7addad78",
   "metadata": {},
   "outputs": [
    {
     "data": {
      "text/plain": [
       "<strong><span class=\"blind\">현재 온도</span>5<span class=\"celsius\">°</span></strong>"
      ]
     },
     "execution_count": 12,
     "metadata": {},
     "output_type": "execute_result"
    }
   ],
   "source": [
    "soup2.select('div.temperature_text>strong')[0]"
   ]
  },
  {
   "cell_type": "code",
   "execution_count": 13,
   "id": "41149023",
   "metadata": {},
   "outputs": [
    {
     "data": {
      "text/plain": [
       "' 현재 온도5° '"
      ]
     },
     "execution_count": 13,
     "metadata": {},
     "output_type": "execute_result"
    }
   ],
   "source": [
    "soup2.select('div.temperature_text')[0].text"
   ]
  },
  {
   "cell_type": "code",
   "execution_count": 14,
   "id": "37bb4907",
   "metadata": {},
   "outputs": [
    {
     "data": {
      "text/plain": [
       "str"
      ]
     },
     "execution_count": 14,
     "metadata": {},
     "output_type": "execute_result"
    }
   ],
   "source": [
    "type(soup2.select('div.temperature_text')[0].text)"
   ]
  },
  {
   "cell_type": "code",
   "execution_count": 15,
   "id": "ff97a77a",
   "metadata": {},
   "outputs": [
    {
     "data": {
      "text/plain": [
       "'5'"
      ]
     },
     "execution_count": 15,
     "metadata": {},
     "output_type": "execute_result"
    }
   ],
   "source": [
    "soup2.select('div.temperature_text')[0].text[6]"
   ]
  },
  {
   "cell_type": "markdown",
   "id": "52509c82",
   "metadata": {},
   "source": [
    "### 멜론차트 수집"
   ]
  },
  {
   "cell_type": "code",
   "execution_count": 16,
   "id": "116c2f25",
   "metadata": {},
   "outputs": [
    {
     "data": {
      "text/plain": [
       "<Response [406]>"
      ]
     },
     "execution_count": 16,
     "metadata": {},
     "output_type": "execute_result"
    }
   ],
   "source": [
    "url = 'https://www.melon.com/chart/index.htm'\n",
    "res = req.get(url)\n",
    "res\n",
    "# < Response [406] > : 응답 실패"
   ]
  },
  {
   "cell_type": "code",
   "execution_count": 17,
   "id": "aa177e1c",
   "metadata": {},
   "outputs": [],
   "source": [
    "# User-Agent 정보를 가져와 딕셔너리로 변환\n",
    "h = {'User-Agent': 'Mozilla/5.0 (Windows NT 10.0; Win64; x64) AppleWebKit/537.36 (KHTML, like Gecko) Chrome/96.0.4664.110 Safari/537.36'}"
   ]
  },
  {
   "cell_type": "code",
   "execution_count": 18,
   "id": "a1c0b1e9",
   "metadata": {},
   "outputs": [
    {
     "data": {
      "text/plain": [
       "<Response [200]>"
      ]
     },
     "execution_count": 18,
     "metadata": {},
     "output_type": "execute_result"
    }
   ],
   "source": [
    "res = req.get(url, headers = h)\n",
    "res"
   ]
  },
  {
   "cell_type": "code",
   "execution_count": 19,
   "id": "03b03add",
   "metadata": {},
   "outputs": [],
   "source": [
    "soup3 = bs(res.text, 'lxml')"
   ]
  },
  {
   "cell_type": "code",
   "execution_count": 20,
   "id": "fd460224",
   "metadata": {},
   "outputs": [
    {
     "data": {
      "text/plain": [
       "300"
      ]
     },
     "execution_count": 20,
     "metadata": {},
     "output_type": "execute_result"
    }
   ],
   "source": [
    "len(soup3.select('div.ellipsis'))"
   ]
  },
  {
   "cell_type": "code",
   "execution_count": 21,
   "id": "485a6816",
   "metadata": {},
   "outputs": [
    {
     "data": {
      "text/plain": [
       "'Counting Stars (Feat. Beenzino)'"
      ]
     },
     "execution_count": 21,
     "metadata": {},
     "output_type": "execute_result"
    }
   ],
   "source": [
    "soup3.select('div.ellipsis')[0].text[1:-1]"
   ]
  },
  {
   "cell_type": "code",
   "execution_count": 22,
   "id": "466d64c0",
   "metadata": {},
   "outputs": [
    {
     "data": {
      "text/plain": [
       "'\\n쇼미더머니 10 Episode 2\\n'"
      ]
     },
     "execution_count": 22,
     "metadata": {},
     "output_type": "execute_result"
    }
   ],
   "source": [
    "# 노래제목 3의 배수\n",
    "# 3의배수 -1 앨범\n",
    "soup3.select('div.ellipsis')[5].text"
   ]
  },
  {
   "cell_type": "code",
   "execution_count": 23,
   "id": "12be4953",
   "metadata": {
    "collapsed": true
   },
   "outputs": [
    {
     "data": {
      "text/plain": [
       "['Counting Stars (Feat. Beenzino)',\n",
       " '회전목마 (Feat. Zion.T, 원슈타인) (Prod. Slom)',\n",
       " '사랑은 늘 도망가',\n",
       " '리무진 (Feat. MINO) (Prod. GRAY)',\n",
       " '겨울잠',\n",
       " 'ELEVEN',\n",
       " '취중고백',\n",
       " '만남은 쉽고 이별은 어려워 (Feat. Leellamarz) (Prod. TOIL)',\n",
       " '눈이 오잖아(Feat.헤이즈)',\n",
       " 'Dreams Come True',\n",
       " 'strawberry moon',\n",
       " '드라마',\n",
       " '다정히 내 이름을 부르면',\n",
       " '불협화음 (Feat. AKMU) (Prod. GRAY)',\n",
       " 'Savage',\n",
       " '신호등',\n",
       " 'STAY',\n",
       " '이제 나만 믿어요',\n",
       " 'Next Level',\n",
       " '흰눈',\n",
       " '쉬어 (Feat. MINO) (Prod. GRAY)',\n",
       " '네가 없는 밤 (Feat. ASH ISLAND) (Prod. GRAY)',\n",
       " '너를 생각해',\n",
       " 'Wake Up (Prod. 코드 쿤스트)',\n",
       " '정거장',\n",
       " '그대라는 사치',\n",
       " '다시 사랑한다면 (김필 Ver.)',\n",
       " 'Step Back',\n",
       " 'Butter',\n",
       " 'Christmas Tree',\n",
       " '별빛 같은 나의 사랑아',\n",
       " 'OHAYO MY NIGHT',\n",
       " '문득',\n",
       " 'Permission to Dance',\n",
       " '잊었니',\n",
       " 'HERO',\n",
       " 'My Universe',\n",
       " '바라만 본다',\n",
       " '낙하 (with 아이유)',\n",
       " '끝사랑',\n",
       " 'Dynamite',\n",
       " '우리가 헤어져야 했던 이유',\n",
       " '러브레터',\n",
       " 'Celebrity',\n",
       " 'Bk Love',\n",
       " 'Still I Love You',\n",
       " 'Weekend',\n",
       " '그게 더 편할 것 같아 (N번째 연애 X 멜로망스)',\n",
       " '헤픈 우연',\n",
       " '너',\n",
       " '서랍',\n",
       " '라일락',\n",
       " '밤하늘의 별을(2020)',\n",
       " 'Bad Habits',\n",
       " '고백',\n",
       " '이별후회',\n",
       " '어떻게 이별까지 사랑하겠어, 널 사랑하는 거지',\n",
       " 'MBTI (Feat. 쿠기 & 로꼬) (Prod. GRAY)',\n",
       " '찰나가 영원이 될 때 (The Eternal Moment)',\n",
       " '사이렌 Remix (Feat. UNEDUCATED KID, Paul Blanco)',\n",
       " '모든 날, 모든 순간 (Every day, Every Moment)',\n",
       " '안녕 우린 헤어져야만 해',\n",
       " \"롤린 (Rollin')\",\n",
       " '추억은 만남보다 이별에 남아',\n",
       " '내 손을 잡아',\n",
       " '매일 크리스마스 (Everyday Christmas)',\n",
       " 'Dun Dun Dance',\n",
       " '밝게 빛나는 별이 되어 비춰줄게',\n",
       " '시간을 거슬러 (낮에 뜨는 달 X 케이윌)',\n",
       " 'Off My Face',\n",
       " 'Snowman',\n",
       " '계단말고 엘리베이터',\n",
       " 'Blueming',\n",
       " '봄날',\n",
       " '오늘도 빛나는 너에게 (To You My Light) (Feat.이라온)',\n",
       " '비가 오는 날엔 (2021)',\n",
       " '작은 것들을 위한 시 (Boy With Luv) (Feat. Halsey)',\n",
       " '좋아좋아',\n",
       " 'Savage Love (Laxed - Siren Beat) (BTS Remix)',\n",
       " 'Queendom',\n",
       " '멜로디',\n",
       " '죽을 만큼 아파서 (Feat. JAMIE (제이미))',\n",
       " 'DUMB DUMB',\n",
       " '취기를 빌려 (취향저격 그녀 X 산들)',\n",
       " '호우주의 (Feat. 개코, 넉살 (Nucksal)) (Prod. 코드 쿤스트)',\n",
       " '그날에 나는 맘이 편했을까',\n",
       " '너의 모든 순간',\n",
       " '탕!♡',\n",
       " 'Life Goes On',\n",
       " '비와 당신',\n",
       " 'Santa Tell Me',\n",
       " '나 그댈위해 시 한편을 쓰겠어',\n",
       " '깐부 (Feat. 염따, ASH ISLAND) (Prod. TOIL)',\n",
       " '밤새 서로 미루다',\n",
       " 'ASAP',\n",
       " 'All I Want for Christmas Is You',\n",
       " '언덕나무',\n",
       " '너와 나의 Memories',\n",
       " '19금\\nPeaches (Feat. Daniel Caesar & Giveon)',\n",
       " '미리 메리 크리스마스 (Feat. 천둥 Of MBLAQ)']"
      ]
     },
     "execution_count": 23,
     "metadata": {},
     "output_type": "execute_result"
    }
   ],
   "source": [
    "song = []\n",
    "for i in range(0,300,3) :\n",
    "    song.append(soup3.select('div.ellipsis')[i].text[1:-1])\n",
    "\n",
    "song"
   ]
  },
  {
   "cell_type": "code",
   "execution_count": 24,
   "id": "ac9596cc",
   "metadata": {},
   "outputs": [],
   "source": [
    "# 쉬운 방법\n",
    "title = soup3.select('div.ellipsis.rank01 > span > a')"
   ]
  },
  {
   "cell_type": "code",
   "execution_count": 25,
   "id": "34ad4b62",
   "metadata": {
    "collapsed": true
   },
   "outputs": [
    {
     "name": "stdout",
     "output_type": "stream",
     "text": [
      "Counting Stars (Feat. Beenzino)\n",
      "회전목마 (Feat. Zion.T, 원슈타인) (Prod. Slom)\n",
      "사랑은 늘 도망가\n",
      "리무진 (Feat. MINO) (Prod. GRAY)\n",
      "겨울잠\n",
      "ELEVEN\n",
      "취중고백\n",
      "만남은 쉽고 이별은 어려워 (Feat. Leellamarz) (Prod. TOIL)\n",
      "눈이 오잖아(Feat.헤이즈)\n",
      "Dreams Come True\n",
      "strawberry moon\n",
      "드라마\n",
      "다정히 내 이름을 부르면\n",
      "불협화음 (Feat. AKMU) (Prod. GRAY)\n",
      "Savage\n",
      "신호등\n",
      "STAY\n",
      "이제 나만 믿어요\n",
      "Next Level\n",
      "흰눈\n",
      "쉬어 (Feat. MINO) (Prod. GRAY)\n",
      "네가 없는 밤 (Feat. ASH ISLAND) (Prod. GRAY)\n",
      "너를 생각해\n",
      "Wake Up (Prod. 코드 쿤스트)\n",
      "정거장\n",
      "그대라는 사치\n",
      "다시 사랑한다면 (김필 Ver.)\n",
      "Step Back\n",
      "Butter\n",
      "Christmas Tree\n",
      "별빛 같은 나의 사랑아\n",
      "OHAYO MY NIGHT\n",
      "문득\n",
      "Permission to Dance\n",
      "잊었니\n",
      "HERO\n",
      "My Universe\n",
      "바라만 본다\n",
      "낙하 (with 아이유)\n",
      "끝사랑\n",
      "Dynamite\n",
      "우리가 헤어져야 했던 이유\n",
      "러브레터\n",
      "Celebrity\n",
      "Bk Love\n",
      "Still I Love You\n",
      "Weekend\n",
      "그게 더 편할 것 같아 (N번째 연애 X 멜로망스)\n",
      "헤픈 우연\n",
      "너\n",
      "서랍\n",
      "라일락\n",
      "밤하늘의 별을(2020)\n",
      "Bad Habits\n",
      "고백\n",
      "이별후회\n",
      "어떻게 이별까지 사랑하겠어, 널 사랑하는 거지\n",
      "MBTI (Feat. 쿠기 & 로꼬) (Prod. GRAY)\n",
      "찰나가 영원이 될 때 (The Eternal Moment)\n",
      "사이렌 Remix (Feat. UNEDUCATED KID, Paul Blanco)\n",
      "모든 날, 모든 순간 (Every day, Every Moment)\n",
      "안녕 우린 헤어져야만 해\n",
      "롤린 (Rollin')\n",
      "추억은 만남보다 이별에 남아\n",
      "내 손을 잡아\n",
      "매일 크리스마스 (Everyday Christmas)\n",
      "Dun Dun Dance\n",
      "밝게 빛나는 별이 되어 비춰줄게\n",
      "시간을 거슬러 (낮에 뜨는 달 X 케이윌)\n",
      "Off My Face\n",
      "Snowman\n",
      "계단말고 엘리베이터\n",
      "Blueming\n",
      "봄날\n",
      "오늘도 빛나는 너에게 (To You My Light) (Feat.이라온)\n",
      "비가 오는 날엔 (2021)\n",
      "작은 것들을 위한 시 (Boy With Luv) (Feat. Halsey)\n",
      "좋아좋아\n",
      "Savage Love (Laxed - Siren Beat) (BTS Remix)\n",
      "Queendom\n",
      "멜로디\n",
      "죽을 만큼 아파서 (Feat. JAMIE (제이미))\n",
      "DUMB DUMB\n",
      "취기를 빌려 (취향저격 그녀 X 산들)\n",
      "호우주의 (Feat. 개코, 넉살 (Nucksal)) (Prod. 코드 쿤스트)\n",
      "그날에 나는 맘이 편했을까\n",
      "너의 모든 순간\n",
      "탕!♡\n",
      "Life Goes On\n",
      "비와 당신\n",
      "Santa Tell Me\n",
      "나 그댈위해 시 한편을 쓰겠어\n",
      "깐부 (Feat. 염따, ASH ISLAND) (Prod. TOIL)\n",
      "밤새 서로 미루다\n",
      "ASAP\n",
      "All I Want for Christmas Is You\n",
      "언덕나무\n",
      "너와 나의 Memories\n",
      "Peaches (Feat. Daniel Caesar & Giveon)\n",
      "미리 메리 크리스마스 (Feat. 천둥 Of MBLAQ)\n"
     ]
    }
   ],
   "source": [
    "for i in title :\n",
    "    print(i.text)"
   ]
  },
  {
   "cell_type": "code",
   "execution_count": 26,
   "id": "3dfe98c4",
   "metadata": {
    "collapsed": true
   },
   "outputs": [
    {
     "data": {
      "text/plain": [
       "[<a href=\"javascript:melon.link.goArtistDetail('2758756');\" title=\"BE'O (비오) - 페이지 이동\">BE'O (비오)</a>,\n",
       " <a href=\"javascript:melon.link.goArtistDetail('2561475');\" title=\"sokodomo - 페이지 이동\">sokodomo</a>,\n",
       " <a href=\"javascript:melon.link.goArtistDetail('994944');\" title=\"임영웅 - 페이지 이동\">임영웅</a>,\n",
       " <a href=\"javascript:melon.link.goArtistDetail('2758756');\" title=\"BE'O (비오) - 페이지 이동\">BE'O (비오)</a>,\n",
       " <a href=\"javascript:melon.link.goArtistDetail('261143');\" title=\"아이유 - 페이지 이동\">아이유</a>,\n",
       " <a href=\"javascript:melon.link.goArtistDetail('3055146');\" title=\"IVE (아이브) - 페이지 이동\">IVE (아이브)</a>,\n",
       " <a href=\"javascript:melon.link.goArtistDetail('839736');\" title=\"김민석 (멜로망스) - 페이지 이동\">김민석 (멜로망스)</a>,\n",
       " <a href=\"javascript:melon.link.goArtistDetail('241227');\" title=\"베이식 (Basick) - 페이지 이동\">베이식 (Basick)</a>,\n",
       " <a href=\"javascript:melon.link.goArtistDetail('2138620');\" title=\"이무진 - 페이지 이동\">이무진</a>,\n",
       " <a href=\"javascript:melon.link.goArtistDetail('2899555');\" title=\"aespa - 페이지 이동\">aespa</a>,\n",
       " <a href=\"javascript:melon.link.goArtistDetail('261143');\" title=\"아이유 - 페이지 이동\">아이유</a>,\n",
       " <a href=\"javascript:melon.link.goArtistDetail('261143');\" title=\"아이유 - 페이지 이동\">아이유</a>,\n",
       " <a href=\"javascript:melon.link.goArtistDetail('2863470');\" title=\"경서예지 - 페이지 이동\">경서예지</a>,\n",
       " <a href=\"javascript:melon.link.goArtistDetail('2757382');\" title=\"Mudd the student - 페이지 이동\">Mudd the student</a>,\n",
       " <a href=\"javascript:melon.link.goArtistDetail('2899555');\" title=\"aespa - 페이지 이동\">aespa</a>,\n",
       " <a href=\"javascript:melon.link.goArtistDetail('2138620');\" title=\"이무진 - 페이지 이동\">이무진</a>,\n",
       " <a href=\"javascript:melon.link.goArtistDetail('2743730');\" title=\"The Kid LAROI - 페이지 이동\">The Kid LAROI</a>,\n",
       " <a href=\"javascript:melon.link.goArtistDetail('994944');\" title=\"임영웅 - 페이지 이동\">임영웅</a>,\n",
       " <a href=\"javascript:melon.link.goArtistDetail('2899555');\" title=\"aespa - 페이지 이동\">aespa</a>,\n",
       " <a href=\"javascript:melon.link.goArtistDetail('175155');\" title=\"먼데이 키즈 (Monday Kiz) - 페이지 이동\">먼데이 키즈 (Monday Kiz)</a>,\n",
       " <a href=\"javascript:melon.link.goArtistDetail('2402561');\" title=\"아넌딜라이트(Anandelight) - 페이지 이동\">아넌딜라이트(Anandelight)</a>,\n",
       " <a href=\"javascript:melon.link.goArtistDetail('2758756');\" title=\"BE'O (비오) - 페이지 이동\">BE'O (비오)</a>,\n",
       " <a href=\"javascript:melon.link.goArtistDetail('2880487');\" title=\"주시크 (Joosiq) - 페이지 이동\">주시크 (Joosiq)</a>,\n",
       " <a href=\"javascript:melon.link.goArtistDetail('3264');\" title=\"개코 - 페이지 이동\">개코</a>,\n",
       " <a href=\"javascript:melon.link.goArtistDetail('261143');\" title=\"아이유 - 페이지 이동\">아이유</a>,\n",
       " <a href=\"javascript:melon.link.goArtistDetail('994944');\" title=\"임영웅 - 페이지 이동\">임영웅</a>,\n",
       " <a href=\"javascript:melon.link.goArtistDetail('994944');\" title=\"임영웅 - 페이지 이동\">임영웅</a>,\n",
       " <a href=\"javascript:melon.link.goArtistDetail('3063272');\" title=\"GOT the beat - 페이지 이동\">GOT the beat</a>,\n",
       " <a href=\"javascript:melon.link.goArtistDetail('672375');\" title=\"방탄소년단 - 페이지 이동\">방탄소년단</a>,\n",
       " <a href=\"javascript:melon.link.goArtistDetail('725989');\" title=\"V - 페이지 이동\">V</a>,\n",
       " <a href=\"javascript:melon.link.goArtistDetail('994944');\" title=\"임영웅 - 페이지 이동\">임영웅</a>,\n",
       " <a href=\"javascript:melon.link.goArtistDetail('785501');\" title=\"디핵 (D-Hack) - 페이지 이동\">디핵 (D-Hack)</a>,\n",
       " <a href=\"javascript:melon.link.goArtistDetail('2758756');\" title=\"BE'O (비오) - 페이지 이동\">BE'O (비오)</a>,\n",
       " <a href=\"javascript:melon.link.goArtistDetail('672375');\" title=\"방탄소년단 - 페이지 이동\">방탄소년단</a>,\n",
       " <a href=\"javascript:melon.link.goArtistDetail('994944');\" title=\"임영웅 - 페이지 이동\">임영웅</a>,\n",
       " <a href=\"javascript:melon.link.goArtistDetail('994944');\" title=\"임영웅 - 페이지 이동\">임영웅</a>,\n",
       " <a href=\"javascript:melon.link.goArtistDetail('100260');\" title=\"Coldplay - 페이지 이동\">Coldplay</a>,\n",
       " <a href=\"javascript:melon.link.goArtistDetail('2939212');\" title=\"MSG워너비(M.O.M) - 페이지 이동\">MSG워너비(M.O.M)</a>,\n",
       " <a href=\"javascript:melon.link.goArtistDetail('712452');\" title=\"AKMU (악뮤) - 페이지 이동\">AKMU (악뮤)</a>,\n",
       " <a href=\"javascript:melon.link.goArtistDetail('994944');\" title=\"임영웅 - 페이지 이동\">임영웅</a>,\n",
       " <a href=\"javascript:melon.link.goArtistDetail('672375');\" title=\"방탄소년단 - 페이지 이동\">방탄소년단</a>,\n",
       " <a href=\"javascript:melon.link.goArtistDetail('2403002');\" title=\"비비 (BIBI) - 페이지 이동\">비비 (BIBI)</a>,\n",
       " <a href=\"javascript:melon.link.goArtistDetail('261143');\" title=\"아이유 - 페이지 이동\">아이유</a>,\n",
       " <a href=\"javascript:melon.link.goArtistDetail('261143');\" title=\"아이유 - 페이지 이동\">아이유</a>,\n",
       " <a href=\"javascript:melon.link.goArtistDetail('994944');\" title=\"임영웅 - 페이지 이동\">임영웅</a>,\n",
       " <a href=\"javascript:melon.link.goArtistDetail('3060223');\" title=\"토요태 - 페이지 이동\">토요태</a>,\n",
       " <a href=\"javascript:melon.link.goArtistDetail('236797');\" title=\"태연 (TAEYEON) - 페이지 이동\">태연 (TAEYEON)</a>,\n",
       " <a href=\"javascript:melon.link.goArtistDetail('839732');\" title=\"멜로망스 - 페이지 이동\">멜로망스</a>,\n",
       " <a href=\"javascript:melon.link.goArtistDetail('751611');\" title=\"헤이즈 (Heize) - 페이지 이동\">헤이즈 (Heize)</a>,\n",
       " <a href=\"javascript:melon.link.goArtistDetail('261143');\" title=\"아이유 - 페이지 이동\">아이유</a>,\n",
       " <a href=\"javascript:melon.link.goArtistDetail('468244');\" title=\"10CM - 페이지 이동\">10CM</a>,\n",
       " <a href=\"javascript:melon.link.goArtistDetail('261143');\" title=\"아이유 - 페이지 이동\">아이유</a>,\n",
       " <a href=\"javascript:melon.link.goArtistDetail('994005');\" title=\"경서 - 페이지 이동\">경서</a>,\n",
       " <a href=\"javascript:melon.link.goArtistDetail('549800');\" title=\"Ed Sheeran - 페이지 이동\">Ed Sheeran</a>,\n",
       " <a href=\"javascript:melon.link.goArtistDetail('839732');\" title=\"멜로망스 - 페이지 이동\">멜로망스</a>,\n",
       " <a href=\"javascript:melon.link.goArtistDetail('735094');\" title=\"김나영 - 페이지 이동\">김나영</a>,\n",
       " <a href=\"javascript:melon.link.goArtistDetail('712452');\" title=\"AKMU (악뮤) - 페이지 이동\">AKMU (악뮤)</a>,\n",
       " <a href=\"javascript:melon.link.goArtistDetail('2758756');\" title=\"BE'O (비오) - 페이지 이동\">BE'O (비오)</a>,\n",
       " <a href=\"javascript:melon.link.goArtistDetail('566431');\" title=\"마크툽 (MAKTUB) - 페이지 이동\">마크툽 (MAKTUB)</a>,\n",
       " <a href=\"javascript:melon.link.goArtistDetail('2754623');\" title=\"호미들 - 페이지 이동\">호미들</a>,\n",
       " <a href=\"javascript:melon.link.goArtistDetail('752425');\" title=\"폴킴 - 페이지 이동\">폴킴</a>,\n",
       " <a href=\"javascript:melon.link.goArtistDetail('979724');\" title=\"전상근 - 페이지 이동\">전상근</a>,\n",
       " <a href=\"javascript:melon.link.goArtistDetail('531700');\" title=\"브레이브걸스 - 페이지 이동\">브레이브걸스</a>,\n",
       " <a href=\"javascript:melon.link.goArtistDetail('181188');\" title=\"정동하 - 페이지 이동\">정동하</a>,\n",
       " <a href=\"javascript:melon.link.goArtistDetail('261143');\" title=\"아이유 - 페이지 이동\">아이유</a>,\n",
       " <a href=\"javascript:melon.link.goArtistDetail('236815');\" title=\"다비치 - 페이지 이동\">다비치</a>,\n",
       " <a href=\"javascript:melon.link.goArtistDetail('857994');\" title=\"오마이걸 (OH MY GIRL) - 페이지 이동\">오마이걸 (OH MY GIRL)</a>,\n",
       " <a href=\"javascript:melon.link.goArtistDetail('2189536');\" title=\"송이한 - 페이지 이동\">송이한</a>,\n",
       " <a href=\"javascript:melon.link.goArtistDetail('175139');\" title=\"케이윌 - 페이지 이동\">케이윌</a>,\n",
       " <a href=\"javascript:melon.link.goArtistDetail('420621');\" title=\"Justin Bieber - 페이지 이동\">Justin Bieber</a>,\n",
       " <a href=\"javascript:melon.link.goArtistDetail('54103');\" title=\"Sia - 페이지 이동\">Sia</a>,\n",
       " <a href=\"javascript:melon.link.goArtistDetail('994944');\" title=\"임영웅 - 페이지 이동\">임영웅</a>,\n",
       " <a href=\"javascript:melon.link.goArtistDetail('261143');\" title=\"아이유 - 페이지 이동\">아이유</a>,\n",
       " <a href=\"javascript:melon.link.goArtistDetail('672375');\" title=\"방탄소년단 - 페이지 이동\">방탄소년단</a>,\n",
       " <a href=\"javascript:melon.link.goArtistDetail('566431');\" title=\"마크툽 (MAKTUB) - 페이지 이동\">마크툽 (MAKTUB)</a>,\n",
       " <a href=\"javascript:melon.link.goArtistDetail('751611');\" title=\"헤이즈 (Heize) - 페이지 이동\">헤이즈 (Heize)</a>,\n",
       " <a href=\"javascript:melon.link.goArtistDetail('672375');\" title=\"방탄소년단 - 페이지 이동\">방탄소년단</a>,\n",
       " <a href=\"javascript:melon.link.goArtistDetail('253606');\" title=\"조정석 - 페이지 이동\">조정석</a>,\n",
       " <a href=\"javascript:melon.link.goArtistDetail('2868396');\" title=\"Jawsh 685 - 페이지 이동\">Jawsh 685</a>,\n",
       " <a href=\"javascript:melon.link.goArtistDetail('780066');\" title=\"Red Velvet (레드벨벳) - 페이지 이동\">Red Velvet (레드벨벳)</a>,\n",
       " <a href=\"javascript:melon.link.goArtistDetail('2112495');\" title=\"ASH ISLAND - 페이지 이동\">ASH ISLAND</a>,\n",
       " <a href=\"javascript:melon.link.goArtistDetail('11538');\" title=\"MC몽 - 페이지 이동\">MC몽</a>,\n",
       " <a href=\"javascript:melon.link.goArtistDetail('968260');\" title=\"전소미 - 페이지 이동\">전소미</a>,\n",
       " <a href=\"javascript:melon.link.goArtistDetail('672392');\" title=\"산들 - 페이지 이동\">산들</a>,\n",
       " <a href=\"javascript:melon.link.goArtistDetail('2738493');\" title=\"조광일 - 페이지 이동\">조광일</a>,\n",
       " <a href=\"javascript:melon.link.goArtistDetail('718655');\" title=\"이예준 - 페이지 이동\">이예준</a>,\n",
       " <a href=\"javascript:melon.link.goArtistDetail('3305');\" title=\"성시경 - 페이지 이동\">성시경</a>,\n",
       " <a href=\"javascript:melon.link.goArtistDetail('742773');\" title=\"MINO (송민호) - 페이지 이동\">MINO (송민호)</a>,\n",
       " <a href=\"javascript:melon.link.goArtistDetail('672375');\" title=\"방탄소년단 - 페이지 이동\">방탄소년단</a>,\n",
       " <a href=\"javascript:melon.link.goArtistDetail('2138620');\" title=\"이무진 - 페이지 이동\">이무진</a>,\n",
       " <a href=\"javascript:melon.link.goArtistDetail('597451');\" title=\"Ariana Grande - 페이지 이동\">Ariana Grande</a>,\n",
       " <a href=\"javascript:melon.link.goArtistDetail('858125');\" title=\"케이시 (Kassy) - 페이지 이동\">케이시 (Kassy)</a>,\n",
       " <a href=\"javascript:melon.link.goArtistDetail('254105');\" title=\"쿤타 - 페이지 이동\">쿤타</a>,\n",
       " <a href=\"javascript:melon.link.goArtistDetail('28772');\" title=\"존박 - 페이지 이동\">존박</a>,\n",
       " <a href=\"javascript:melon.link.goArtistDetail('2899290');\" title=\"STAYC(스테이씨) - 페이지 이동\">STAYC(스테이씨)</a>,\n",
       " <a href=\"javascript:melon.link.goArtistDetail('2274');\" title=\"Mariah Carey - 페이지 이동\">Mariah Carey</a>,\n",
       " <a href=\"javascript:melon.link.goArtistDetail('723192');\" title=\"이승윤 - 페이지 이동\">이승윤</a>,\n",
       " <a href=\"javascript:melon.link.goArtistDetail('202530');\" title=\"염따 - 페이지 이동\">염따</a>,\n",
       " <a href=\"javascript:melon.link.goArtistDetail('420621');\" title=\"Justin Bieber - 페이지 이동\">Justin Bieber</a>,\n",
       " <a href=\"javascript:melon.link.goArtistDetail('261143');\" title=\"아이유 - 페이지 이동\">아이유</a>]"
      ]
     },
     "execution_count": 26,
     "metadata": {},
     "output_type": "execute_result"
    }
   ],
   "source": [
    "# :nth - child(1) : 자식 중 첫번째\n",
    "singer = soup3.select('div.ellipsis.rank02 > a:nth-child(1)')\n",
    "singer"
   ]
  },
  {
   "cell_type": "code",
   "execution_count": 27,
   "id": "389dc360",
   "metadata": {},
   "outputs": [],
   "source": [
    "title_list =[]\n",
    "singer_list = []\n",
    "rank_list = []\n",
    "\n",
    "for i in range(len(title)) :\n",
    "    title_list.append(title[i].text)\n",
    "    singer_list.append(singer[i].text)\n",
    "    rank_list.append(i+1)"
   ]
  },
  {
   "cell_type": "code",
   "execution_count": 28,
   "id": "13d55f98",
   "metadata": {},
   "outputs": [],
   "source": [
    "import pandas as pd"
   ]
  },
  {
   "cell_type": "code",
   "execution_count": 29,
   "id": "dbf8763a",
   "metadata": {},
   "outputs": [],
   "source": [
    "dic = {'노래제목':title_list, '가수': singer_list, '순위':rank_list}"
   ]
  },
  {
   "cell_type": "code",
   "execution_count": 34,
   "id": "d4c716fb",
   "metadata": {},
   "outputs": [
    {
     "data": {
      "text/html": [
       "<div>\n",
       "<style scoped>\n",
       "    .dataframe tbody tr th:only-of-type {\n",
       "        vertical-align: middle;\n",
       "    }\n",
       "\n",
       "    .dataframe tbody tr th {\n",
       "        vertical-align: top;\n",
       "    }\n",
       "\n",
       "    .dataframe thead th {\n",
       "        text-align: right;\n",
       "    }\n",
       "</style>\n",
       "<table border=\"1\" class=\"dataframe\">\n",
       "  <thead>\n",
       "    <tr style=\"text-align: right;\">\n",
       "      <th></th>\n",
       "      <th>노래제목</th>\n",
       "      <th>가수</th>\n",
       "      <th>순위</th>\n",
       "    </tr>\n",
       "  </thead>\n",
       "  <tbody>\n",
       "    <tr>\n",
       "      <th>0</th>\n",
       "      <td>Counting Stars (Feat. Beenzino)</td>\n",
       "      <td>BE'O (비오)</td>\n",
       "      <td>1</td>\n",
       "    </tr>\n",
       "    <tr>\n",
       "      <th>1</th>\n",
       "      <td>회전목마 (Feat. Zion.T, 원슈타인) (Prod. Slom)</td>\n",
       "      <td>sokodomo</td>\n",
       "      <td>2</td>\n",
       "    </tr>\n",
       "    <tr>\n",
       "      <th>2</th>\n",
       "      <td>사랑은 늘 도망가</td>\n",
       "      <td>임영웅</td>\n",
       "      <td>3</td>\n",
       "    </tr>\n",
       "    <tr>\n",
       "      <th>3</th>\n",
       "      <td>리무진 (Feat. MINO) (Prod. GRAY)</td>\n",
       "      <td>BE'O (비오)</td>\n",
       "      <td>4</td>\n",
       "    </tr>\n",
       "    <tr>\n",
       "      <th>4</th>\n",
       "      <td>겨울잠</td>\n",
       "      <td>아이유</td>\n",
       "      <td>5</td>\n",
       "    </tr>\n",
       "    <tr>\n",
       "      <th>...</th>\n",
       "      <td>...</td>\n",
       "      <td>...</td>\n",
       "      <td>...</td>\n",
       "    </tr>\n",
       "    <tr>\n",
       "      <th>95</th>\n",
       "      <td>All I Want for Christmas Is You</td>\n",
       "      <td>Mariah Carey</td>\n",
       "      <td>96</td>\n",
       "    </tr>\n",
       "    <tr>\n",
       "      <th>96</th>\n",
       "      <td>언덕나무</td>\n",
       "      <td>이승윤</td>\n",
       "      <td>97</td>\n",
       "    </tr>\n",
       "    <tr>\n",
       "      <th>97</th>\n",
       "      <td>너와 나의 Memories</td>\n",
       "      <td>염따</td>\n",
       "      <td>98</td>\n",
       "    </tr>\n",
       "    <tr>\n",
       "      <th>98</th>\n",
       "      <td>Peaches (Feat. Daniel Caesar &amp; Giveon)</td>\n",
       "      <td>Justin Bieber</td>\n",
       "      <td>99</td>\n",
       "    </tr>\n",
       "    <tr>\n",
       "      <th>99</th>\n",
       "      <td>미리 메리 크리스마스 (Feat. 천둥 Of MBLAQ)</td>\n",
       "      <td>아이유</td>\n",
       "      <td>100</td>\n",
       "    </tr>\n",
       "  </tbody>\n",
       "</table>\n",
       "<p>100 rows × 3 columns</p>\n",
       "</div>"
      ],
      "text/plain": [
       "                                      노래제목             가수   순위\n",
       "0          Counting Stars (Feat. Beenzino)      BE'O (비오)    1\n",
       "1   회전목마 (Feat. Zion.T, 원슈타인) (Prod. Slom)       sokodomo    2\n",
       "2                                사랑은 늘 도망가            임영웅    3\n",
       "3            리무진 (Feat. MINO) (Prod. GRAY)      BE'O (비오)    4\n",
       "4                                      겨울잠            아이유    5\n",
       "..                                     ...            ...  ...\n",
       "95         All I Want for Christmas Is You   Mariah Carey   96\n",
       "96                                    언덕나무            이승윤   97\n",
       "97                          너와 나의 Memories             염따   98\n",
       "98  Peaches (Feat. Daniel Caesar & Giveon)  Justin Bieber   99\n",
       "99         미리 메리 크리스마스 (Feat. 천둥 Of MBLAQ)            아이유  100\n",
       "\n",
       "[100 rows x 3 columns]"
      ]
     },
     "execution_count": 34,
     "metadata": {},
     "output_type": "execute_result"
    }
   ],
   "source": [
    "df = pd.DataFrame(dic)\n",
    "df"
   ]
  },
  {
   "cell_type": "code",
   "execution_count": 35,
   "id": "dc071837",
   "metadata": {},
   "outputs": [
    {
     "data": {
      "text/html": [
       "<div>\n",
       "<style scoped>\n",
       "    .dataframe tbody tr th:only-of-type {\n",
       "        vertical-align: middle;\n",
       "    }\n",
       "\n",
       "    .dataframe tbody tr th {\n",
       "        vertical-align: top;\n",
       "    }\n",
       "\n",
       "    .dataframe thead th {\n",
       "        text-align: right;\n",
       "    }\n",
       "</style>\n",
       "<table border=\"1\" class=\"dataframe\">\n",
       "  <thead>\n",
       "    <tr style=\"text-align: right;\">\n",
       "      <th></th>\n",
       "      <th>노래제목</th>\n",
       "      <th>가수</th>\n",
       "    </tr>\n",
       "    <tr>\n",
       "      <th>순위</th>\n",
       "      <th></th>\n",
       "      <th></th>\n",
       "    </tr>\n",
       "  </thead>\n",
       "  <tbody>\n",
       "    <tr>\n",
       "      <th>1</th>\n",
       "      <td>Counting Stars (Feat. Beenzino)</td>\n",
       "      <td>BE'O (비오)</td>\n",
       "    </tr>\n",
       "    <tr>\n",
       "      <th>2</th>\n",
       "      <td>회전목마 (Feat. Zion.T, 원슈타인) (Prod. Slom)</td>\n",
       "      <td>sokodomo</td>\n",
       "    </tr>\n",
       "    <tr>\n",
       "      <th>3</th>\n",
       "      <td>사랑은 늘 도망가</td>\n",
       "      <td>임영웅</td>\n",
       "    </tr>\n",
       "    <tr>\n",
       "      <th>4</th>\n",
       "      <td>리무진 (Feat. MINO) (Prod. GRAY)</td>\n",
       "      <td>BE'O (비오)</td>\n",
       "    </tr>\n",
       "    <tr>\n",
       "      <th>5</th>\n",
       "      <td>겨울잠</td>\n",
       "      <td>아이유</td>\n",
       "    </tr>\n",
       "    <tr>\n",
       "      <th>...</th>\n",
       "      <td>...</td>\n",
       "      <td>...</td>\n",
       "    </tr>\n",
       "    <tr>\n",
       "      <th>96</th>\n",
       "      <td>All I Want for Christmas Is You</td>\n",
       "      <td>Mariah Carey</td>\n",
       "    </tr>\n",
       "    <tr>\n",
       "      <th>97</th>\n",
       "      <td>언덕나무</td>\n",
       "      <td>이승윤</td>\n",
       "    </tr>\n",
       "    <tr>\n",
       "      <th>98</th>\n",
       "      <td>너와 나의 Memories</td>\n",
       "      <td>염따</td>\n",
       "    </tr>\n",
       "    <tr>\n",
       "      <th>99</th>\n",
       "      <td>Peaches (Feat. Daniel Caesar &amp; Giveon)</td>\n",
       "      <td>Justin Bieber</td>\n",
       "    </tr>\n",
       "    <tr>\n",
       "      <th>100</th>\n",
       "      <td>미리 메리 크리스마스 (Feat. 천둥 Of MBLAQ)</td>\n",
       "      <td>아이유</td>\n",
       "    </tr>\n",
       "  </tbody>\n",
       "</table>\n",
       "<p>100 rows × 2 columns</p>\n",
       "</div>"
      ],
      "text/plain": [
       "                                       노래제목             가수\n",
       "순위                                                        \n",
       "1           Counting Stars (Feat. Beenzino)      BE'O (비오)\n",
       "2    회전목마 (Feat. Zion.T, 원슈타인) (Prod. Slom)       sokodomo\n",
       "3                                 사랑은 늘 도망가            임영웅\n",
       "4             리무진 (Feat. MINO) (Prod. GRAY)      BE'O (비오)\n",
       "5                                       겨울잠            아이유\n",
       "..                                      ...            ...\n",
       "96          All I Want for Christmas Is You   Mariah Carey\n",
       "97                                     언덕나무            이승윤\n",
       "98                           너와 나의 Memories             염따\n",
       "99   Peaches (Feat. Daniel Caesar & Giveon)  Justin Bieber\n",
       "100         미리 메리 크리스마스 (Feat. 천둥 Of MBLAQ)            아이유\n",
       "\n",
       "[100 rows x 2 columns]"
      ]
     },
     "execution_count": 35,
     "metadata": {},
     "output_type": "execute_result"
    }
   ],
   "source": [
    "df.set_index('순위', inplace = True)\n",
    "df"
   ]
  },
  {
   "cell_type": "code",
   "execution_count": null,
   "id": "d0c01cb0",
   "metadata": {},
   "outputs": [],
   "source": []
  }
 ],
 "metadata": {
  "kernelspec": {
   "display_name": "Python 3 (ipykernel)",
   "language": "python",
   "name": "python3"
  },
  "language_info": {
   "codemirror_mode": {
    "name": "ipython",
    "version": 3
   },
   "file_extension": ".py",
   "mimetype": "text/x-python",
   "name": "python",
   "nbconvert_exporter": "python",
   "pygments_lexer": "ipython3",
   "version": "3.9.7"
  }
 },
 "nbformat": 4,
 "nbformat_minor": 5
}
